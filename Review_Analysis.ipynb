{
 "cells": [
  {
   "cell_type": "markdown",
   "id": "89dc4221",
   "metadata": {},
   "source": [
    "# Understanding the Role of Gender in Book Reviews\n",
    "\n",
    "## CS 6471: Computational Social Science - Project\n",
    "Author: Pratyusha Maiti\n",
    "\n",
    "Affiliation: Georgia Institute of Technology\n",
    "\n",
    "### Research Objectives\n",
    "- Do book reviews by different genders differ in stylistic features?\n",
    "- Do book reviews by different genders differ w.r.t their content?\n",
    "- Are book reviews written by males perceived as more useful than book reviews written by females?"
   ]
  },
  {
   "cell_type": "markdown",
   "id": "6b0dc64f",
   "metadata": {},
   "source": [
    "## 0. Set Up"
   ]
  },
  {
   "cell_type": "code",
   "execution_count": 15,
   "id": "339c00ce",
   "metadata": {},
   "outputs": [
    {
     "name": "stderr",
     "output_type": "stream",
     "text": [
      "[nltk_data] Downloading package stopwords to\n",
      "[nltk_data]     /Users/pratyushamaiti/nltk_data...\n",
      "[nltk_data]   Package stopwords is already up-to-date!\n",
      "[nltk_data] Downloading package punkt to\n",
      "[nltk_data]     /Users/pratyushamaiti/nltk_data...\n",
      "[nltk_data]   Package punkt is already up-to-date!\n",
      "[nltk_data] Downloading package wordnet to\n",
      "[nltk_data]     /Users/pratyushamaiti/nltk_data...\n",
      "[nltk_data]   Package wordnet is already up-to-date!\n",
      "[nltk_data] Downloading package averaged_perceptron_tagger to\n",
      "[nltk_data]     /Users/pratyushamaiti/nltk_data...\n",
      "[nltk_data]   Package averaged_perceptron_tagger is already up-to-\n",
      "[nltk_data]       date!\n",
      "[nltk_data] Downloading package universal_tagset to\n",
      "[nltk_data]     /Users/pratyushamaiti/nltk_data...\n",
      "[nltk_data]   Package universal_tagset is already up-to-date!\n"
     ]
    },
    {
     "name": "stdout",
     "output_type": "stream",
     "text": [
      "Requirement already satisfied: contractions in /opt/homebrew/anaconda3/lib/python3.8/site-packages (0.1.66)\n",
      "Requirement already satisfied: textsearch>=0.0.21 in /opt/homebrew/anaconda3/lib/python3.8/site-packages (from contractions) (0.0.21)\n",
      "Requirement already satisfied: pyahocorasick in /opt/homebrew/anaconda3/lib/python3.8/site-packages (from textsearch>=0.0.21->contractions) (1.4.4)\n",
      "Requirement already satisfied: anyascii in /opt/homebrew/anaconda3/lib/python3.8/site-packages (from textsearch>=0.0.21->contractions) (0.3.0)\n",
      "\u001b[33mWARNING: You are using pip version 21.3.1; however, version 22.0.3 is available.\n",
      "You should consider upgrading via the '/opt/homebrew/anaconda3/bin/python -m pip install --upgrade pip' command.\u001b[0m\n",
      "Requirement already satisfied: tqdm in /opt/homebrew/anaconda3/lib/python3.8/site-packages (4.59.0)\n",
      "\u001b[33mWARNING: You are using pip version 21.3.1; however, version 22.0.3 is available.\n",
      "You should consider upgrading via the '/opt/homebrew/anaconda3/bin/python -m pip install --upgrade pip' command.\u001b[0m\n"
     ]
    }
   ],
   "source": [
    "import nltk\n",
    "nltk.download('stopwords')\n",
    "nltk.download('punkt')\n",
    "nltk.download('wordnet')\n",
    "nltk.download('averaged_perceptron_tagger')\n",
    "nltk.download('universal_tagset')\n",
    "!pip install contractions\n",
    "!pip install tqdm"
   ]
  },
  {
   "cell_type": "markdown",
   "id": "e501f053",
   "metadata": {},
   "source": [
    "## 1. Review Data Cleaning\n",
    "\n",
    "Parameters:\n",
    " - Expand contractions\n",
    " - Remove stopwords\n",
    " - Remove junk and html\n",
    " - Tokenize\n",
    " - Lemmatize\n",
    " "
   ]
  },
  {
   "cell_type": "code",
   "execution_count": 10,
   "id": "993b48d7",
   "metadata": {},
   "outputs": [],
   "source": [
    "import contractions \n",
    "import re\n",
    "from nltk.corpus import stopwords\n",
    "import numpy as np\n",
    "import matplotlib.pyplot as plt "
   ]
  },
  {
   "cell_type": "markdown",
   "id": "f603c744",
   "metadata": {},
   "source": [
    "Tweak the below parameters as you like. We are keeping stopwords at this point to study the use of hedge words and pronouns in the review text."
   ]
  },
  {
   "cell_type": "code",
   "execution_count": 3,
   "id": "32292d70",
   "metadata": {},
   "outputs": [],
   "source": [
    "expand_contractions = True\n",
    "remove_stopwords = False\n",
    "format_text = True\n",
    "tokenize = True\n",
    "lemmatize = False\n",
    "\n",
    "def clean_text(text):\n",
    "    '''Text Preprocessing '''\n",
    "    \n",
    "    # Convert words to lower case\n",
    "    text = text.lower()\n",
    "    split_text = text.split()\n",
    "    \n",
    "    # Expand contractions\n",
    "    if expand_contractions:\n",
    "        expanded_words = []   \n",
    "        for word in split_text:\n",
    "            expanded_words.append(contractions.fix(word))\n",
    "        text = \" \".join(expanded_words)\n",
    "\n",
    "    # Format words and remove unwanted characters\n",
    "    if format_text:\n",
    "        text = re.sub(r'https?:\\/\\/.*[\\r\\n]*', '', text, flags=re.MULTILINE)\n",
    "        text = re.sub(r'\\<a href', ' ', text)\n",
    "        text = re.sub(r'&amp;', '', text) \n",
    "        text = re.sub(r'[_\"\\-;%()|+&=*%.,!?:#$@\\[\\]/]', ' ', text)\n",
    "        text = re.sub(r'<br />', ' ', text)\n",
    "        text = re.sub(r'\\'', ' ', text)\n",
    "    \n",
    "    # remove stopwords\n",
    "    if remove_stopwords:\n",
    "        split_text = text.split()\n",
    "        stops = set(stopwords.words(\"english\"))\n",
    "        word = [w for w in split_text if not w in stops]\n",
    "        text = \" \".join(word)\n",
    "\n",
    "    # Tokenize each word\n",
    "    if tokenize:\n",
    "        text =  nltk.WordPunctTokenizer().tokenize(text)\n",
    "    \n",
    "    # Lemmatize each token\n",
    "    if lemmatize:\n",
    "        lemm = nltk.stem.WordNetLemmatizer()\n",
    "        text = list(map(lambda word:list(map(lemm.lemmatize, word)), text))\n",
    "    \n",
    "    return text"
   ]
  },
  {
   "cell_type": "markdown",
   "id": "4c1ea285",
   "metadata": {},
   "source": [
    "### 1.1 Combine review data and gender info\n",
    "\n",
    "The original dataset consists of anonymized names and reviews, but a mapping to the original user-id on Goodreads has been provided. Using the mapping and Goodreads API, we obtain the First Names of the reviewers and use gender_guesser to map the first names to possible genders. The final gender info is stored in goodreads_names_id_gender.csv. "
   ]
  },
  {
   "cell_type": "code",
   "execution_count": 4,
   "id": "2cff392e",
   "metadata": {},
   "outputs": [
    {
     "name": "stdout",
     "output_type": "stream",
     "text": [
      "<class 'pandas.core.frame.DataFrame'>\n",
      "RangeIndex: 852197 entries, 0 to 852196\n",
      "Data columns (total 12 columns):\n",
      " #   Column         Non-Null Count   Dtype  \n",
      "---  ------         --------------   -----  \n",
      " 0   id             852197 non-null  int64  \n",
      " 1   name           850616 non-null  object \n",
      " 2   username       252735 non-null  object \n",
      " 3   age            242043 non-null  float64\n",
      " 4   location       665382 non-null  object \n",
      " 5   joined         820599 non-null  object \n",
      " 6   friends_count  820599 non-null  float64\n",
      " 7   groups_count   820599 non-null  float64\n",
      " 8   reviews_count  820599 non-null  float64\n",
      " 9   first_name     850555 non-null  object \n",
      " 10  gender         852197 non-null  object \n",
      " 11  user_id        852197 non-null  object \n",
      "dtypes: float64(4), int64(1), object(7)\n",
      "memory usage: 78.0+ MB\n"
     ]
    }
   ],
   "source": [
    "import pandas as pd\n",
    "gendered_data = pd.read_csv('goodreads_names_id_gender.csv')\n",
    "gendered_data.columns = ['id', 'name', 'username', 'age', 'location', 'joined', 'friends_count','groups_count', 'reviews_count', 'first_name', 'gender', 'user_id']\n",
    "gendered_data.info()"
   ]
  },
  {
   "cell_type": "markdown",
   "id": "24ec105d",
   "metadata": {},
   "source": [
    "### 1.2 Merge and clean the gender and review data\n",
    "\n",
    "- Merge pd dfs for review data and gender info based on user ID\n",
    "- Drop the rows where gender is unknown"
   ]
  },
  {
   "cell_type": "code",
   "execution_count": 6,
   "id": "0d5e71e4",
   "metadata": {},
   "outputs": [
    {
     "name": "stdout",
     "output_type": "stream",
     "text": [
      "<class 'pandas.core.frame.DataFrame'>\n",
      "RangeIndex: 1267740 entries, 0 to 1267739\n",
      "Data columns (total 22 columns):\n",
      " #   Column         Non-Null Count    Dtype  \n",
      "---  ------         --------------    -----  \n",
      " 0   user_id        1267740 non-null  object \n",
      " 1   book_id        1267740 non-null  object \n",
      " 2   review_id      1267740 non-null  object \n",
      " 3   rating         1267740 non-null  int64  \n",
      " 4   review_text    1267740 non-null  object \n",
      " 5   date_added     1267740 non-null  object \n",
      " 6   date_updated   1267740 non-null  object \n",
      " 7   read_at        1267740 non-null  object \n",
      " 8   started_at     1267740 non-null  object \n",
      " 9   n_votes        1267740 non-null  int64  \n",
      " 10  n_comments     1267740 non-null  int64  \n",
      " 11  id             1267740 non-null  float64\n",
      " 12  name           1267740 non-null  object \n",
      " 13  username       647310 non-null   object \n",
      " 14  age            582643 non-null   float64\n",
      " 15  location       915311 non-null   object \n",
      " 16  joined         1202883 non-null  object \n",
      " 17  friends_count  1202883 non-null  float64\n",
      " 18  groups_count   1202883 non-null  float64\n",
      " 19  reviews_count  1202883 non-null  float64\n",
      " 20  first_name     1267740 non-null  object \n",
      " 21  gender         1267740 non-null  object \n",
      "dtypes: float64(5), int64(3), object(14)\n",
      "memory usage: 212.8+ MB\n"
     ]
    }
   ],
   "source": [
    "import gzip\n",
    "import json\n",
    "\n",
    "def load_data(file_name, head = 500):\n",
    "    count = 0\n",
    "    data = []\n",
    "    with gzip.open(file_name) as fin:\n",
    "        for l in fin:\n",
    "            d = json.loads(l)\n",
    "            count += 1\n",
    "            data.append(d)\n",
    "            \n",
    "            # break if reaches the 100th line\n",
    "            if (head is not None) and (count > head):\n",
    "                break\n",
    "    return data\n",
    "\n",
    "goodreads_reviews_mystery_thriller_crime = load_data('goodreads_reviews_mystery_thriller_crime.json.gz',1849235)\n",
    "goodreads_reviews_mystery_thriller_crime_df = pd.DataFrame(goodreads_reviews_mystery_thriller_crime)\n",
    "\n",
    "gendered_reviews_mtc = pd.merge(goodreads_reviews_mystery_thriller_crime_df, gendered_data, on='user_id', how='left')\n",
    "\n",
    "gendered_reviews_mtc = gendered_reviews_mtc[gendered_reviews_mtc.gender != 'unknown']\n",
    "gendered_reviews_mtc = gendered_reviews_mtc.dropna(subset=['gender'])\n",
    "gendered_reviews_mtc = gendered_reviews_mtc.reset_index(drop=True)\n",
    "gendered_reviews_mtc.info()"
   ]
  },
  {
   "cell_type": "markdown",
   "id": "b4b9b057",
   "metadata": {},
   "source": [
    "**Note: First takeaway is that the Goodreads gender ratio is highly skewed as shown below:**"
   ]
  },
  {
   "cell_type": "code",
   "execution_count": 24,
   "id": "d302ace2",
   "metadata": {},
   "outputs": [
    {
     "name": "stdout",
     "output_type": "stream",
     "text": [
      "female    954765\n",
      "male      312975\n",
      "Name: gender, dtype: int64\n"
     ]
    },
    {
     "data": {
      "text/plain": [
       "<AxesSubplot:ylabel='gender'>"
      ]
     },
     "execution_count": 24,
     "metadata": {},
     "output_type": "execute_result"
    },
    {
     "data": {
      "image/png": "[encoded data removed]",
      "text/plain": [
       "<Figure size 432x288 with 1 Axes>"
      ]
     },
     "metadata": {},
     "output_type": "display_data"
    }
   ],
   "source": [
    "print(gendered_reviews_mtc['gender'].value_counts())\n",
    "gendered_reviews_mtc.gender.value_counts().sort_values().plot(kind = 'pie')"
   ]
  },
  {
   "cell_type": "markdown",
   "id": "3b55944e",
   "metadata": {},
   "source": [
    "### 1.3 Generate cleaned review data\n",
    "\n",
    "- Run clean_text function on a subset of review data and use it for subsequent analysis.\n",
    "- For now, we select gender balanced data of 30,000 reviews (15,000 reviews by each gender) and randomise the content"
   ]
  },
  {
   "cell_type": "code",
   "execution_count": 20,
   "id": "613f92da",
   "metadata": {},
   "outputs": [],
   "source": [
    "from tqdm import tqdm\n",
    "\n",
    "def clean_review(reviews_set):\n",
    "    pd.options.mode.chained_assignment = None\n",
    "    for idx in tqdm(range(reviews_set.shape[0])):\n",
    "        reviews_set['review_text'][idx] = ' '.join(clean_text(reviews_set['review_text'][idx]))"
   ]
  },
  {
   "cell_type": "code",
   "execution_count": 18,
   "id": "625ce0cc",
   "metadata": {},
   "outputs": [
    {
     "data": {
      "text/html": [
       "<div>\n",
       "<style scoped>\n",
       "    .dataframe tbody tr th:only-of-type {\n",
       "        vertical-align: middle;\n",
       "    }\n",
       "\n",
       "    .dataframe tbody tr th {\n",
       "        vertical-align: top;\n",
       "    }\n",
       "\n",
       "    .dataframe thead th {\n",
       "        text-align: right;\n",
       "    }\n",
       "</style>\n",
       "<table border=\"1\" class=\"dataframe\">\n",
       "  <thead>\n",
       "    <tr style=\"text-align: right;\">\n",
       "      <th></th>\n",
       "      <th>user_id</th>\n",
       "      <th>book_id</th>\n",
       "      <th>review_id</th>\n",
       "      <th>rating</th>\n",
       "      <th>review_text</th>\n",
       "      <th>date_added</th>\n",
       "      <th>date_updated</th>\n",
       "      <th>read_at</th>\n",
       "      <th>started_at</th>\n",
       "      <th>n_votes</th>\n",
       "      <th>...</th>\n",
       "      <th>name</th>\n",
       "      <th>username</th>\n",
       "      <th>age</th>\n",
       "      <th>location</th>\n",
       "      <th>joined</th>\n",
       "      <th>friends_count</th>\n",
       "      <th>groups_count</th>\n",
       "      <th>reviews_count</th>\n",
       "      <th>first_name</th>\n",
       "      <th>gender</th>\n",
       "    </tr>\n",
       "  </thead>\n",
       "  <tbody>\n",
       "    <tr>\n",
       "      <th>9199</th>\n",
       "      <td>c056c790208c11cdc8918cef11021994</td>\n",
       "      <td>6367212</td>\n",
       "      <td>9032de4b02cd170d3a52f9ccd29e3870</td>\n",
       "      <td>4</td>\n",
       "      <td>This one has as many pages of recipes as it do...</td>\n",
       "      <td>Tue May 14 19:28:41 -0700 2013</td>\n",
       "      <td>Mon Dec 30 19:51:57 -0800 2013</td>\n",
       "      <td>Sun Dec 29 00:00:00 -0800 2013</td>\n",
       "      <td>Sat Dec 28 00:00:00 -0800 2013</td>\n",
       "      <td>0</td>\n",
       "      <td>...</td>\n",
       "      <td>Danielle</td>\n",
       "      <td>NaN</td>\n",
       "      <td>66.0</td>\n",
       "      <td>Drexel Hill, PA</td>\n",
       "      <td>06/2012</td>\n",
       "      <td>171.0</td>\n",
       "      <td>2.0</td>\n",
       "      <td>2915.0</td>\n",
       "      <td>danielle</td>\n",
       "      <td>female</td>\n",
       "    </tr>\n",
       "    <tr>\n",
       "      <th>1987</th>\n",
       "      <td>a5d71d72f84951be42b5b99c556f2ece</td>\n",
       "      <td>913407</td>\n",
       "      <td>9944f6271441280bf5d3157b02d27111</td>\n",
       "      <td>5</td>\n",
       "      <td>When you run a business and problems pop up, y...</td>\n",
       "      <td>Tue Dec 11 02:00:01 -0800 2012</td>\n",
       "      <td>Fri Dec 28 16:13:18 -0800 2012</td>\n",
       "      <td>Sat Dec 15 00:00:00 -0800 2012</td>\n",
       "      <td>Tue Dec 11 00:00:00 -0800 2012</td>\n",
       "      <td>2</td>\n",
       "      <td>...</td>\n",
       "      <td>William</td>\n",
       "      <td>NaN</td>\n",
       "      <td>74.0</td>\n",
       "      <td>San Francisco, CA</td>\n",
       "      <td>08/2012</td>\n",
       "      <td>132.0</td>\n",
       "      <td>3.0</td>\n",
       "      <td>257.0</td>\n",
       "      <td>william</td>\n",
       "      <td>male</td>\n",
       "    </tr>\n",
       "    <tr>\n",
       "      <th>378</th>\n",
       "      <td>b7a5d8d2a5e87321be5ee8acf4113442</td>\n",
       "      <td>13418925</td>\n",
       "      <td>a7be93dc37b448e37200a515298e66e9</td>\n",
       "      <td>5</td>\n",
       "      <td>GREAT BOOK!!!! Jennifer does it again with thi...</td>\n",
       "      <td>Tue Mar 19 13:58:47 -0700 2013</td>\n",
       "      <td>Wed Apr 02 02:45:22 -0700 2014</td>\n",
       "      <td>Wed Apr 02 02:45:22 -0700 2014</td>\n",
       "      <td></td>\n",
       "      <td>0</td>\n",
       "      <td>...</td>\n",
       "      <td>TAM</td>\n",
       "      <td>NaN</td>\n",
       "      <td>NaN</td>\n",
       "      <td>NaN</td>\n",
       "      <td>08/2012</td>\n",
       "      <td>18.0</td>\n",
       "      <td>3.0</td>\n",
       "      <td>2673.0</td>\n",
       "      <td>tam</td>\n",
       "      <td>male</td>\n",
       "    </tr>\n",
       "    <tr>\n",
       "      <th>2961</th>\n",
       "      <td>c97f0ab5c4396b54b31282a1e2f7cb12</td>\n",
       "      <td>29904284</td>\n",
       "      <td>56b7260c50ed0f785b4e196d2a63e30a</td>\n",
       "      <td>2</td>\n",
       "      <td>It was a different way to pose the question of...</td>\n",
       "      <td>Fri Nov 25 10:25:59 -0800 2016</td>\n",
       "      <td>Fri Nov 25 10:43:31 -0800 2016</td>\n",
       "      <td>Thu Nov 24 00:00:00 -0800 2016</td>\n",
       "      <td>Sat Nov 05 00:00:00 -0700 2016</td>\n",
       "      <td>0</td>\n",
       "      <td>...</td>\n",
       "      <td>Nicky</td>\n",
       "      <td>NaN</td>\n",
       "      <td>47.0</td>\n",
       "      <td>Las Cruces, NM</td>\n",
       "      <td>08/2012</td>\n",
       "      <td>82.0</td>\n",
       "      <td>1.0</td>\n",
       "      <td>762.0</td>\n",
       "      <td>nicky</td>\n",
       "      <td>male</td>\n",
       "    </tr>\n",
       "    <tr>\n",
       "      <th>2451</th>\n",
       "      <td>862c45468e68b1c400808577c010e921</td>\n",
       "      <td>18693623</td>\n",
       "      <td>2812b72a7a1905d756c73d5605d646a5</td>\n",
       "      <td>4</td>\n",
       "      <td>Enjoyable read - Barclay is a good story teller.</td>\n",
       "      <td>Tue Sep 29 07:10:48 -0700 2015</td>\n",
       "      <td>Thu Oct 08 02:04:35 -0700 2015</td>\n",
       "      <td>Thu Oct 08 02:04:35 -0700 2015</td>\n",
       "      <td>Tue Sep 29 00:00:00 -0700 2015</td>\n",
       "      <td>0</td>\n",
       "      <td>...</td>\n",
       "      <td>Lionel Denny</td>\n",
       "      <td>NaN</td>\n",
       "      <td>73.0</td>\n",
       "      <td>NaN</td>\n",
       "      <td>08/2012</td>\n",
       "      <td>3.0</td>\n",
       "      <td>1.0</td>\n",
       "      <td>378.0</td>\n",
       "      <td>lionel</td>\n",
       "      <td>male</td>\n",
       "    </tr>\n",
       "    <tr>\n",
       "      <th>...</th>\n",
       "      <td>...</td>\n",
       "      <td>...</td>\n",
       "      <td>...</td>\n",
       "      <td>...</td>\n",
       "      <td>...</td>\n",
       "      <td>...</td>\n",
       "      <td>...</td>\n",
       "      <td>...</td>\n",
       "      <td>...</td>\n",
       "      <td>...</td>\n",
       "      <td>...</td>\n",
       "      <td>...</td>\n",
       "      <td>...</td>\n",
       "      <td>...</td>\n",
       "      <td>...</td>\n",
       "      <td>...</td>\n",
       "      <td>...</td>\n",
       "      <td>...</td>\n",
       "      <td>...</td>\n",
       "      <td>...</td>\n",
       "      <td>...</td>\n",
       "    </tr>\n",
       "    <tr>\n",
       "      <th>2698</th>\n",
       "      <td>c715cf98e9f8bf483cad3a633411acfa</td>\n",
       "      <td>6054393</td>\n",
       "      <td>3dcbdebf9a43bab0b94bab9af6f1c0f7</td>\n",
       "      <td>4</td>\n",
       "      <td>A non-mystery about the relationship between a...</td>\n",
       "      <td>Thu Feb 18 09:58:32 -0800 2010</td>\n",
       "      <td>Wed Sep 08 11:21:26 -0700 2010</td>\n",
       "      <td>Wed Sep 08 00:00:00 -0700 2010</td>\n",
       "      <td>Tue Sep 07 00:00:00 -0700 2010</td>\n",
       "      <td>0</td>\n",
       "      <td>...</td>\n",
       "      <td>Ed</td>\n",
       "      <td>NaN</td>\n",
       "      <td>NaN</td>\n",
       "      <td>New York, NY</td>\n",
       "      <td>06/2008</td>\n",
       "      <td>58.0</td>\n",
       "      <td>1.0</td>\n",
       "      <td>907.0</td>\n",
       "      <td>ed</td>\n",
       "      <td>male</td>\n",
       "    </tr>\n",
       "    <tr>\n",
       "      <th>6989</th>\n",
       "      <td>5fa6d9466eede95cdafb8c86b8f517da</td>\n",
       "      <td>43926</td>\n",
       "      <td>cd0836eeea4fc9b35a8de49d8741526d</td>\n",
       "      <td>3</td>\n",
       "      <td>Matt Hunter has built a wonderful new life, ha...</td>\n",
       "      <td>Thu Nov 08 13:14:17 -0800 2012</td>\n",
       "      <td>Thu Nov 08 13:28:58 -0800 2012</td>\n",
       "      <td>Thu Nov 01 00:00:00 -0700 2012</td>\n",
       "      <td>Mon Oct 15 00:00:00 -0700 2012</td>\n",
       "      <td>1</td>\n",
       "      <td>...</td>\n",
       "      <td>Linda</td>\n",
       "      <td>katknit</td>\n",
       "      <td>NaN</td>\n",
       "      <td>Coventry, CT</td>\n",
       "      <td>04/2008</td>\n",
       "      <td>278.0</td>\n",
       "      <td>3.0</td>\n",
       "      <td>1923.0</td>\n",
       "      <td>linda</td>\n",
       "      <td>female</td>\n",
       "    </tr>\n",
       "    <tr>\n",
       "      <th>4093</th>\n",
       "      <td>26538f0f360954a65d7ef0dff0624a96</td>\n",
       "      <td>29249685</td>\n",
       "      <td>d4147902a0a427c60c3a5e4c33ec9d40</td>\n",
       "      <td>2</td>\n",
       "      <td>This was OK up until he raped Candy's lesbian ...</td>\n",
       "      <td>Sun Dec 11 16:25:28 -0800 2016</td>\n",
       "      <td>Sat Mar 25 17:41:16 -0700 2017</td>\n",
       "      <td>Sat Mar 25 17:39:58 -0700 2017</td>\n",
       "      <td>Tue Mar 21 18:56:32 -0700 2017</td>\n",
       "      <td>0</td>\n",
       "      <td>...</td>\n",
       "      <td>Patrick</td>\n",
       "      <td>NaN</td>\n",
       "      <td>NaN</td>\n",
       "      <td>Detroit, MI</td>\n",
       "      <td>06/2008</td>\n",
       "      <td>451.0</td>\n",
       "      <td>12.0</td>\n",
       "      <td>2201.0</td>\n",
       "      <td>patrick</td>\n",
       "      <td>male</td>\n",
       "    </tr>\n",
       "    <tr>\n",
       "      <th>2194</th>\n",
       "      <td>9f8f8bfb36f36e09f05ec009c5f1d7f0</td>\n",
       "      <td>27694</td>\n",
       "      <td>237adaf354cb8ce02fb9b06f1697bcf2</td>\n",
       "      <td>4</td>\n",
       "      <td>Reading this right on the tail of My Brother M...</td>\n",
       "      <td>Mon Jan 27 14:22:06 -0800 2014</td>\n",
       "      <td>Wed May 07 12:31:22 -0700 2014</td>\n",
       "      <td>Fri Jan 31 00:00:00 -0800 2014</td>\n",
       "      <td>Mon Jan 27 00:00:00 -0800 2014</td>\n",
       "      <td>0</td>\n",
       "      <td>...</td>\n",
       "      <td>Michiel</td>\n",
       "      <td>NaN</td>\n",
       "      <td>56.0</td>\n",
       "      <td>Parkersburg, WV</td>\n",
       "      <td>08/2012</td>\n",
       "      <td>34.0</td>\n",
       "      <td>2.0</td>\n",
       "      <td>1425.0</td>\n",
       "      <td>michiel</td>\n",
       "      <td>male</td>\n",
       "    </tr>\n",
       "    <tr>\n",
       "      <th>3052</th>\n",
       "      <td>80f2125bfbed5051dbdf401b0aa3585d</td>\n",
       "      <td>18404261</td>\n",
       "      <td>01ad343d23329535757d2cd43ab0f2cc</td>\n",
       "      <td>3</td>\n",
       "      <td>This was an interesting premise. \\n I liked th...</td>\n",
       "      <td>Wed Jun 10 10:27:59 -0700 2015</td>\n",
       "      <td>Wed Jun 24 07:24:18 -0700 2015</td>\n",
       "      <td>Wed Jun 24 07:24:18 -0700 2015</td>\n",
       "      <td>Wed Jun 10 00:00:00 -0700 2015</td>\n",
       "      <td>0</td>\n",
       "      <td>...</td>\n",
       "      <td>Ariel</td>\n",
       "      <td>NaN</td>\n",
       "      <td>34.0</td>\n",
       "      <td>Saint Cloud, MN</td>\n",
       "      <td>06/2008</td>\n",
       "      <td>237.0</td>\n",
       "      <td>23.0</td>\n",
       "      <td>2595.0</td>\n",
       "      <td>ariel</td>\n",
       "      <td>male</td>\n",
       "    </tr>\n",
       "  </tbody>\n",
       "</table>\n",
       "<p>10000 rows × 22 columns</p>\n",
       "</div>"
      ],
      "text/plain": [
       "                               user_id   book_id  \\\n",
       "9199  c056c790208c11cdc8918cef11021994   6367212   \n",
       "1987  a5d71d72f84951be42b5b99c556f2ece    913407   \n",
       "378   b7a5d8d2a5e87321be5ee8acf4113442  13418925   \n",
       "2961  c97f0ab5c4396b54b31282a1e2f7cb12  29904284   \n",
       "2451  862c45468e68b1c400808577c010e921  18693623   \n",
       "...                                ...       ...   \n",
       "2698  c715cf98e9f8bf483cad3a633411acfa   6054393   \n",
       "6989  5fa6d9466eede95cdafb8c86b8f517da     43926   \n",
       "4093  26538f0f360954a65d7ef0dff0624a96  29249685   \n",
       "2194  9f8f8bfb36f36e09f05ec009c5f1d7f0     27694   \n",
       "3052  80f2125bfbed5051dbdf401b0aa3585d  18404261   \n",
       "\n",
       "                             review_id  rating  \\\n",
       "9199  9032de4b02cd170d3a52f9ccd29e3870       4   \n",
       "1987  9944f6271441280bf5d3157b02d27111       5   \n",
       "378   a7be93dc37b448e37200a515298e66e9       5   \n",
       "2961  56b7260c50ed0f785b4e196d2a63e30a       2   \n",
       "2451  2812b72a7a1905d756c73d5605d646a5       4   \n",
       "...                                ...     ...   \n",
       "2698  3dcbdebf9a43bab0b94bab9af6f1c0f7       4   \n",
       "6989  cd0836eeea4fc9b35a8de49d8741526d       3   \n",
       "4093  d4147902a0a427c60c3a5e4c33ec9d40       2   \n",
       "2194  237adaf354cb8ce02fb9b06f1697bcf2       4   \n",
       "3052  01ad343d23329535757d2cd43ab0f2cc       3   \n",
       "\n",
       "                                            review_text  \\\n",
       "9199  This one has as many pages of recipes as it do...   \n",
       "1987  When you run a business and problems pop up, y...   \n",
       "378   GREAT BOOK!!!! Jennifer does it again with thi...   \n",
       "2961  It was a different way to pose the question of...   \n",
       "2451   Enjoyable read - Barclay is a good story teller.   \n",
       "...                                                 ...   \n",
       "2698  A non-mystery about the relationship between a...   \n",
       "6989  Matt Hunter has built a wonderful new life, ha...   \n",
       "4093  This was OK up until he raped Candy's lesbian ...   \n",
       "2194  Reading this right on the tail of My Brother M...   \n",
       "3052  This was an interesting premise. \\n I liked th...   \n",
       "\n",
       "                          date_added                    date_updated  \\\n",
       "9199  Tue May 14 19:28:41 -0700 2013  Mon Dec 30 19:51:57 -0800 2013   \n",
       "1987  Tue Dec 11 02:00:01 -0800 2012  Fri Dec 28 16:13:18 -0800 2012   \n",
       "378   Tue Mar 19 13:58:47 -0700 2013  Wed Apr 02 02:45:22 -0700 2014   \n",
       "2961  Fri Nov 25 10:25:59 -0800 2016  Fri Nov 25 10:43:31 -0800 2016   \n",
       "2451  Tue Sep 29 07:10:48 -0700 2015  Thu Oct 08 02:04:35 -0700 2015   \n",
       "...                              ...                             ...   \n",
       "2698  Thu Feb 18 09:58:32 -0800 2010  Wed Sep 08 11:21:26 -0700 2010   \n",
       "6989  Thu Nov 08 13:14:17 -0800 2012  Thu Nov 08 13:28:58 -0800 2012   \n",
       "4093  Sun Dec 11 16:25:28 -0800 2016  Sat Mar 25 17:41:16 -0700 2017   \n",
       "2194  Mon Jan 27 14:22:06 -0800 2014  Wed May 07 12:31:22 -0700 2014   \n",
       "3052  Wed Jun 10 10:27:59 -0700 2015  Wed Jun 24 07:24:18 -0700 2015   \n",
       "\n",
       "                             read_at                      started_at  n_votes  \\\n",
       "9199  Sun Dec 29 00:00:00 -0800 2013  Sat Dec 28 00:00:00 -0800 2013        0   \n",
       "1987  Sat Dec 15 00:00:00 -0800 2012  Tue Dec 11 00:00:00 -0800 2012        2   \n",
       "378   Wed Apr 02 02:45:22 -0700 2014                                        0   \n",
       "2961  Thu Nov 24 00:00:00 -0800 2016  Sat Nov 05 00:00:00 -0700 2016        0   \n",
       "2451  Thu Oct 08 02:04:35 -0700 2015  Tue Sep 29 00:00:00 -0700 2015        0   \n",
       "...                              ...                             ...      ...   \n",
       "2698  Wed Sep 08 00:00:00 -0700 2010  Tue Sep 07 00:00:00 -0700 2010        0   \n",
       "6989  Thu Nov 01 00:00:00 -0700 2012  Mon Oct 15 00:00:00 -0700 2012        1   \n",
       "4093  Sat Mar 25 17:39:58 -0700 2017  Tue Mar 21 18:56:32 -0700 2017        0   \n",
       "2194  Fri Jan 31 00:00:00 -0800 2014  Mon Jan 27 00:00:00 -0800 2014        0   \n",
       "3052  Wed Jun 24 07:24:18 -0700 2015  Wed Jun 10 00:00:00 -0700 2015        0   \n",
       "\n",
       "      ...          name  username   age           location   joined  \\\n",
       "9199  ...      Danielle       NaN  66.0    Drexel Hill, PA  06/2012   \n",
       "1987  ...       William       NaN  74.0  San Francisco, CA  08/2012   \n",
       "378   ...           TAM       NaN   NaN                NaN  08/2012   \n",
       "2961  ...         Nicky       NaN  47.0     Las Cruces, NM  08/2012   \n",
       "2451  ...  Lionel Denny       NaN  73.0                NaN  08/2012   \n",
       "...   ...           ...       ...   ...                ...      ...   \n",
       "2698  ...            Ed       NaN   NaN       New York, NY  06/2008   \n",
       "6989  ...         Linda   katknit   NaN       Coventry, CT  04/2008   \n",
       "4093  ...       Patrick       NaN   NaN        Detroit, MI  06/2008   \n",
       "2194  ...       Michiel       NaN  56.0    Parkersburg, WV  08/2012   \n",
       "3052  ...         Ariel       NaN  34.0    Saint Cloud, MN  06/2008   \n",
       "\n",
       "     friends_count groups_count  reviews_count  first_name  gender  \n",
       "9199         171.0          2.0         2915.0    danielle  female  \n",
       "1987         132.0          3.0          257.0     william    male  \n",
       "378           18.0          3.0         2673.0         tam    male  \n",
       "2961          82.0          1.0          762.0       nicky    male  \n",
       "2451           3.0          1.0          378.0      lionel    male  \n",
       "...            ...          ...            ...         ...     ...  \n",
       "2698          58.0          1.0          907.0          ed    male  \n",
       "6989         278.0          3.0         1923.0       linda  female  \n",
       "4093         451.0         12.0         2201.0     patrick    male  \n",
       "2194          34.0          2.0         1425.0     michiel    male  \n",
       "3052         237.0         23.0         2595.0       ariel    male  \n",
       "\n",
       "[10000 rows x 22 columns]"
      ]
     },
     "execution_count": 18,
     "metadata": {},
     "output_type": "execute_result"
    }
   ],
   "source": [
    "male_reviews = gendered_reviews_mtc.loc[gendered_reviews_mtc['gender'] == \"male\"]\n",
    "male_reviews = male_reviews.reset_index(drop=True)\n",
    "female_reviews = gendered_reviews_mtc.loc[gendered_reviews_mtc['gender'] == \"female\"]\n",
    "female_reviews = female_reviews.reset_index(drop=True)\n",
    "\n",
    "train_frames = [male_reviews[:15000], female_reviews[:15000]]\n",
    "train_balanced_reviews_mtc = pd.concat(train_frames)\n",
    "train_balanced_reviews_mtc = train_balanced_reviews_mtc.reset_index(drop=True)\n",
    "\n",
    "test_frames = [male_reviews[15000:20000], female_reviews[15000:20000]]\n",
    "test_balanced_reviews_mtc = pd.concat(test_frames)\n",
    "test_balanced_reviews_mtc = test_balanced_reviews_mtc.reset_index(drop=True)\n",
    "\n",
    "train_balanced_reviews_mtc.reindex(np.random.permutation(train_balanced_reviews_mtc.index))\n",
    "test_balanced_reviews_mtc.reindex(np.random.permutation(test_balanced_reviews_mtc.index))"
   ]
  },
  {
   "cell_type": "code",
   "execution_count": 22,
   "id": "80ca0254",
   "metadata": {},
   "outputs": [
    {
     "name": "stderr",
     "output_type": "stream",
     "text": [
      "100%|██████████| 30000/30000 [00:16<00:00, 1811.76it/s]\n",
      "100%|██████████| 10000/10000 [00:04<00:00, 2291.46it/s]\n"
     ]
    }
   ],
   "source": [
    "clean_review(train_balanced_reviews_mtc)\n",
    "clean_review(test_balanced_reviews_mtc)"
   ]
  },
  {
   "cell_type": "code",
   "execution_count": 23,
   "id": "b21cd3cc",
   "metadata": {},
   "outputs": [],
   "source": [
    "train_file_name = \"train_mtc.csv\"\n",
    "test_file_name = \"test_mtc.csv\"\n",
    "train_balanced_reviews_mtc.to_csv(train_file_name, sep='\\t')\n",
    "test_balanced_reviews_mtc.to_csv(test_file_name, sep='\\t')"
   ]
  },
  {
   "cell_type": "code",
   "execution_count": null,
   "id": "53f7c7b0",
   "metadata": {},
   "outputs": [],
   "source": []
  },
  {
   "cell_type": "markdown",
   "id": "031cb64a",
   "metadata": {},
   "source": [
    "## 2. Model Setup\n",
    "\n",
    "- Logistic Regression model for analysing performance in predicting gender \n",
    "- Metrics used to measure performance:\n",
    "    - Accuracy\n",
    "    - Log Odds?\n",
    "    - MSE\n",
    "    - RMSE\n",
    "    \n",
    "The values output for metrics in this section are default values taking a dummy feature set of all zeroes."
   ]
  },
  {
   "cell_type": "code",
   "execution_count": 44,
   "id": "f7c157aa",
   "metadata": {},
   "outputs": [],
   "source": [
    "from sklearn.model_selection import train_test_split\n",
    "from sklearn.linear_model import LogisticRegression\n",
    "from sklearn.metrics import log_loss,accuracy_score\n",
    "import sklearn.metrics as metrics"
   ]
  },
  {
   "cell_type": "code",
   "execution_count": 122,
   "id": "cfd6e66e",
   "metadata": {},
   "outputs": [],
   "source": [
    "a = np.zeros(shape=(40000, 1))\n",
    "feature_df = pd.DataFrame(a,columns=['dummy'])"
   ]
  },
  {
   "cell_type": "code",
   "execution_count": 140,
   "id": "13cadb62",
   "metadata": {},
   "outputs": [],
   "source": [
    "def regression_results(y_true, y_pred):\n",
    "\n",
    "    # Regression metrics\n",
    "    explained_variance=metrics.explained_variance_score(y_true, y_pred)\n",
    "    mean_absolute_error=metrics.mean_absolute_error(y_true, y_pred) \n",
    "    mse=metrics.mean_squared_error(y_true, y_pred) \n",
    "    mean_squared_log_error=metrics.mean_squared_log_error(y_true, y_pred)\n",
    "    median_absolute_error=metrics.median_absolute_error(y_true, y_pred)\n",
    "    r2=metrics.r2_score(y_true, y_pred)\n",
    "    logLoss = metrics.log_loss(y_true, y_pred)\n",
    "#     f1=metrics.f1_score(y_true, y_pred)\n",
    "\n",
    "    print('explained_variance: ', round(explained_variance,4))    \n",
    "    print('mean_squared_log_error: ', round(mean_squared_log_error,4))\n",
    "    print('r2: ', round(r2,4))\n",
    "    print('log loss: ', round(logLoss,4)) \n",
    "#     print('f1: ', round(f1,4))\n",
    "#     print('MAE: ', round(mean_absolute_error,4))\n",
    "#     print('MSE: ', round(mse,4))\n",
    "#     print('RMSE: ', round(np.sqrt(mse),4))"
   ]
  },
  {
   "cell_type": "code",
   "execution_count": 137,
   "id": "9668461d",
   "metadata": {},
   "outputs": [],
   "source": [
    "def call_model():\n",
    "    Y_train=train_balanced_reviews_mtc['gender'].values\n",
    "    Y_test=test_balanced_reviews_mtc['gender'].values\n",
    "\n",
    "    scikit_log_reg = LogisticRegression(verbose=1, solver='liblinear',random_state=0, C=5, penalty='l2',max_iter=10000)\n",
    "    model=scikit_log_reg.fit(feature_df[:30000],Y_train)\n",
    "\n",
    "    predicted = model.predict(feature_df[30000:])\n",
    "    probs = model.predict_proba(feature_df[30000:])\n",
    "\n",
    "    y_test_n = [0 if y == \"male\" else 1 for y in Y_test]\n",
    "    probs_n = [i[0] for i in probs]\n",
    "    print(\"Model %s vs Gender\" % (feature_df.columns[0]))\n",
    "    print((\"Accuracy  \") + str(accuracy_score(Y_test, predicted)))\n",
    "    plt.plot(probs_n, feature_df[30000:]) \n",
    "    plt.xlabel(\"Prediction Probability\")\n",
    "    plt.ylabel(\"Feature Values\")\n",
    "    return regression_results(y_test_n, probs_n)\n"
   ]
  },
  {
   "cell_type": "code",
   "execution_count": 123,
   "id": "925b4aa6",
   "metadata": {},
   "outputs": [
    {
     "name": "stdout",
     "output_type": "stream",
     "text": [
      "[LibLinear]Model dummy vs Gender\n",
      "Accuracy  0.5\n",
      "explained_variance:  0.0\n",
      "mean_squared_log_error:  0.1236\n",
      "r2:  0.0\n",
      "log loss:  0.6931\n"
     ]
    },
    {
     "data": {
      "image/png": "[encoded data removed]",
      "text/plain": [
       "<Figure size 432x288 with 1 Axes>"
      ]
     },
     "metadata": {
      "needs_background": "light"
     },
     "output_type": "display_data"
    }
   ],
   "source": [
    "call_model()"
   ]
  },
  {
   "cell_type": "markdown",
   "id": "a477e5d7",
   "metadata": {},
   "source": [
    "## 3. Writing Style Analysis\n",
    "\n",
    "#### Features under analysis:\n",
    "- lexical_markers \n",
    "- vocabulary_richness\n",
    "- complexity \n",
    "- hedging\n",
    "- use_of_pronouns\n"
   ]
  },
  {
   "cell_type": "code",
   "execution_count": 33,
   "id": "2023daad",
   "metadata": {},
   "outputs": [],
   "source": [
    "from collections import Counter\n",
    "from nltk.probability import FreqDist\n",
    "import math \n",
    "from nltk.tokenize import sent_tokenize\n",
    "from nltk import word_tokenize, pos_tag\n",
    "\n",
    "def get_pronouns(reviews_set):\n",
    "    pos_pronouns = []\n",
    "    for idx in tqdm(range(reviews_set.shape[0])):\n",
    "        if len(reviews_set['review_text'][idx])>0:\n",
    "            pos_pronouns.append(sum(1 for word, pos in pos_tag(word_tokenize(reviews_set['review_text'][idx])) if pos.startswith('PR') or word == \"i\"))\n",
    "        else:\n",
    "            pos_pronouns.append(0)\n",
    "#     print(len(pos_pronouns))\n",
    "    return pos_pronouns\n",
    "\n",
    "def avg_wordLength(text):\n",
    "    return np.average([len(word) for word in text.split()])\n",
    "\n",
    "def avg_SentLenghtByCh(text):\n",
    "    tokens = sent_tokenize(text)\n",
    "    return np.average([len(token) for token in tokens])\n",
    "\n",
    "def avg_SentLenghtByWord(text):\n",
    "    tokens = sent_tokenize(text)\n",
    "    return np.average([len(token.split()) for token in tokens])\n",
    "\n",
    "def get_complexity(reviews_set):\n",
    "    complexity_1 = []\n",
    "    complexity_2 = []\n",
    "    complexity_3 = []\n",
    "    for idx in tqdm(range(reviews_set.shape[0])):\n",
    "        if len(reviews_set['review_text'][idx])>0:\n",
    "            complexity_1.append(avg_wordLength(reviews_set['review_text'][idx]))\n",
    "            complexity_2.append(avg_SentLenghtByCh(reviews_set['review_text'][idx]))\n",
    "            complexity_3.append(avg_SentLenghtByWord(reviews_set['review_text'][idx]))  \n",
    "        else:\n",
    "            complexity_1.append(0)\n",
    "            complexity_2.append(0)\n",
    "            complexity_3.append(0)\n",
    "#     print(len(complexity_1), len(complexity_2), len(complexity_3))\n",
    "    return complexity_1, complexity_2, complexity_3\n",
    "\n",
    "def topN_Freq(data, n: int):\n",
    "    fdist = FreqDist(data)\n",
    "    return fdist.most_common(n)\n",
    "\n",
    "def top_50_words(reviews_set):\n",
    "    top_50 = {}\n",
    "    dic2 = {}\n",
    "    for idx in tqdm(range(reviews_set.shape[0])):\n",
    "\n",
    "        freqDict = topN_Freq(reviews_set['review_text'][idx].split(), 50)\n",
    "        dic1 = dict(freqDict)\n",
    "        if idx != 0:\n",
    "            top_50 = {k: dic1.get(k, 0) + dic2.get(k, 0) for k in set(dic1) | set(dic2)}\n",
    "        dic2 = dict(Counter(top_50).most_common(50))\n",
    "#     print(len(top_50))\n",
    "    return dict(Counter(top_50).most_common(50))\n",
    "\n",
    "def get_lexical_markers(reviews_set):\n",
    "    lexical_markers = []\n",
    "    top_50 = top_50_words(train_balanced_reviews_mtc)\n",
    "    \n",
    "    for idx in tqdm(range(reviews_set.shape[0])):\n",
    "        freq = Counter(reviews_set['review_text'][idx].split())\n",
    "        lexical_markers.append(sum(freq.get(k, 0) for k in set(top_50)))\n",
    "#     print(len(lexical_markers))\n",
    "    return lexical_markers\n",
    "\n",
    "def get_hedge_words(reviews_set):\n",
    "    hedgefile = open(\"hedgeWords.txt\", \"r\")\n",
    "    content = hedgefile.read()\n",
    "    hedgeWords = content.split(\"\\n\")\n",
    "    hedgefile.close()\n",
    "    hedging = []\n",
    "    for idx in tqdm(range(reviews_set.shape[0])):\n",
    "        hedging.append(sum(1 for x in word_tokenize(reviews_set['review_text'][idx]) if x in hedgeWords))\n",
    "#     print(len(hedging))\n",
    "    return hedging\n",
    "\n",
    "def yulesCharacteristicK(words):\n",
    "    N = len(words)\n",
    "    K=0\n",
    "    if N>0:\n",
    "        freqs = Counter()\n",
    "        freqs.update(words)\n",
    "        vi = Counter()\n",
    "        vi.update(freqs.values())\n",
    "        M = sum([(value * value) * vi[value] for key, value in freqs.items()])\n",
    "        K = 10000 * (M - N) / math.pow(N, 2)\n",
    "    return K\n",
    "\n",
    "def get_vocabulary_richness(reviews_set):\n",
    "    vocabulary_richness = []\n",
    "    for idx in tqdm(range(reviews_set.shape[0])):\n",
    "        vocabulary_richness.append(yulesCharacteristicK(reviews_set['review_text'][idx]))\n",
    "#     print(len(vocabulary_richness))\n",
    "    return vocabulary_richness\n",
    "\n"
   ]
  },
  {
   "cell_type": "code",
   "execution_count": 34,
   "id": "ff89a4c5",
   "metadata": {},
   "outputs": [
    {
     "name": "stderr",
     "output_type": "stream",
     "text": [
      "100%|██████████| 30000/30000 [00:03<00:00, 8370.52it/s]\n",
      "100%|██████████| 30000/30000 [00:00<00:00, 41357.47it/s]\n",
      "100%|██████████| 30000/30000 [00:03<00:00, 8531.81it/s]\n",
      "100%|██████████| 10000/10000 [00:00<00:00, 46299.09it/s]\n",
      "100%|██████████| 30000/30000 [00:17<00:00, 1711.05it/s]\n",
      "100%|██████████| 10000/10000 [00:04<00:00, 2129.46it/s]\n",
      "100%|██████████| 30000/30000 [00:00<00:00, 32769.02it/s]\n",
      "100%|██████████| 10000/10000 [00:00<00:00, 38243.83it/s]\n",
      "100%|██████████| 30000/30000 [00:06<00:00, 4730.86it/s]\n",
      "100%|██████████| 10000/10000 [00:01<00:00, 5518.73it/s]\n",
      "100%|██████████| 30000/30000 [01:53<00:00, 264.93it/s]\n",
      "100%|██████████| 10000/10000 [00:31<00:00, 322.05it/s]\n"
     ]
    }
   ],
   "source": [
    "f_lexical_markers = []\n",
    "f_lexical_markers.extend(get_lexical_markers(train_balanced_reviews_mtc))\n",
    "f_lexical_markers.extend(get_lexical_markers(test_balanced_reviews_mtc))\n",
    "\n",
    "f_hedging = []\n",
    "f_hedging.extend(get_hedge_words(train_balanced_reviews_mtc))\n",
    "f_hedging.extend(get_hedge_words(test_balanced_reviews_mtc))\n",
    "\n",
    "f_vocabulary_richness = []\n",
    "f_vocabulary_richness.extend(get_vocabulary_richness(train_balanced_reviews_mtc))\n",
    "f_vocabulary_richness.extend(get_vocabulary_richness(test_balanced_reviews_mtc))\n",
    "\n",
    "complexity_1, complexity_2, complexity_3 = get_complexity(train_balanced_reviews_mtc)\n",
    "complexity_1_t, complexity_2_t, complexity_3_t = get_complexity(test_balanced_reviews_mtc)\n",
    "complexity_1.extend(complexity_1_t)\n",
    "complexity_2.extend(complexity_2_t)\n",
    "complexity_3.extend(complexity_3_t)\n",
    "\n",
    "f_pronouns = []\n",
    "f_pronouns.extend(get_pronouns(train_balanced_reviews_mtc))\n",
    "f_pronouns.extend(get_pronouns(test_balanced_reviews_mtc))"
   ]
  },
  {
   "cell_type": "code",
   "execution_count": 100,
   "id": "9158217c",
   "metadata": {},
   "outputs": [],
   "source": [
    "# f_pronouns"
   ]
  },
  {
   "cell_type": "code",
   "execution_count": 97,
   "id": "d72dd91b",
   "metadata": {},
   "outputs": [
    {
     "name": "stdout",
     "output_type": "stream",
     "text": [
      "<class 'pandas.core.frame.DataFrame'>\n",
      "Index: 0 entries\n",
      "Data columns (total 1 columns):\n",
      " #   Column   Non-Null Count  Dtype\n",
      "---  ------   --------------  -----\n",
      " 0   pronoun  0 non-null      bool \n",
      "dtypes: bool(1)\n",
      "memory usage: 0.0+ bytes\n"
     ]
    }
   ],
   "source": [
    "feature_df.info()"
   ]
  },
  {
   "cell_type": "code",
   "execution_count": 138,
   "id": "4fccbd38",
   "metadata": {},
   "outputs": [],
   "source": [
    "def generate_writing_style_feature_set(feature_df):\n",
    "    f_lexical = True\n",
    "    f_complexity = False\n",
    "    f_vocab_richness = False\n",
    "    f_hedg = False\n",
    "    f_pron = False\n",
    "    if f_lexical:\n",
    "        feature_df['Lexical Markers'] = f_lexical_markers\n",
    "    if f_complexity:\n",
    "        feature_df['Complecity'] = complexity_1\n",
    "        feature_df['comp2'] = complexity_2\n",
    "        feature_df['comp3'] = complexity_3\n",
    "    if f_vocab_richness:\n",
    "        feature_df['Vocab Richness'] = f_vocabulary_richness\n",
    "    if f_hedg:\n",
    "        feature_df['Hedging'] = f_hedging\n",
    "    if f_pron:\n",
    "        feature_df['Pronouns'] = f_pronouns"
   ]
  },
  {
   "cell_type": "code",
   "execution_count": null,
   "id": "57545eda",
   "metadata": {},
   "outputs": [],
   "source": []
  },
  {
   "cell_type": "markdown",
   "id": "b8073997",
   "metadata": {},
   "source": [
    "### 3.1 Single features vs gender prediction"
   ]
  },
  {
   "cell_type": "markdown",
   "id": "0fc36320",
   "metadata": {},
   "source": [
    "#### 3.1.1 Only Lexical Markers"
   ]
  },
  {
   "cell_type": "code",
   "execution_count": 141,
   "id": "b7905c48",
   "metadata": {},
   "outputs": [
    {
     "name": "stdout",
     "output_type": "stream",
     "text": [
      "[LibLinear]Model Lexical Markers vs Gender\n",
      "Accuracy  0.5433\n",
      "explained_variance:  0.0009\n",
      "mean_squared_log_error:  0.1233\n",
      "r2:  0.0008\n",
      "log loss:  0.6927\n"
     ]
    },
    {
     "data": {
      "image/png": "[encoded data removed]",
      "text/plain": [
       "<Figure size 432x288 with 1 Axes>"
      ]
     },
     "metadata": {
      "needs_background": "light"
     },
     "output_type": "display_data"
    }
   ],
   "source": [
    "feature_df = pd.DataFrame() \n",
    "generate_writing_style_feature_set(feature_df)\n",
    "call_model()"
   ]
  },
  {
   "cell_type": "markdown",
   "id": "a9b2acbb",
   "metadata": {},
   "source": [
    "#### 3.1.2 Only pronouns"
   ]
  },
  {
   "cell_type": "code",
   "execution_count": 128,
   "id": "d942c6df",
   "metadata": {},
   "outputs": [
    {
     "name": "stdout",
     "output_type": "stream",
     "text": [
      "[LibLinear]Model Pronouns vs Gender\n",
      "Accuracy  0.548\n",
      "explained_variance:  0.0052\n",
      "mean_squared_log_error:  0.1224\n",
      "r2:  0.005\n",
      "log loss:  0.6909\n"
     ]
    },
    {
     "data": {
      "image/png": "[encoded data removed]",
      "text/plain": [
       "<Figure size 432x288 with 1 Axes>"
      ]
     },
     "metadata": {
      "needs_background": "light"
     },
     "output_type": "display_data"
    }
   ],
   "source": [
    "feature_df = pd.DataFrame() \n",
    "generate_writing_style_feature_set(feature_df)\n",
    "call_model()"
   ]
  },
  {
   "cell_type": "markdown",
   "id": "e68d9abd",
   "metadata": {},
   "source": [
    "#### 3.1.3 Only hedging"
   ]
  },
  {
   "cell_type": "code",
   "execution_count": 130,
   "id": "cbd9895c",
   "metadata": {},
   "outputs": [
    {
     "name": "stdout",
     "output_type": "stream",
     "text": [
      "[LibLinear]Model Hedging vs Gender\n",
      "Accuracy  0.5407\n",
      "explained_variance:  0.0015\n",
      "mean_squared_log_error:  0.1231\n",
      "r2:  0.0014\n",
      "log loss:  0.6925\n"
     ]
    },
    {
     "data": {
      "image/png": "[encoded data removed]",
      "text/plain": [
       "<Figure size 432x288 with 1 Axes>"
      ]
     },
     "metadata": {
      "needs_background": "light"
     },
     "output_type": "display_data"
    }
   ],
   "source": [
    "feature_df = pd.DataFrame() \n",
    "generate_writing_style_feature_set(feature_df)\n",
    "call_model()"
   ]
  },
  {
   "cell_type": "markdown",
   "id": "3f2548f1",
   "metadata": {},
   "source": [
    "#### 3.1.4 Only vocab richness"
   ]
  },
  {
   "cell_type": "code",
   "execution_count": 134,
   "id": "2de375ab",
   "metadata": {},
   "outputs": [
    {
     "name": "stdout",
     "output_type": "stream",
     "text": [
      "[LibLinear]Model Vocab Richness vs Gender\n",
      "Accuracy  0.4735\n",
      "explained_variance:  -0.0005\n",
      "mean_squared_log_error:  0.1236\n",
      "r2:  -0.0005\n",
      "log loss:  0.6934\n"
     ]
    },
    {
     "data": {
      "image/png": "[encoded data removed]",
      "text/plain": [
       "<Figure size 432x288 with 1 Axes>"
      ]
     },
     "metadata": {
      "needs_background": "light"
     },
     "output_type": "display_data"
    }
   ],
   "source": [
    "feature_df = pd.DataFrame() \n",
    "generate_writing_style_feature_set(feature_df)\n",
    "call_model()"
   ]
  },
  {
   "cell_type": "markdown",
   "id": "84687adb",
   "metadata": {},
   "source": [
    "#### 3.1.5 Only complexity"
   ]
  },
  {
   "cell_type": "code",
   "execution_count": 132,
   "id": "620a1dfe",
   "metadata": {},
   "outputs": [
    {
     "name": "stdout",
     "output_type": "stream",
     "text": [
      "[LibLinear]Model Complecity vs Gender\n",
      "Accuracy  0.5338\n",
      "explained_variance:  0.0037\n",
      "mean_squared_log_error:  0.1226\n",
      "r2:  0.0035\n",
      "log loss:  0.6916\n"
     ]
    },
    {
     "data": {
      "image/png": "[encoded data removed]",
      "text/plain": [
       "<Figure size 432x288 with 1 Axes>"
      ]
     },
     "metadata": {
      "needs_background": "light"
     },
     "output_type": "display_data"
    }
   ],
   "source": [
    "feature_df = pd.DataFrame() \n",
    "generate_writing_style_feature_set(feature_df)\n",
    "call_model()"
   ]
  },
  {
   "cell_type": "markdown",
   "id": "cd2098b2",
   "metadata": {},
   "source": [
    "### 3.2 Combination of features vs gender prediction"
   ]
  },
  {
   "cell_type": "code",
   "execution_count": null,
   "id": "5b2cf07f",
   "metadata": {},
   "outputs": [],
   "source": []
  },
  {
   "cell_type": "code",
   "execution_count": null,
   "id": "6c2eeaba",
   "metadata": {},
   "outputs": [],
   "source": []
  },
  {
   "cell_type": "code",
   "execution_count": null,
   "id": "35111f47",
   "metadata": {},
   "outputs": [],
   "source": []
  },
  {
   "cell_type": "markdown",
   "id": "406111c8",
   "metadata": {},
   "source": [
    "## 4. Content Analysis\n",
    "\n",
    "#### Features under analysis:\n",
    "- Shannon Entropy: uniqueness of text\n",
    "- Simpson Index: diversity in text\n",
    "- Brunet’s Index: lexical richness \n"
   ]
  },
  {
   "cell_type": "code",
   "execution_count": 143,
   "id": "861501c6",
   "metadata": {},
   "outputs": [
    {
     "name": "stderr",
     "output_type": "stream",
     "text": [
      "100%|██████████| 30000/30000 [00:02<00:00, 10732.82it/s]\n",
      "100%|██████████| 10000/10000 [00:00<00:00, 13197.91it/s]\n"
     ]
    },
    {
     "data": {
      "text/plain": [
       "(40000, 40000, 40000)"
      ]
     },
     "execution_count": 143,
     "metadata": {},
     "output_type": "execute_result"
    }
   ],
   "source": [
    "import scipy as sc\n",
    "\n",
    "def ShannonEntropy(words):\n",
    "    if len(words) == 0:\n",
    "        return 0\n",
    "    freqs = Counter()\n",
    "    freqs.update(words)\n",
    "    arr = np.array(list(freqs.values()))\n",
    "    distribution = 1. * arr\n",
    "    distribution /= max(1, len(words))\n",
    "    \n",
    "    H = sc.stats.entropy(distribution, base=2)\n",
    "    return H\n",
    "\n",
    "def SimpsonsIndex(words):\n",
    "    if len(words) < 2:\n",
    "        return 0\n",
    "    freqs = Counter()\n",
    "    freqs.update(words)\n",
    "    N = len(words)\n",
    "    n = sum([1.0 * i * (i - 1) for i in freqs.values()])\n",
    "    D = 1 - (n / (N * (N - 1)))\n",
    "    return D\n",
    "\n",
    "def BrunetsMeasureW(words):\n",
    "    if len(words) < 2:\n",
    "        return 0\n",
    "    a = 0.17\n",
    "    V = float(len(set(words)))\n",
    "    N = len(words)\n",
    "    B = (V - a) / (math.log(N))\n",
    "    return B\n",
    "\n",
    "entropy = []\n",
    "simpsons = []\n",
    "brunets = []\n",
    "\n",
    "for idx in tqdm(range(train_balanced_reviews_mtc.shape[0])):\n",
    "    entropy.append(ShannonEntropy(train_balanced_reviews_mtc['review_text'][idx]))\n",
    "    simpsons.append(SimpsonsIndex(train_balanced_reviews_mtc['review_text'][idx]))\n",
    "    brunets.append(BrunetsMeasureW(train_balanced_reviews_mtc['review_text'][idx]))\n",
    "\n",
    "for idx in tqdm(range(test_balanced_reviews_mtc.shape[0])):\n",
    "    entropy.append(ShannonEntropy(test_balanced_reviews_mtc['review_text'][idx]))\n",
    "    simpsons.append(SimpsonsIndex(test_balanced_reviews_mtc['review_text'][idx]))\n",
    "    brunets.append(BrunetsMeasureW(test_balanced_reviews_mtc['review_text'][idx]))\n",
    "        \n",
    "len(entropy), len(simpsons), len(brunets)"
   ]
  },
  {
   "cell_type": "code",
   "execution_count": 149,
   "id": "494c341f",
   "metadata": {},
   "outputs": [],
   "source": [
    "def generate_content_feature_set(feature_df):\n",
    "    f_shannon = False\n",
    "    f_simpson = False\n",
    "    f_brunet = True\n",
    "    if f_shannon:\n",
    "        feature_df['Entropy'] = entropy\n",
    "    if f_simpson:\n",
    "        feature_df['Simpsons'] = simpsons\n",
    "    if f_brunet:\n",
    "        feature_df['Brunets'] = brunets"
   ]
  },
  {
   "cell_type": "markdown",
   "id": "1d4a7e6f",
   "metadata": {},
   "source": [
    "### 4.1 Single Values vs Gender"
   ]
  },
  {
   "cell_type": "code",
   "execution_count": 146,
   "id": "7c80c1b3",
   "metadata": {},
   "outputs": [
    {
     "name": "stdout",
     "output_type": "stream",
     "text": [
      "[LibLinear]Model Entropy vs Gender\n",
      "Accuracy  0.4756\n",
      "explained_variance:  -0.0\n",
      "mean_squared_log_error:  0.1236\n",
      "r2:  -0.0\n",
      "log loss:  0.6932\n"
     ]
    },
    {
     "data": {
      "image/png": "[encoded data removed]",
      "text/plain": [
       "<Figure size 432x288 with 1 Axes>"
      ]
     },
     "metadata": {
      "needs_background": "light"
     },
     "output_type": "display_data"
    }
   ],
   "source": [
    "feature_df = pd.DataFrame() \n",
    "generate_content_feature_set(feature_df)\n",
    "call_model()"
   ]
  },
  {
   "cell_type": "code",
   "execution_count": 148,
   "id": "06f28452",
   "metadata": {},
   "outputs": [
    {
     "name": "stdout",
     "output_type": "stream",
     "text": [
      "[LibLinear]Model Simpsons vs Gender\n",
      "Accuracy  0.5293\n",
      "explained_variance:  0.0052\n",
      "mean_squared_log_error:  0.1231\n",
      "r2:  0.0052\n",
      "log loss:  0.6903\n"
     ]
    },
    {
     "data": {
      "image/png": "[encoded data removed]",
      "text/plain": [
       "<Figure size 432x288 with 1 Axes>"
      ]
     },
     "metadata": {
      "needs_background": "light"
     },
     "output_type": "display_data"
    }
   ],
   "source": [
    "feature_df = pd.DataFrame() \n",
    "generate_content_feature_set(feature_df)\n",
    "call_model()"
   ]
  },
  {
   "cell_type": "code",
   "execution_count": 150,
   "id": "6cfda89a",
   "metadata": {},
   "outputs": [
    {
     "name": "stdout",
     "output_type": "stream",
     "text": [
      "[LibLinear]Model Brunets vs Gender\n",
      "Accuracy  0.5484\n",
      "explained_variance:  0.0009\n",
      "mean_squared_log_error:  0.1235\n",
      "r2:  0.0009\n",
      "log loss:  0.6927\n"
     ]
    },
    {
     "data": {
      "image/png": "[encoded data removed]",
      "text/plain": [
       "<Figure size 432x288 with 1 Axes>"
      ]
     },
     "metadata": {
      "needs_background": "light"
     },
     "output_type": "display_data"
    }
   ],
   "source": [
    "feature_df = pd.DataFrame() \n",
    "generate_content_feature_set(feature_df)\n",
    "call_model()"
   ]
  },
  {
   "cell_type": "markdown",
   "id": "7565e934",
   "metadata": {},
   "source": [
    "### 4.2 Combination vs Gender"
   ]
  },
  {
   "cell_type": "code",
   "execution_count": null,
   "id": "b99b56aa",
   "metadata": {},
   "outputs": [],
   "source": []
  },
  {
   "cell_type": "markdown",
   "id": "f351b3de",
   "metadata": {},
   "source": [
    "## 5 PCA"
   ]
  },
  {
   "cell_type": "code",
   "execution_count": null,
   "id": "bc577a30",
   "metadata": {},
   "outputs": [],
   "source": []
  }
 ],
 "metadata": {
  "kernelspec": {
   "display_name": "Python 3",
   "language": "python",
   "name": "python3"
  },
  "language_info": {
   "codemirror_mode": {
    "name": "ipython",
    "version": 3
   },
   "file_extension": ".py",
   "mimetype": "text/x-python",
   "name": "python",
   "nbconvert_exporter": "python",
   "pygments_lexer": "ipython3",
   "version": "3.8.8"
  }
 },
 "nbformat": 4,
 "nbformat_minor": 5
}
