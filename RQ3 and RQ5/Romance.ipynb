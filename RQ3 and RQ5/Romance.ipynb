{
 "cells": [
  {
   "cell_type": "code",
   "execution_count": 1,
   "id": "b8824a5b",
   "metadata": {
    "collapsed": true
   },
   "outputs": [
    {
     "name": "stdout",
     "output_type": "stream",
     "text": [
      "Requirement already satisfied: gdown in ./anaconda3/lib/python3.9/site-packages (4.4.0)\n",
      "Requirement already satisfied: beautifulsoup4 in ./anaconda3/lib/python3.9/site-packages (from gdown) (4.10.0)\n",
      "Requirement already satisfied: six in ./anaconda3/lib/python3.9/site-packages (from gdown) (1.16.0)\n",
      "Requirement already satisfied: tqdm in ./anaconda3/lib/python3.9/site-packages (from gdown) (4.62.3)\n",
      "Requirement already satisfied: requests[socks] in ./anaconda3/lib/python3.9/site-packages (from gdown) (2.26.0)\n",
      "Requirement already satisfied: filelock in ./anaconda3/lib/python3.9/site-packages (from gdown) (3.3.1)\n",
      "Requirement already satisfied: soupsieve>1.2 in ./anaconda3/lib/python3.9/site-packages (from beautifulsoup4->gdown) (2.2.1)\n",
      "Requirement already satisfied: charset-normalizer~=2.0.0 in ./anaconda3/lib/python3.9/site-packages (from requests[socks]->gdown) (2.0.4)\n",
      "Requirement already satisfied: certifi>=2017.4.17 in ./anaconda3/lib/python3.9/site-packages (from requests[socks]->gdown) (2021.10.8)\n",
      "Requirement already satisfied: urllib3<1.27,>=1.21.1 in ./anaconda3/lib/python3.9/site-packages (from requests[socks]->gdown) (1.26.7)\n",
      "Requirement already satisfied: idna<4,>=2.5 in ./anaconda3/lib/python3.9/site-packages (from requests[socks]->gdown) (3.2)\n",
      "Requirement already satisfied: PySocks!=1.5.7,>=1.5.6 in ./anaconda3/lib/python3.9/site-packages (from requests[socks]->gdown) (1.7.1)\n",
      "\u001b[38;5;3m[!] As of spaCy v3.0, shortcuts like 'en' are deprecated. Please use\n",
      "the full pipeline package name 'en_core_web_sm' instead.\u001b[0m\n",
      "Collecting en-core-web-sm==3.2.0\n",
      "  Downloading https://github.com/explosion/spacy-models/releases/download/en_core_web_sm-3.2.0/en_core_web_sm-3.2.0-py3-none-any.whl (13.9 MB)\n",
      "\u001b[K     |################################| 13.9 MB 3.4 MB/s eta 0:00:01\n",
      "\u001b[?25hRequirement already satisfied: spacy<3.3.0,>=3.2.0 in ./anaconda3/lib/python3.9/site-packages (from en-core-web-sm==3.2.0) (3.2.4)\n",
      "Requirement already satisfied: srsly<3.0.0,>=2.4.1 in ./anaconda3/lib/python3.9/site-packages (from spacy<3.3.0,>=3.2.0->en-core-web-sm==3.2.0) (2.4.3)\n",
      "Requirement already satisfied: requests<3.0.0,>=2.13.0 in ./anaconda3/lib/python3.9/site-packages (from spacy<3.3.0,>=3.2.0->en-core-web-sm==3.2.0) (2.26.0)\n",
      "Requirement already satisfied: thinc<8.1.0,>=8.0.12 in ./anaconda3/lib/python3.9/site-packages (from spacy<3.3.0,>=3.2.0->en-core-web-sm==3.2.0) (8.0.15)\n",
      "Requirement already satisfied: spacy-legacy<3.1.0,>=3.0.8 in ./anaconda3/lib/python3.9/site-packages (from spacy<3.3.0,>=3.2.0->en-core-web-sm==3.2.0) (3.0.9)\n",
      "Requirement already satisfied: murmurhash<1.1.0,>=0.28.0 in ./anaconda3/lib/python3.9/site-packages (from spacy<3.3.0,>=3.2.0->en-core-web-sm==3.2.0) (1.0.6)\n",
      "Requirement already satisfied: cymem<2.1.0,>=2.0.2 in ./anaconda3/lib/python3.9/site-packages (from spacy<3.3.0,>=3.2.0->en-core-web-sm==3.2.0) (2.0.6)\n",
      "Requirement already satisfied: wasabi<1.1.0,>=0.8.1 in ./anaconda3/lib/python3.9/site-packages (from spacy<3.3.0,>=3.2.0->en-core-web-sm==3.2.0) (0.9.1)\n",
      "Requirement already satisfied: spacy-loggers<2.0.0,>=1.0.0 in ./anaconda3/lib/python3.9/site-packages (from spacy<3.3.0,>=3.2.0->en-core-web-sm==3.2.0) (1.0.2)\n",
      "Requirement already satisfied: typer<0.5.0,>=0.3.0 in ./anaconda3/lib/python3.9/site-packages (from spacy<3.3.0,>=3.2.0->en-core-web-sm==3.2.0) (0.4.1)\n",
      "Requirement already satisfied: pydantic!=1.8,!=1.8.1,<1.9.0,>=1.7.4 in ./anaconda3/lib/python3.9/site-packages (from spacy<3.3.0,>=3.2.0->en-core-web-sm==3.2.0) (1.8.2)\n",
      "Requirement already satisfied: preshed<3.1.0,>=3.0.2 in ./anaconda3/lib/python3.9/site-packages (from spacy<3.3.0,>=3.2.0->en-core-web-sm==3.2.0) (3.0.6)\n",
      "Requirement already satisfied: packaging>=20.0 in ./anaconda3/lib/python3.9/site-packages (from spacy<3.3.0,>=3.2.0->en-core-web-sm==3.2.0) (21.0)\n",
      "Requirement already satisfied: jinja2 in ./anaconda3/lib/python3.9/site-packages (from spacy<3.3.0,>=3.2.0->en-core-web-sm==3.2.0) (2.11.3)\n",
      "Requirement already satisfied: pathy>=0.3.5 in ./anaconda3/lib/python3.9/site-packages (from spacy<3.3.0,>=3.2.0->en-core-web-sm==3.2.0) (0.6.1)\n",
      "Requirement already satisfied: click<8.1.0 in ./anaconda3/lib/python3.9/site-packages (from spacy<3.3.0,>=3.2.0->en-core-web-sm==3.2.0) (8.0.3)\n",
      "Requirement already satisfied: setuptools in ./anaconda3/lib/python3.9/site-packages (from spacy<3.3.0,>=3.2.0->en-core-web-sm==3.2.0) (58.0.4)\n",
      "Requirement already satisfied: numpy>=1.15.0 in ./anaconda3/lib/python3.9/site-packages (from spacy<3.3.0,>=3.2.0->en-core-web-sm==3.2.0) (1.20.3)\n",
      "Requirement already satisfied: catalogue<2.1.0,>=2.0.6 in ./anaconda3/lib/python3.9/site-packages (from spacy<3.3.0,>=3.2.0->en-core-web-sm==3.2.0) (2.0.7)\n",
      "Requirement already satisfied: langcodes<4.0.0,>=3.2.0 in ./anaconda3/lib/python3.9/site-packages (from spacy<3.3.0,>=3.2.0->en-core-web-sm==3.2.0) (3.3.0)\n",
      "Requirement already satisfied: tqdm<5.0.0,>=4.38.0 in ./anaconda3/lib/python3.9/site-packages (from spacy<3.3.0,>=3.2.0->en-core-web-sm==3.2.0) (4.62.3)\n",
      "Requirement already satisfied: blis<0.8.0,>=0.4.0 in ./anaconda3/lib/python3.9/site-packages (from spacy<3.3.0,>=3.2.0->en-core-web-sm==3.2.0) (0.7.7)\n",
      "Requirement already satisfied: pyparsing>=2.0.2 in ./anaconda3/lib/python3.9/site-packages (from packaging>=20.0->spacy<3.3.0,>=3.2.0->en-core-web-sm==3.2.0) (3.0.4)\n",
      "Requirement already satisfied: smart-open<6.0.0,>=5.0.0 in ./anaconda3/lib/python3.9/site-packages (from pathy>=0.3.5->spacy<3.3.0,>=3.2.0->en-core-web-sm==3.2.0) (5.2.1)\n",
      "Requirement already satisfied: typing-extensions>=3.7.4.3 in ./anaconda3/lib/python3.9/site-packages (from pydantic!=1.8,!=1.8.1,<1.9.0,>=1.7.4->spacy<3.3.0,>=3.2.0->en-core-web-sm==3.2.0) (3.10.0.2)\n",
      "Requirement already satisfied: charset-normalizer~=2.0.0 in ./anaconda3/lib/python3.9/site-packages (from requests<3.0.0,>=2.13.0->spacy<3.3.0,>=3.2.0->en-core-web-sm==3.2.0) (2.0.4)\n",
      "Requirement already satisfied: idna<4,>=2.5 in ./anaconda3/lib/python3.9/site-packages (from requests<3.0.0,>=2.13.0->spacy<3.3.0,>=3.2.0->en-core-web-sm==3.2.0) (3.2)\n",
      "Requirement already satisfied: urllib3<1.27,>=1.21.1 in ./anaconda3/lib/python3.9/site-packages (from requests<3.0.0,>=2.13.0->spacy<3.3.0,>=3.2.0->en-core-web-sm==3.2.0) (1.26.7)\n",
      "Requirement already satisfied: certifi>=2017.4.17 in ./anaconda3/lib/python3.9/site-packages (from requests<3.0.0,>=2.13.0->spacy<3.3.0,>=3.2.0->en-core-web-sm==3.2.0) (2021.10.8)\n",
      "Requirement already satisfied: MarkupSafe>=0.23 in ./anaconda3/lib/python3.9/site-packages (from jinja2->spacy<3.3.0,>=3.2.0->en-core-web-sm==3.2.0) (1.1.1)\n",
      "\u001b[38;5;2m[+] Download and installation successful\u001b[0m\n",
      "You can now load the package via spacy.load('en_core_web_sm')\n",
      "Downloading...\n",
      "From: https://drive.google.com/uc?id=1u2pzjXIuhqf6CR2CBI6kqxLtiynLhUEE\n",
      "To: /home/vkumar364/goodreads_id_name_gender_new.csv\n",
      "100%|#######################################| 98.5M/98.5M [00:00<00:00, 127MB/s]\n",
      "Requirement already satisfied: spacytextblob in ./anaconda3/lib/python3.9/site-packages (4.0.0)\n",
      "Requirement already satisfied: langdetect in ./anaconda3/lib/python3.9/site-packages (1.0.9)\n",
      "Requirement already satisfied: spacy<4.0,>=3.0 in ./anaconda3/lib/python3.9/site-packages (from spacytextblob) (3.2.4)\n",
      "Requirement already satisfied: textblob<0.16.0,>=0.15.3 in ./anaconda3/lib/python3.9/site-packages (from spacytextblob) (0.15.3)\n",
      "Requirement already satisfied: six in ./anaconda3/lib/python3.9/site-packages (from langdetect) (1.16.0)\n",
      "Requirement already satisfied: blis<0.8.0,>=0.4.0 in ./anaconda3/lib/python3.9/site-packages (from spacy<4.0,>=3.0->spacytextblob) (0.7.7)\n",
      "Requirement already satisfied: srsly<3.0.0,>=2.4.1 in ./anaconda3/lib/python3.9/site-packages (from spacy<4.0,>=3.0->spacytextblob) (2.4.3)\n",
      "Requirement already satisfied: jinja2 in ./anaconda3/lib/python3.9/site-packages (from spacy<4.0,>=3.0->spacytextblob) (2.11.3)\n",
      "Requirement already satisfied: thinc<8.1.0,>=8.0.12 in ./anaconda3/lib/python3.9/site-packages (from spacy<4.0,>=3.0->spacytextblob) (8.0.15)\n",
      "Requirement already satisfied: cymem<2.1.0,>=2.0.2 in ./anaconda3/lib/python3.9/site-packages (from spacy<4.0,>=3.0->spacytextblob) (2.0.6)\n",
      "Requirement already satisfied: packaging>=20.0 in ./anaconda3/lib/python3.9/site-packages (from spacy<4.0,>=3.0->spacytextblob) (21.0)\n",
      "Requirement already satisfied: numpy>=1.15.0 in ./anaconda3/lib/python3.9/site-packages (from spacy<4.0,>=3.0->spacytextblob) (1.20.3)\n",
      "Requirement already satisfied: spacy-legacy<3.1.0,>=3.0.8 in ./anaconda3/lib/python3.9/site-packages (from spacy<4.0,>=3.0->spacytextblob) (3.0.9)\n",
      "Requirement already satisfied: preshed<3.1.0,>=3.0.2 in ./anaconda3/lib/python3.9/site-packages (from spacy<4.0,>=3.0->spacytextblob) (3.0.6)\n",
      "Requirement already satisfied: pydantic!=1.8,!=1.8.1,<1.9.0,>=1.7.4 in ./anaconda3/lib/python3.9/site-packages (from spacy<4.0,>=3.0->spacytextblob) (1.8.2)\n",
      "Requirement already satisfied: murmurhash<1.1.0,>=0.28.0 in ./anaconda3/lib/python3.9/site-packages (from spacy<4.0,>=3.0->spacytextblob) (1.0.6)\n",
      "Requirement already satisfied: langcodes<4.0.0,>=3.2.0 in ./anaconda3/lib/python3.9/site-packages (from spacy<4.0,>=3.0->spacytextblob) (3.3.0)\n",
      "Requirement already satisfied: spacy-loggers<2.0.0,>=1.0.0 in ./anaconda3/lib/python3.9/site-packages (from spacy<4.0,>=3.0->spacytextblob) (1.0.2)\n",
      "Requirement already satisfied: typer<0.5.0,>=0.3.0 in ./anaconda3/lib/python3.9/site-packages (from spacy<4.0,>=3.0->spacytextblob) (0.4.1)\n",
      "Requirement already satisfied: requests<3.0.0,>=2.13.0 in ./anaconda3/lib/python3.9/site-packages (from spacy<4.0,>=3.0->spacytextblob) (2.26.0)\n",
      "Requirement already satisfied: wasabi<1.1.0,>=0.8.1 in ./anaconda3/lib/python3.9/site-packages (from spacy<4.0,>=3.0->spacytextblob) (0.9.1)\n",
      "Requirement already satisfied: tqdm<5.0.0,>=4.38.0 in ./anaconda3/lib/python3.9/site-packages (from spacy<4.0,>=3.0->spacytextblob) (4.62.3)\n",
      "Requirement already satisfied: setuptools in ./anaconda3/lib/python3.9/site-packages (from spacy<4.0,>=3.0->spacytextblob) (58.0.4)\n",
      "Requirement already satisfied: pathy>=0.3.5 in ./anaconda3/lib/python3.9/site-packages (from spacy<4.0,>=3.0->spacytextblob) (0.6.1)\n",
      "Requirement already satisfied: catalogue<2.1.0,>=2.0.6 in ./anaconda3/lib/python3.9/site-packages (from spacy<4.0,>=3.0->spacytextblob) (2.0.7)\n",
      "Requirement already satisfied: click<8.1.0 in ./anaconda3/lib/python3.9/site-packages (from spacy<4.0,>=3.0->spacytextblob) (8.0.3)\n",
      "Requirement already satisfied: pyparsing>=2.0.2 in ./anaconda3/lib/python3.9/site-packages (from packaging>=20.0->spacy<4.0,>=3.0->spacytextblob) (3.0.4)\n"
     ]
    },
    {
     "name": "stdout",
     "output_type": "stream",
     "text": [
      "Requirement already satisfied: smart-open<6.0.0,>=5.0.0 in ./anaconda3/lib/python3.9/site-packages (from pathy>=0.3.5->spacy<4.0,>=3.0->spacytextblob) (5.2.1)\n",
      "Requirement already satisfied: typing-extensions>=3.7.4.3 in ./anaconda3/lib/python3.9/site-packages (from pydantic!=1.8,!=1.8.1,<1.9.0,>=1.7.4->spacy<4.0,>=3.0->spacytextblob) (3.10.0.2)\n",
      "Requirement already satisfied: charset-normalizer~=2.0.0 in ./anaconda3/lib/python3.9/site-packages (from requests<3.0.0,>=2.13.0->spacy<4.0,>=3.0->spacytextblob) (2.0.4)\n",
      "Requirement already satisfied: urllib3<1.27,>=1.21.1 in ./anaconda3/lib/python3.9/site-packages (from requests<3.0.0,>=2.13.0->spacy<4.0,>=3.0->spacytextblob) (1.26.7)\n",
      "Requirement already satisfied: certifi>=2017.4.17 in ./anaconda3/lib/python3.9/site-packages (from requests<3.0.0,>=2.13.0->spacy<4.0,>=3.0->spacytextblob) (2021.10.8)\n",
      "Requirement already satisfied: idna<4,>=2.5 in ./anaconda3/lib/python3.9/site-packages (from requests<3.0.0,>=2.13.0->spacy<4.0,>=3.0->spacytextblob) (3.2)\n",
      "Requirement already satisfied: nltk>=3.1 in ./anaconda3/lib/python3.9/site-packages (from textblob<0.16.0,>=0.15.3->spacytextblob) (3.6.5)\n",
      "Requirement already satisfied: joblib in ./anaconda3/lib/python3.9/site-packages (from nltk>=3.1->textblob<0.16.0,>=0.15.3->spacytextblob) (1.1.0)\n",
      "Requirement already satisfied: regex>=2021.8.3 in ./anaconda3/lib/python3.9/site-packages (from nltk>=3.1->textblob<0.16.0,>=0.15.3->spacytextblob) (2021.8.3)\n",
      "Requirement already satisfied: MarkupSafe>=0.23 in ./anaconda3/lib/python3.9/site-packages (from jinja2->spacy<4.0,>=3.0->spacytextblob) (1.1.1)\n"
     ]
    }
   ],
   "source": [
    "!pip3 install gdown\n",
    "!python3 -m spacy download en\n",
    "!gdown 1u2pzjXIuhqf6CR2CBI6kqxLtiynLhUEE #gender_name_csv_file\n",
    "!pip3 install spacytextblob langdetect"
   ]
  },
  {
   "cell_type": "code",
   "execution_count": 2,
   "id": "a845ecbd",
   "metadata": {},
   "outputs": [
    {
     "name": "stdout",
     "output_type": "stream",
     "text": [
      "Requirement already satisfied: langid in ./anaconda3/lib/python3.9/site-packages (1.1.6)\r\n",
      "Requirement already satisfied: numpy in ./anaconda3/lib/python3.9/site-packages (from langid) (1.20.3)\r\n"
     ]
    }
   ],
   "source": [
    "!pip3 install langid"
   ]
  },
  {
   "cell_type": "code",
   "execution_count": 1,
   "id": "00224cdd",
   "metadata": {},
   "outputs": [],
   "source": [
    "import gzip\n",
    "import json\n",
    "import os\n",
    "import pandas as pd\n",
    "import langid\n",
    "\n",
    "def load_data(file_name):\n",
    "    count = 0\n",
    "    data = []\n",
    "    with gzip.open(file_name) as fin:\n",
    "        for l in fin:\n",
    "            d = json.loads(l)\n",
    "            count += 1\n",
    "            data.append(d)        \n",
    "    return data"
   ]
  },
  {
   "cell_type": "code",
   "execution_count": 4,
   "id": "2f9593b0",
   "metadata": {},
   "outputs": [
    {
     "name": "stdout",
     "output_type": "stream",
     "text": [
      "Downloading...\n",
      "From: https://drive.google.com/uc?id=1NpFsDQKBj_lrTzSASfyKbmkSykzN88wE\n",
      "To: /home/vkumar364/goodreads_reviews_romance.json.gz\n",
      "100%|#######################################| 1.30G/1.30G [00:11<00:00, 112MB/s]\n"
     ]
    }
   ],
   "source": [
    "!gdown 1NpFsDQKBj_lrTzSASfyKbmkSykzN88wE"
   ]
  },
  {
   "cell_type": "code",
   "execution_count": 2,
   "id": "e4738117",
   "metadata": {},
   "outputs": [],
   "source": [
    "def download_and_join_data(ggid,csvname,gendered_df):\n",
    "#     os.system('gdown '+ ggid)\n",
    "    data = load_data(csvname)\n",
    "    df = pd.DataFrame(data)\n",
    "    final = pd.merge(df, gendered_data, on='user_id', how='left')\n",
    "    return final[['user_id', 'rating', 'review_text', 'n_votes','n_comments','gender']]"
   ]
  },
  {
   "cell_type": "code",
   "execution_count": 3,
   "id": "6ec59ba1",
   "metadata": {},
   "outputs": [
    {
     "data": {
      "text/html": [
       "<div>\n",
       "<style scoped>\n",
       "    .dataframe tbody tr th:only-of-type {\n",
       "        vertical-align: middle;\n",
       "    }\n",
       "\n",
       "    .dataframe tbody tr th {\n",
       "        vertical-align: top;\n",
       "    }\n",
       "\n",
       "    .dataframe thead th {\n",
       "        text-align: right;\n",
       "    }\n",
       "</style>\n",
       "<table border=\"1\" class=\"dataframe\">\n",
       "  <thead>\n",
       "    <tr style=\"text-align: right;\">\n",
       "      <th></th>\n",
       "      <th>id</th>\n",
       "      <th>username</th>\n",
       "      <th>joined</th>\n",
       "      <th>reviews_count</th>\n",
       "      <th>first_name</th>\n",
       "      <th>user_id</th>\n",
       "      <th>gender</th>\n",
       "    </tr>\n",
       "  </thead>\n",
       "  <tbody>\n",
       "    <tr>\n",
       "      <th>0</th>\n",
       "      <td>50002191</td>\n",
       "      <td>sozerseda</td>\n",
       "      <td>12/2015</td>\n",
       "      <td>184.0</td>\n",
       "      <td>seda</td>\n",
       "      <td>aad6531213b6711ec6bfa5cd3ecac285</td>\n",
       "      <td>female</td>\n",
       "    </tr>\n",
       "    <tr>\n",
       "      <th>1</th>\n",
       "      <td>58298653</td>\n",
       "      <td>NaN</td>\n",
       "      <td>08/2016</td>\n",
       "      <td>24.0</td>\n",
       "      <td>olivia</td>\n",
       "      <td>30a37d704d9c28681606a3fbe80ed58f</td>\n",
       "      <td>female</td>\n",
       "    </tr>\n",
       "    <tr>\n",
       "      <th>2</th>\n",
       "      <td>36210433</td>\n",
       "      <td>NaN</td>\n",
       "      <td>10/2014</td>\n",
       "      <td>379.0</td>\n",
       "      <td>naomi</td>\n",
       "      <td>f856f6ef2eb4ad702af863175f281f92</td>\n",
       "      <td>female</td>\n",
       "    </tr>\n",
       "    <tr>\n",
       "      <th>3</th>\n",
       "      <td>6949799</td>\n",
       "      <td>azima</td>\n",
       "      <td>11/2011</td>\n",
       "      <td>230.0</td>\n",
       "      <td>azima</td>\n",
       "      <td>32d2876b7eb3db5a1ee87f29c01dce4c</td>\n",
       "      <td>female</td>\n",
       "    </tr>\n",
       "    <tr>\n",
       "      <th>4</th>\n",
       "      <td>21443818</td>\n",
       "      <td>NaN</td>\n",
       "      <td>NaN</td>\n",
       "      <td>NaN</td>\n",
       "      <td>nicholas</td>\n",
       "      <td>2ace7a7c6edcdd8ac788fe4fd552b7ca</td>\n",
       "      <td>male</td>\n",
       "    </tr>\n",
       "  </tbody>\n",
       "</table>\n",
       "</div>"
      ],
      "text/plain": [
       "         id   username   joined  reviews_count first_name  \\\n",
       "0  50002191  sozerseda  12/2015          184.0       seda   \n",
       "1  58298653        NaN  08/2016           24.0     olivia   \n",
       "2  36210433        NaN  10/2014          379.0      naomi   \n",
       "3   6949799      azima  11/2011          230.0      azima   \n",
       "4  21443818        NaN      NaN            NaN   nicholas   \n",
       "\n",
       "                            user_id  gender  \n",
       "0  aad6531213b6711ec6bfa5cd3ecac285  female  \n",
       "1  30a37d704d9c28681606a3fbe80ed58f  female  \n",
       "2  f856f6ef2eb4ad702af863175f281f92  female  \n",
       "3  32d2876b7eb3db5a1ee87f29c01dce4c  female  \n",
       "4  2ace7a7c6edcdd8ac788fe4fd552b7ca    male  "
      ]
     },
     "execution_count": 3,
     "metadata": {},
     "output_type": "execute_result"
    }
   ],
   "source": [
    "gendered_data = pd.read_csv('goodreads_id_name_gender_new.csv')\n",
    "gendered_data = gendered_data.drop(columns=['Unnamed: 0','name_x','age','location','friends_count','groups_count'])\n",
    "gendered_data = gendered_data.rename(columns={'uuid':'user_id'})\n",
    "gendered_data.head()"
   ]
  },
  {
   "cell_type": "code",
   "execution_count": 4,
   "id": "493cdf2d",
   "metadata": {},
   "outputs": [],
   "source": [
    "selected = download_and_join_data('1THnnmE4XSCvMkGOsqapQr2cJI5amKA6X','goodreads_reviews_romance.json.gz', gendered_data)"
   ]
  },
  {
   "cell_type": "code",
   "execution_count": 5,
   "id": "8b812455",
   "metadata": {},
   "outputs": [
    {
     "data": {
      "text/plain": [
       "female    2615311\n",
       "UNK        331642\n",
       "male       298117\n",
       "Name: gender, dtype: int64"
      ]
     },
     "execution_count": 5,
     "metadata": {},
     "output_type": "execute_result"
    }
   ],
   "source": [
    "selected['gender'].value_counts()"
   ]
  },
  {
   "cell_type": "code",
   "execution_count": 10,
   "id": "84a7990f",
   "metadata": {},
   "outputs": [],
   "source": [
    "selected_final = selected[selected['gender']!='UNK']"
   ]
  },
  {
   "cell_type": "code",
   "execution_count": 11,
   "id": "cfc36fc9",
   "metadata": {},
   "outputs": [
    {
     "data": {
      "text/plain": [
       "female    2615311\n",
       "male       298117\n",
       "Name: gender, dtype: int64"
      ]
     },
     "execution_count": 11,
     "metadata": {},
     "output_type": "execute_result"
    }
   ],
   "source": [
    "selected_final['gender'].value_counts()"
   ]
  },
  {
   "cell_type": "code",
   "execution_count": 12,
   "id": "27af7eb1",
   "metadata": {},
   "outputs": [
    {
     "data": {
      "text/plain": [
       "<spacytextblob.spacytextblob.SpacyTextBlob at 0x7f9611686c70>"
      ]
     },
     "execution_count": 12,
     "metadata": {},
     "output_type": "execute_result"
    }
   ],
   "source": [
    "import spacy\n",
    "from spacytextblob.spacytextblob import SpacyTextBlob\n",
    "nlp = spacy.load('en_core_web_sm')\n",
    "nlp.add_pipe('spacytextblob')"
   ]
  },
  {
   "cell_type": "code",
   "execution_count": 13,
   "id": "acbe4e33",
   "metadata": {},
   "outputs": [
    {
     "name": "stderr",
     "output_type": "stream",
     "text": [
      "[nltk_data] Downloading package stopwords to\n",
      "[nltk_data]     /nethome/vkumar364/nltk_data...\n",
      "[nltk_data]   Package stopwords is already up-to-date!\n",
      "[nltk_data] Downloading package punkt to\n",
      "[nltk_data]     /nethome/vkumar364/nltk_data...\n",
      "[nltk_data]   Package punkt is already up-to-date!\n",
      "[nltk_data] Downloading package wordnet to\n",
      "[nltk_data]     /nethome/vkumar364/nltk_data...\n",
      "[nltk_data]   Package wordnet is already up-to-date!\n",
      "[nltk_data] Downloading package averaged_perceptron_tagger to\n",
      "[nltk_data]     /nethome/vkumar364/nltk_data...\n",
      "[nltk_data]   Package averaged_perceptron_tagger is already up-to-\n",
      "[nltk_data]       date!\n",
      "[nltk_data] Downloading package universal_tagset to\n",
      "[nltk_data]     /nethome/vkumar364/nltk_data...\n",
      "[nltk_data]   Package universal_tagset is already up-to-date!\n"
     ]
    },
    {
     "name": "stdout",
     "output_type": "stream",
     "text": [
      "Requirement already satisfied: contractions in ./anaconda3/lib/python3.9/site-packages (0.1.68)\r\n",
      "Requirement already satisfied: textsearch>=0.0.21 in ./anaconda3/lib/python3.9/site-packages (from contractions) (0.0.21)\r\n",
      "Requirement already satisfied: pyahocorasick in ./anaconda3/lib/python3.9/site-packages (from textsearch>=0.0.21->contractions) (1.4.4)\r\n",
      "Requirement already satisfied: anyascii in ./anaconda3/lib/python3.9/site-packages (from textsearch>=0.0.21->contractions) (0.3.1)\r\n"
     ]
    }
   ],
   "source": [
    "import nltk\n",
    "nltk.download('stopwords')\n",
    "nltk.download('punkt')\n",
    "nltk.download('wordnet')\n",
    "nltk.download('averaged_perceptron_tagger')\n",
    "nltk.download('universal_tagset')\n",
    "!pip install contractions"
   ]
  },
  {
   "cell_type": "code",
   "execution_count": 14,
   "id": "2784db24",
   "metadata": {},
   "outputs": [],
   "source": [
    "import contractions \n",
    "import re\n",
    "from nltk.corpus import stopwords\n",
    "import numpy as np"
   ]
  },
  {
   "cell_type": "code",
   "execution_count": 15,
   "id": "899b780f",
   "metadata": {},
   "outputs": [],
   "source": [
    "expand_contractions = True\n",
    "remove_stopwords = False\n",
    "format_text = True\n",
    "tokenize = False\n",
    "lemmatize = False\n",
    "\n",
    "def clean_text(text):\n",
    "    '''Text Preprocessing '''\n",
    "    \n",
    "    # Convert words to lower case\n",
    "    text = text.lower()\n",
    "    split_text = text.split()\n",
    "    \n",
    "    # Expand contractions\n",
    "    if expand_contractions:\n",
    "        expanded_words = []   \n",
    "        for word in split_text:\n",
    "            expanded_words.append(contractions.fix(word))\n",
    "        text = \" \".join(expanded_words)\n",
    "\n",
    "    # Format words and remove unwanted characters\n",
    "    if format_text:\n",
    "        text = re.sub(r'https?:\\/\\/.*[\\r\\n]*', '', text, flags=re.MULTILINE)\n",
    "        text = re.sub(r'\\<a href', ' ', text)\n",
    "        text = re.sub(r'&amp;', '', text) \n",
    "        text = re.sub(r'[_\"\\-;%()|+&=*%.,!?:#$@\\[\\]/]', ' ', text)\n",
    "        text = re.sub(r'<br />', ' ', text)\n",
    "        text = re.sub(r'\\'', ' ', text)\n",
    "    \n",
    "    # remove stopwords\n",
    "    if remove_stopwords:\n",
    "        split_text = text.split()\n",
    "        stops = set(stopwords.words(\"english\"))\n",
    "        word = [w for w in split_text if not w in stops]\n",
    "        text = \" \".join(word)\n",
    "\n",
    "    # Tokenize each word\n",
    "    if tokenize:\n",
    "        text =  nltk.WordPunctTokenizer().tokenize(text)\n",
    "    \n",
    "    # Lemmatize each token\n",
    "    if lemmatize:\n",
    "        lemm = nltk.stem.WordNetLemmatizer()\n",
    "        text = list(map(lambda word:list(map(lemm.lemmatize, word)), text))\n",
    "    \n",
    "    return text"
   ]
  },
  {
   "cell_type": "code",
   "execution_count": 16,
   "id": "25ceba09",
   "metadata": {},
   "outputs": [],
   "source": [
    "selected['review_length'] = selected['review_text'].apply(lambda x: len(x.split(' ')))"
   ]
  },
  {
   "cell_type": "code",
   "execution_count": 17,
   "id": "30b3ea13",
   "metadata": {},
   "outputs": [],
   "source": [
    "def get_subsampled_gendered(selected_final,lower,upper):\n",
    "    selected_final_male = selected_final[selected_final['gender']=='male']\n",
    "    selected_final_female = selected_final[selected_final['gender']=='female']\n",
    "    selected_final_male_rev = selected_final_male[selected_final_male['review_length']>lower]\n",
    "    selected_final_male_rev = selected_final_male_rev[selected_final_male_rev['review_length']<=upper]\n",
    "    selected_final_female_rev = selected_final_female[selected_final_female['review_length']>lower]\n",
    "    selected_final_female_rev = selected_final_female_rev[selected_final_female_rev['review_length']<=upper]\n",
    "    #subsampling here\n",
    "    min_select = min(list(selected_final_female_rev['rating'].value_counts()) + list(selected_final_male_rev['rating'].value_counts()))\n",
    "    #sampling down the total data - for males\n",
    "    x = selected_final_male_rev[selected_final_male_rev['rating']==1].sample(min_select)\n",
    "    x = x.append(selected_final_male_rev[selected_final_male_rev['rating']==2].sample(min_select))\n",
    "    x = x.append(selected_final_male_rev[selected_final_male_rev['rating']==3].sample(min_select))\n",
    "    x = x.append(selected_final_male_rev[selected_final_male_rev['rating']==4].sample(min_select))\n",
    "    x = x.append(selected_final_male_rev[selected_final_male_rev['rating']==5].sample(min_select))\n",
    "    #sampling down the total data - for females\n",
    "    y = selected_final_female_rev[selected_final_female_rev['rating']==1].sample(min_select)\n",
    "    y = y.append(selected_final_female_rev[selected_final_female_rev['rating']==2].sample(min_select))\n",
    "    y = y.append(selected_final_female_rev[selected_final_female_rev['rating']==3].sample(min_select))\n",
    "    y = y.append(selected_final_female_rev[selected_final_female_rev['rating']==4].sample(min_select))\n",
    "    y = y.append(selected_final_female_rev[selected_final_female_rev['rating']==5].sample(min_select))\n",
    "    return x,y\n",
    "    "
   ]
  },
  {
   "cell_type": "code",
   "execution_count": 18,
   "id": "2c0449ba",
   "metadata": {},
   "outputs": [],
   "source": [
    "male_rev,female_rev = get_subsampled_gendered(selected,5,500)"
   ]
  },
  {
   "cell_type": "code",
   "execution_count": 19,
   "id": "df2dd76e",
   "metadata": {},
   "outputs": [],
   "source": [
    "def clean_en_sentiment(df):\n",
    "    df['review_text_cleaned'] = df['review_text'].apply(clean_text)\n",
    "    df['review_lang'] = df['review_text'].apply(lambda x: langid.classify(x)[0])\n",
    "    df = df[df['review_lang'] == 'en']\n",
    "    df['sentiment_score'] = df['review_text'].apply(lambda x: nlp(x)._.polarity)\n",
    "    return df "
   ]
  },
  {
   "cell_type": "code",
   "execution_count": 20,
   "id": "69be3f5a",
   "metadata": {},
   "outputs": [
    {
     "name": "stderr",
     "output_type": "stream",
     "text": [
      "/tmp/ipykernel_29485/1754966298.py:5: SettingWithCopyWarning: \n",
      "A value is trying to be set on a copy of a slice from a DataFrame.\n",
      "Try using .loc[row_indexer,col_indexer] = value instead\n",
      "\n",
      "See the caveats in the documentation: https://pandas.pydata.org/pandas-docs/stable/user_guide/indexing.html#returning-a-view-versus-a-copy\n",
      "  df['sentiment_score'] = df['review_text'].apply(lambda x: nlp(x)._.polarity)\n"
     ]
    }
   ],
   "source": [
    "male_rev_cleaned = clean_en_sentiment(male_rev)\n",
    "female_rev_cleaned = clean_en_sentiment(female_rev)"
   ]
  },
  {
   "cell_type": "code",
   "execution_count": 21,
   "id": "a1a1e76b",
   "metadata": {},
   "outputs": [],
   "source": [
    "female_rev_cleaned = female_rev_cleaned.reset_index()\n",
    "male_rev_cleaned = male_rev_cleaned.reset_index()"
   ]
  },
  {
   "cell_type": "code",
   "execution_count": 22,
   "id": "9cb9a891",
   "metadata": {},
   "outputs": [],
   "source": [
    "male_rev_cleaned = male_rev_cleaned[['rating','n_votes', 'n_comments', 'gender','review_length','sentiment_score']]\n",
    "female_rev_cleaned = female_rev_cleaned[['rating','n_votes', 'n_comments', 'gender','review_length','sentiment_score']]"
   ]
  },
  {
   "cell_type": "code",
   "execution_count": 23,
   "id": "f2b537db",
   "metadata": {},
   "outputs": [
    {
     "data": {
      "text/html": [
       "<div>\n",
       "<style scoped>\n",
       "    .dataframe tbody tr th:only-of-type {\n",
       "        vertical-align: middle;\n",
       "    }\n",
       "\n",
       "    .dataframe tbody tr th {\n",
       "        vertical-align: top;\n",
       "    }\n",
       "\n",
       "    .dataframe thead th {\n",
       "        text-align: right;\n",
       "    }\n",
       "</style>\n",
       "<table border=\"1\" class=\"dataframe\">\n",
       "  <thead>\n",
       "    <tr style=\"text-align: right;\">\n",
       "      <th></th>\n",
       "      <th>rating</th>\n",
       "      <th>n_votes</th>\n",
       "      <th>n_comments</th>\n",
       "      <th>gender</th>\n",
       "      <th>review_length</th>\n",
       "      <th>sentiment_score</th>\n",
       "    </tr>\n",
       "  </thead>\n",
       "  <tbody>\n",
       "    <tr>\n",
       "      <th>0</th>\n",
       "      <td>1</td>\n",
       "      <td>0</td>\n",
       "      <td>0</td>\n",
       "      <td>male</td>\n",
       "      <td>236</td>\n",
       "      <td>0.065179</td>\n",
       "    </tr>\n",
       "    <tr>\n",
       "      <th>1</th>\n",
       "      <td>1</td>\n",
       "      <td>2</td>\n",
       "      <td>0</td>\n",
       "      <td>male</td>\n",
       "      <td>450</td>\n",
       "      <td>0.041031</td>\n",
       "    </tr>\n",
       "    <tr>\n",
       "      <th>2</th>\n",
       "      <td>1</td>\n",
       "      <td>0</td>\n",
       "      <td>0</td>\n",
       "      <td>male</td>\n",
       "      <td>15</td>\n",
       "      <td>-1.000000</td>\n",
       "    </tr>\n",
       "    <tr>\n",
       "      <th>3</th>\n",
       "      <td>1</td>\n",
       "      <td>0</td>\n",
       "      <td>0</td>\n",
       "      <td>male</td>\n",
       "      <td>31</td>\n",
       "      <td>-0.235417</td>\n",
       "    </tr>\n",
       "    <tr>\n",
       "      <th>4</th>\n",
       "      <td>1</td>\n",
       "      <td>1</td>\n",
       "      <td>0</td>\n",
       "      <td>male</td>\n",
       "      <td>174</td>\n",
       "      <td>0.137564</td>\n",
       "    </tr>\n",
       "    <tr>\n",
       "      <th>...</th>\n",
       "      <td>...</td>\n",
       "      <td>...</td>\n",
       "      <td>...</td>\n",
       "      <td>...</td>\n",
       "      <td>...</td>\n",
       "      <td>...</td>\n",
       "    </tr>\n",
       "    <tr>\n",
       "      <th>33729</th>\n",
       "      <td>5</td>\n",
       "      <td>0</td>\n",
       "      <td>0</td>\n",
       "      <td>male</td>\n",
       "      <td>83</td>\n",
       "      <td>0.287500</td>\n",
       "    </tr>\n",
       "    <tr>\n",
       "      <th>33730</th>\n",
       "      <td>5</td>\n",
       "      <td>0</td>\n",
       "      <td>1</td>\n",
       "      <td>male</td>\n",
       "      <td>21</td>\n",
       "      <td>0.000000</td>\n",
       "    </tr>\n",
       "    <tr>\n",
       "      <th>33731</th>\n",
       "      <td>5</td>\n",
       "      <td>0</td>\n",
       "      <td>0</td>\n",
       "      <td>male</td>\n",
       "      <td>302</td>\n",
       "      <td>0.242222</td>\n",
       "    </tr>\n",
       "    <tr>\n",
       "      <th>33732</th>\n",
       "      <td>5</td>\n",
       "      <td>0</td>\n",
       "      <td>0</td>\n",
       "      <td>male</td>\n",
       "      <td>161</td>\n",
       "      <td>0.147619</td>\n",
       "    </tr>\n",
       "    <tr>\n",
       "      <th>33733</th>\n",
       "      <td>5</td>\n",
       "      <td>0</td>\n",
       "      <td>0</td>\n",
       "      <td>male</td>\n",
       "      <td>162</td>\n",
       "      <td>0.259077</td>\n",
       "    </tr>\n",
       "  </tbody>\n",
       "</table>\n",
       "<p>33734 rows × 6 columns</p>\n",
       "</div>"
      ],
      "text/plain": [
       "       rating  n_votes  n_comments gender  review_length  sentiment_score\n",
       "0           1        0           0   male            236         0.065179\n",
       "1           1        2           0   male            450         0.041031\n",
       "2           1        0           0   male             15        -1.000000\n",
       "3           1        0           0   male             31        -0.235417\n",
       "4           1        1           0   male            174         0.137564\n",
       "...       ...      ...         ...    ...            ...              ...\n",
       "33729       5        0           0   male             83         0.287500\n",
       "33730       5        0           1   male             21         0.000000\n",
       "33731       5        0           0   male            302         0.242222\n",
       "33732       5        0           0   male            161         0.147619\n",
       "33733       5        0           0   male            162         0.259077\n",
       "\n",
       "[33734 rows x 6 columns]"
      ]
     },
     "execution_count": 23,
     "metadata": {},
     "output_type": "execute_result"
    }
   ],
   "source": [
    "male_rev_cleaned"
   ]
  },
  {
   "cell_type": "code",
   "execution_count": 24,
   "id": "5afe0f2e",
   "metadata": {},
   "outputs": [],
   "source": [
    "male_rev_cleaned['gender'] = 0\n",
    "female_rev_cleaned['gender'] = 1"
   ]
  },
  {
   "cell_type": "code",
   "execution_count": 25,
   "id": "1033698c",
   "metadata": {},
   "outputs": [],
   "source": [
    "combined_data = male_rev_cleaned.append(female_rev_cleaned)"
   ]
  },
  {
   "cell_type": "code",
   "execution_count": 26,
   "id": "e30f6946",
   "metadata": {},
   "outputs": [
    {
     "data": {
      "text/html": [
       "<div>\n",
       "<style scoped>\n",
       "    .dataframe tbody tr th:only-of-type {\n",
       "        vertical-align: middle;\n",
       "    }\n",
       "\n",
       "    .dataframe tbody tr th {\n",
       "        vertical-align: top;\n",
       "    }\n",
       "\n",
       "    .dataframe thead th {\n",
       "        text-align: right;\n",
       "    }\n",
       "</style>\n",
       "<table border=\"1\" class=\"dataframe\">\n",
       "  <thead>\n",
       "    <tr style=\"text-align: right;\">\n",
       "      <th></th>\n",
       "      <th>rating</th>\n",
       "      <th>n_votes</th>\n",
       "      <th>n_comments</th>\n",
       "      <th>gender</th>\n",
       "      <th>review_length</th>\n",
       "      <th>sentiment_score</th>\n",
       "    </tr>\n",
       "  </thead>\n",
       "  <tbody>\n",
       "    <tr>\n",
       "      <th>0</th>\n",
       "      <td>1</td>\n",
       "      <td>0</td>\n",
       "      <td>0</td>\n",
       "      <td>0</td>\n",
       "      <td>236</td>\n",
       "      <td>0.065179</td>\n",
       "    </tr>\n",
       "    <tr>\n",
       "      <th>1</th>\n",
       "      <td>1</td>\n",
       "      <td>2</td>\n",
       "      <td>0</td>\n",
       "      <td>0</td>\n",
       "      <td>450</td>\n",
       "      <td>0.041031</td>\n",
       "    </tr>\n",
       "    <tr>\n",
       "      <th>2</th>\n",
       "      <td>1</td>\n",
       "      <td>0</td>\n",
       "      <td>0</td>\n",
       "      <td>0</td>\n",
       "      <td>15</td>\n",
       "      <td>-1.000000</td>\n",
       "    </tr>\n",
       "    <tr>\n",
       "      <th>3</th>\n",
       "      <td>1</td>\n",
       "      <td>0</td>\n",
       "      <td>0</td>\n",
       "      <td>0</td>\n",
       "      <td>31</td>\n",
       "      <td>-0.235417</td>\n",
       "    </tr>\n",
       "    <tr>\n",
       "      <th>4</th>\n",
       "      <td>1</td>\n",
       "      <td>1</td>\n",
       "      <td>0</td>\n",
       "      <td>0</td>\n",
       "      <td>174</td>\n",
       "      <td>0.137564</td>\n",
       "    </tr>\n",
       "    <tr>\n",
       "      <th>...</th>\n",
       "      <td>...</td>\n",
       "      <td>...</td>\n",
       "      <td>...</td>\n",
       "      <td>...</td>\n",
       "      <td>...</td>\n",
       "      <td>...</td>\n",
       "    </tr>\n",
       "    <tr>\n",
       "      <th>34676</th>\n",
       "      <td>5</td>\n",
       "      <td>0</td>\n",
       "      <td>0</td>\n",
       "      <td>1</td>\n",
       "      <td>119</td>\n",
       "      <td>0.294697</td>\n",
       "    </tr>\n",
       "    <tr>\n",
       "      <th>34677</th>\n",
       "      <td>5</td>\n",
       "      <td>0</td>\n",
       "      <td>0</td>\n",
       "      <td>1</td>\n",
       "      <td>49</td>\n",
       "      <td>0.282143</td>\n",
       "    </tr>\n",
       "    <tr>\n",
       "      <th>34678</th>\n",
       "      <td>5</td>\n",
       "      <td>0</td>\n",
       "      <td>0</td>\n",
       "      <td>1</td>\n",
       "      <td>170</td>\n",
       "      <td>0.214132</td>\n",
       "    </tr>\n",
       "    <tr>\n",
       "      <th>34679</th>\n",
       "      <td>5</td>\n",
       "      <td>0</td>\n",
       "      <td>0</td>\n",
       "      <td>1</td>\n",
       "      <td>401</td>\n",
       "      <td>0.249302</td>\n",
       "    </tr>\n",
       "    <tr>\n",
       "      <th>34680</th>\n",
       "      <td>5</td>\n",
       "      <td>0</td>\n",
       "      <td>0</td>\n",
       "      <td>1</td>\n",
       "      <td>19</td>\n",
       "      <td>0.591363</td>\n",
       "    </tr>\n",
       "  </tbody>\n",
       "</table>\n",
       "<p>68415 rows × 6 columns</p>\n",
       "</div>"
      ],
      "text/plain": [
       "       rating  n_votes  n_comments  gender  review_length  sentiment_score\n",
       "0           1        0           0       0            236         0.065179\n",
       "1           1        2           0       0            450         0.041031\n",
       "2           1        0           0       0             15        -1.000000\n",
       "3           1        0           0       0             31        -0.235417\n",
       "4           1        1           0       0            174         0.137564\n",
       "...       ...      ...         ...     ...            ...              ...\n",
       "34676       5        0           0       1            119         0.294697\n",
       "34677       5        0           0       1             49         0.282143\n",
       "34678       5        0           0       1            170         0.214132\n",
       "34679       5        0           0       1            401         0.249302\n",
       "34680       5        0           0       1             19         0.591363\n",
       "\n",
       "[68415 rows x 6 columns]"
      ]
     },
     "execution_count": 26,
     "metadata": {},
     "output_type": "execute_result"
    }
   ],
   "source": [
    "combined_data"
   ]
  },
  {
   "cell_type": "code",
   "execution_count": 27,
   "id": "095a1a81",
   "metadata": {},
   "outputs": [],
   "source": [
    "final_g = combined_data[['n_votes', 'n_comments', 'gender', 'review_length','sentiment_score']]\n",
    "final_w = combined_data[['n_votes', 'n_comments', 'review_length','sentiment_score']]\n",
    "pred = combined_data['rating']"
   ]
  },
  {
   "cell_type": "code",
   "execution_count": 28,
   "id": "71c8a1fe",
   "metadata": {},
   "outputs": [
    {
     "data": {
      "text/html": [
       "<div>\n",
       "<style scoped>\n",
       "    .dataframe tbody tr th:only-of-type {\n",
       "        vertical-align: middle;\n",
       "    }\n",
       "\n",
       "    .dataframe tbody tr th {\n",
       "        vertical-align: top;\n",
       "    }\n",
       "\n",
       "    .dataframe thead th {\n",
       "        text-align: right;\n",
       "    }\n",
       "</style>\n",
       "<table border=\"1\" class=\"dataframe\">\n",
       "  <thead>\n",
       "    <tr style=\"text-align: right;\">\n",
       "      <th></th>\n",
       "      <th>n_votes</th>\n",
       "      <th>n_comments</th>\n",
       "      <th>gender</th>\n",
       "      <th>review_length</th>\n",
       "      <th>sentiment_score</th>\n",
       "    </tr>\n",
       "  </thead>\n",
       "  <tbody>\n",
       "    <tr>\n",
       "      <th>0</th>\n",
       "      <td>0</td>\n",
       "      <td>0</td>\n",
       "      <td>0</td>\n",
       "      <td>236</td>\n",
       "      <td>0.065179</td>\n",
       "    </tr>\n",
       "    <tr>\n",
       "      <th>1</th>\n",
       "      <td>2</td>\n",
       "      <td>0</td>\n",
       "      <td>0</td>\n",
       "      <td>450</td>\n",
       "      <td>0.041031</td>\n",
       "    </tr>\n",
       "    <tr>\n",
       "      <th>2</th>\n",
       "      <td>0</td>\n",
       "      <td>0</td>\n",
       "      <td>0</td>\n",
       "      <td>15</td>\n",
       "      <td>-1.000000</td>\n",
       "    </tr>\n",
       "    <tr>\n",
       "      <th>3</th>\n",
       "      <td>0</td>\n",
       "      <td>0</td>\n",
       "      <td>0</td>\n",
       "      <td>31</td>\n",
       "      <td>-0.235417</td>\n",
       "    </tr>\n",
       "    <tr>\n",
       "      <th>4</th>\n",
       "      <td>1</td>\n",
       "      <td>0</td>\n",
       "      <td>0</td>\n",
       "      <td>174</td>\n",
       "      <td>0.137564</td>\n",
       "    </tr>\n",
       "  </tbody>\n",
       "</table>\n",
       "</div>"
      ],
      "text/plain": [
       "   n_votes  n_comments  gender  review_length  sentiment_score\n",
       "0        0           0       0            236         0.065179\n",
       "1        2           0       0            450         0.041031\n",
       "2        0           0       0             15        -1.000000\n",
       "3        0           0       0             31        -0.235417\n",
       "4        1           0       0            174         0.137564"
      ]
     },
     "execution_count": 28,
     "metadata": {},
     "output_type": "execute_result"
    }
   ],
   "source": [
    "final_g.head()"
   ]
  },
  {
   "cell_type": "code",
   "execution_count": 29,
   "id": "9ba49130",
   "metadata": {},
   "outputs": [
    {
     "name": "stderr",
     "output_type": "stream",
     "text": [
      "/nethome/vkumar364/anaconda3/lib/python3.9/site-packages/statsmodels/tsa/tsatools.py:142: FutureWarning: In a future version of pandas all arguments of concat except for the argument 'objs' will be keyword-only\n",
      "  x = pd.concat(x[::order], 1)\n"
     ]
    }
   ],
   "source": [
    "import statsmodels.api as sm\n",
    "model_g = sm.OLS(pred, sm.add_constant(final_g)).fit()\n",
    "model_w = sm.OLS(pred, sm.add_constant(final_w)).fit()"
   ]
  },
  {
   "cell_type": "code",
   "execution_count": 30,
   "id": "6876d2c2",
   "metadata": {},
   "outputs": [
    {
     "data": {
      "text/html": [
       "<table class=\"simpletable\">\n",
       "<caption>OLS Regression Results</caption>\n",
       "<tr>\n",
       "  <th>Dep. Variable:</th>         <td>rating</td>      <th>  R-squared:         </th>  <td>   0.232</td>  \n",
       "</tr>\n",
       "<tr>\n",
       "  <th>Model:</th>                   <td>OLS</td>       <th>  Adj. R-squared:    </th>  <td>   0.232</td>  \n",
       "</tr>\n",
       "<tr>\n",
       "  <th>Method:</th>             <td>Least Squares</td>  <th>  F-statistic:       </th>  <td>   4141.</td>  \n",
       "</tr>\n",
       "<tr>\n",
       "  <th>Date:</th>             <td>Thu, 28 Apr 2022</td> <th>  Prob (F-statistic):</th>   <td>  0.00</td>   \n",
       "</tr>\n",
       "<tr>\n",
       "  <th>Time:</th>                 <td>16:13:00</td>     <th>  Log-Likelihood:    </th> <td>-1.1200e+05</td>\n",
       "</tr>\n",
       "<tr>\n",
       "  <th>No. Observations:</th>      <td> 68415</td>      <th>  AIC:               </th>  <td>2.240e+05</td> \n",
       "</tr>\n",
       "<tr>\n",
       "  <th>Df Residuals:</th>          <td> 68409</td>      <th>  BIC:               </th>  <td>2.241e+05</td> \n",
       "</tr>\n",
       "<tr>\n",
       "  <th>Df Model:</th>              <td>     5</td>      <th>                     </th>      <td> </td>     \n",
       "</tr>\n",
       "<tr>\n",
       "  <th>Covariance Type:</th>      <td>nonrobust</td>    <th>                     </th>      <td> </td>     \n",
       "</tr>\n",
       "</table>\n",
       "<table class=\"simpletable\">\n",
       "<tr>\n",
       "         <td></td>            <th>coef</th>     <th>std err</th>      <th>t</th>      <th>P>|t|</th>  <th>[0.025</th>    <th>0.975]</th>  \n",
       "</tr>\n",
       "<tr>\n",
       "  <th>const</th>           <td>    2.4293</td> <td>    0.009</td> <td>  265.966</td> <td> 0.000</td> <td>    2.411</td> <td>    2.447</td>\n",
       "</tr>\n",
       "<tr>\n",
       "  <th>n_votes</th>         <td>    0.0031</td> <td>    0.001</td> <td>    2.959</td> <td> 0.003</td> <td>    0.001</td> <td>    0.005</td>\n",
       "</tr>\n",
       "<tr>\n",
       "  <th>n_comments</th>      <td>   -0.0240</td> <td>    0.002</td> <td>  -10.807</td> <td> 0.000</td> <td>   -0.028</td> <td>   -0.020</td>\n",
       "</tr>\n",
       "<tr>\n",
       "  <th>gender</th>          <td>   -0.0182</td> <td>    0.010</td> <td>   -1.913</td> <td> 0.056</td> <td>   -0.037</td> <td>    0.000</td>\n",
       "</tr>\n",
       "<tr>\n",
       "  <th>review_length</th>   <td>    0.0013</td> <td> 4.13e-05</td> <td>   31.184</td> <td> 0.000</td> <td>    0.001</td> <td>    0.001</td>\n",
       "</tr>\n",
       "<tr>\n",
       "  <th>sentiment_score</th> <td>    2.8601</td> <td>    0.020</td> <td>  141.003</td> <td> 0.000</td> <td>    2.820</td> <td>    2.900</td>\n",
       "</tr>\n",
       "</table>\n",
       "<table class=\"simpletable\">\n",
       "<tr>\n",
       "  <th>Omnibus:</th>       <td>2957.378</td> <th>  Durbin-Watson:     </th> <td>   0.461</td> \n",
       "</tr>\n",
       "<tr>\n",
       "  <th>Prob(Omnibus):</th>  <td> 0.000</td>  <th>  Jarque-Bera (JB):  </th> <td>1235.516</td> \n",
       "</tr>\n",
       "<tr>\n",
       "  <th>Skew:</th>           <td> 0.001</td>  <th>  Prob(JB):          </th> <td>5.14e-269</td>\n",
       "</tr>\n",
       "<tr>\n",
       "  <th>Kurtosis:</th>       <td> 2.342</td>  <th>  Cond. No.          </th> <td>    719.</td> \n",
       "</tr>\n",
       "</table><br/><br/>Notes:<br/>[1] Standard Errors assume that the covariance matrix of the errors is correctly specified."
      ],
      "text/plain": [
       "<class 'statsmodels.iolib.summary.Summary'>\n",
       "\"\"\"\n",
       "                            OLS Regression Results                            \n",
       "==============================================================================\n",
       "Dep. Variable:                 rating   R-squared:                       0.232\n",
       "Model:                            OLS   Adj. R-squared:                  0.232\n",
       "Method:                 Least Squares   F-statistic:                     4141.\n",
       "Date:                Thu, 28 Apr 2022   Prob (F-statistic):               0.00\n",
       "Time:                        16:13:00   Log-Likelihood:            -1.1200e+05\n",
       "No. Observations:               68415   AIC:                         2.240e+05\n",
       "Df Residuals:                   68409   BIC:                         2.241e+05\n",
       "Df Model:                           5                                         \n",
       "Covariance Type:            nonrobust                                         \n",
       "===================================================================================\n",
       "                      coef    std err          t      P>|t|      [0.025      0.975]\n",
       "-----------------------------------------------------------------------------------\n",
       "const               2.4293      0.009    265.966      0.000       2.411       2.447\n",
       "n_votes             0.0031      0.001      2.959      0.003       0.001       0.005\n",
       "n_comments         -0.0240      0.002    -10.807      0.000      -0.028      -0.020\n",
       "gender             -0.0182      0.010     -1.913      0.056      -0.037       0.000\n",
       "review_length       0.0013   4.13e-05     31.184      0.000       0.001       0.001\n",
       "sentiment_score     2.8601      0.020    141.003      0.000       2.820       2.900\n",
       "==============================================================================\n",
       "Omnibus:                     2957.378   Durbin-Watson:                   0.461\n",
       "Prob(Omnibus):                  0.000   Jarque-Bera (JB):             1235.516\n",
       "Skew:                           0.001   Prob(JB):                    5.14e-269\n",
       "Kurtosis:                       2.342   Cond. No.                         719.\n",
       "==============================================================================\n",
       "\n",
       "Notes:\n",
       "[1] Standard Errors assume that the covariance matrix of the errors is correctly specified.\n",
       "\"\"\""
      ]
     },
     "execution_count": 30,
     "metadata": {},
     "output_type": "execute_result"
    }
   ],
   "source": [
    "model_g.summary()"
   ]
  },
  {
   "cell_type": "code",
   "execution_count": 31,
   "id": "02b664a0",
   "metadata": {},
   "outputs": [
    {
     "data": {
      "text/html": [
       "<div>\n",
       "<style scoped>\n",
       "    .dataframe tbody tr th:only-of-type {\n",
       "        vertical-align: middle;\n",
       "    }\n",
       "\n",
       "    .dataframe tbody tr th {\n",
       "        vertical-align: top;\n",
       "    }\n",
       "\n",
       "    .dataframe thead th {\n",
       "        text-align: right;\n",
       "    }\n",
       "</style>\n",
       "<table border=\"1\" class=\"dataframe\">\n",
       "  <thead>\n",
       "    <tr style=\"text-align: right;\">\n",
       "      <th></th>\n",
       "      <th>df_resid</th>\n",
       "      <th>ssr</th>\n",
       "      <th>df_diff</th>\n",
       "      <th>ss_diff</th>\n",
       "      <th>F</th>\n",
       "      <th>Pr(&gt;F)</th>\n",
       "    </tr>\n",
       "  </thead>\n",
       "  <tbody>\n",
       "    <tr>\n",
       "      <th>0</th>\n",
       "      <td>68410.0</td>\n",
       "      <td>105835.978081</td>\n",
       "      <td>0.0</td>\n",
       "      <td>NaN</td>\n",
       "      <td>NaN</td>\n",
       "      <td>NaN</td>\n",
       "    </tr>\n",
       "    <tr>\n",
       "      <th>1</th>\n",
       "      <td>68409.0</td>\n",
       "      <td>105830.315898</td>\n",
       "      <td>1.0</td>\n",
       "      <td>5.662183</td>\n",
       "      <td>3.66005</td>\n",
       "      <td>0.055736</td>\n",
       "    </tr>\n",
       "  </tbody>\n",
       "</table>\n",
       "</div>"
      ],
      "text/plain": [
       "   df_resid            ssr  df_diff   ss_diff        F    Pr(>F)\n",
       "0   68410.0  105835.978081      0.0       NaN      NaN       NaN\n",
       "1   68409.0  105830.315898      1.0  5.662183  3.66005  0.055736"
      ]
     },
     "execution_count": 31,
     "metadata": {},
     "output_type": "execute_result"
    }
   ],
   "source": [
    "sm.stats.anova_lm(model_w, model_g)"
   ]
  },
  {
   "cell_type": "code",
   "execution_count": 32,
   "id": "9d8e4e8f",
   "metadata": {},
   "outputs": [
    {
     "data": {
      "text/plain": [
       "432"
      ]
     },
     "execution_count": 32,
     "metadata": {},
     "output_type": "execute_result"
    }
   ],
   "source": [
    "import gc\n",
    "gc.collect()"
   ]
  },
  {
   "cell_type": "code",
   "execution_count": null,
   "id": "685aaca9",
   "metadata": {},
   "outputs": [],
   "source": []
  }
 ],
 "metadata": {
  "kernelspec": {
   "display_name": "Python 3 (ipykernel)",
   "language": "python",
   "name": "python3"
  },
  "language_info": {
   "codemirror_mode": {
    "name": "ipython",
    "version": 3
   },
   "file_extension": ".py",
   "mimetype": "text/x-python",
   "name": "python",
   "nbconvert_exporter": "python",
   "pygments_lexer": "ipython3",
   "version": "3.9.7"
  }
 },
 "nbformat": 4,
 "nbformat_minor": 5
}
