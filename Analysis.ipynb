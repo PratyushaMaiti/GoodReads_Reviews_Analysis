{
 "cells": [
  {
   "cell_type": "markdown",
   "id": "268a96f6",
   "metadata": {},
   "source": [
    "# Understanding the Role of Gender in Book Reviews\n",
    "\n",
    "## CS 6471: Computational Social Science - Project\n",
    "Author: Pratyusha Maiti\n",
    "\n",
    "Affiliation: Georgia Institute of Technology\n",
    "\n",
    "### Research Objectives\n",
    "- Do book reviews by different genders differ in stylistic features?\n",
    "- Do book reviews by different genders differ w.r.t their content?\n",
    "- Are book reviews written by males perceived as more useful than book reviews written by females?"
   ]
  },
  {
   "cell_type": "markdown",
   "id": "49959899",
   "metadata": {},
   "source": [
    "## TODO:\n",
    "\n",
    "- Keep unknown gender values and try predicting?"
   ]
  },
  {
   "cell_type": "code",
   "execution_count": 215,
   "id": "c7d023bd",
   "metadata": {},
   "outputs": [
    {
     "name": "stderr",
     "output_type": "stream",
     "text": [
      "[nltk_data] Downloading package stopwords to\n",
      "[nltk_data]     /Users/pratyushamaiti/nltk_data...\n",
      "[nltk_data]   Package stopwords is already up-to-date!\n",
      "[nltk_data] Downloading package punkt to\n",
      "[nltk_data]     /Users/pratyushamaiti/nltk_data...\n",
      "[nltk_data]   Package punkt is already up-to-date!\n",
      "[nltk_data] Downloading package wordnet to\n",
      "[nltk_data]     /Users/pratyushamaiti/nltk_data...\n",
      "[nltk_data]   Package wordnet is already up-to-date!\n",
      "[nltk_data] Downloading package averaged_perceptron_tagger to\n",
      "[nltk_data]     /Users/pratyushamaiti/nltk_data...\n",
      "[nltk_data]   Package averaged_perceptron_tagger is already up-to-\n",
      "[nltk_data]       date!\n",
      "[nltk_data] Downloading package universal_tagset to\n",
      "[nltk_data]     /Users/pratyushamaiti/nltk_data...\n",
      "[nltk_data]   Package universal_tagset is already up-to-date!\n"
     ]
    },
    {
     "name": "stdout",
     "output_type": "stream",
     "text": [
      "Requirement already satisfied: contractions in /opt/homebrew/anaconda3/lib/python3.8/site-packages (0.1.66)\n",
      "Requirement already satisfied: textsearch>=0.0.21 in /opt/homebrew/anaconda3/lib/python3.8/site-packages (from contractions) (0.0.21)\n",
      "Requirement already satisfied: anyascii in /opt/homebrew/anaconda3/lib/python3.8/site-packages (from textsearch>=0.0.21->contractions) (0.3.0)\n",
      "Requirement already satisfied: pyahocorasick in /opt/homebrew/anaconda3/lib/python3.8/site-packages (from textsearch>=0.0.21->contractions) (1.4.4)\n",
      "\u001b[33mWARNING: You are using pip version 21.3.1; however, version 22.0.3 is available.\n",
      "You should consider upgrading via the '/opt/homebrew/anaconda3/bin/python -m pip install --upgrade pip' command.\u001b[0m\n"
     ]
    }
   ],
   "source": [
    "import nltk\n",
    "nltk.download('stopwords')\n",
    "nltk.download('punkt')\n",
    "nltk.download('wordnet')\n",
    "nltk.download('averaged_perceptron_tagger')\n",
    "nltk.download('universal_tagset')\n",
    "!pip install contractions"
   ]
  },
  {
   "cell_type": "markdown",
   "id": "95682ab8",
   "metadata": {},
   "source": [
    "### Review Data Cleaning\n",
    "\n",
    "Parameters:\n",
    " - Expand contractions\n",
    " - Remove stopwords\n",
    " - Remove junk and html\n",
    " - Tokenize\n",
    " - Lemmatize\n",
    " "
   ]
  },
  {
   "cell_type": "code",
   "execution_count": 216,
   "id": "692d030a",
   "metadata": {},
   "outputs": [],
   "source": [
    "import contractions \n",
    "import re\n",
    "from nltk.corpus import stopwords\n",
    "import numpy as np"
   ]
  },
  {
   "cell_type": "code",
   "execution_count": 217,
   "id": "e6648fe5",
   "metadata": {},
   "outputs": [],
   "source": [
    "expand_contractions = True\n",
    "remove_stopwords = False\n",
    "format_text = True\n",
    "tokenize = True\n",
    "lemmatize = False\n",
    "\n",
    "def clean_text(text):\n",
    "    '''Text Preprocessing '''\n",
    "    \n",
    "    # Convert words to lower case\n",
    "    text = text.lower()\n",
    "    split_text = text.split()\n",
    "    \n",
    "    # Expand contractions\n",
    "    if expand_contractions:\n",
    "        expanded_words = []   \n",
    "        for word in split_text:\n",
    "            expanded_words.append(contractions.fix(word))\n",
    "        text = \" \".join(expanded_words)\n",
    "\n",
    "    # Format words and remove unwanted characters\n",
    "    if format_text:\n",
    "        text = re.sub(r'https?:\\/\\/.*[\\r\\n]*', '', text, flags=re.MULTILINE)\n",
    "        text = re.sub(r'\\<a href', ' ', text)\n",
    "        text = re.sub(r'&amp;', '', text) \n",
    "        text = re.sub(r'[_\"\\-;%()|+&=*%.,!?:#$@\\[\\]/]', ' ', text)\n",
    "        text = re.sub(r'<br />', ' ', text)\n",
    "        text = re.sub(r'\\'', ' ', text)\n",
    "    \n",
    "    # remove stopwords\n",
    "    if remove_stopwords:\n",
    "        split_text = text.split()\n",
    "        stops = set(stopwords.words(\"english\"))\n",
    "        word = [w for w in split_text if not w in stops]\n",
    "        text = \" \".join(word)\n",
    "\n",
    "    # Tokenize each word\n",
    "    if tokenize:\n",
    "        text =  nltk.WordPunctTokenizer().tokenize(text)\n",
    "    \n",
    "    # Lemmatize each token\n",
    "    if lemmatize:\n",
    "        lemm = nltk.stem.WordNetLemmatizer()\n",
    "        text = list(map(lambda word:list(map(lemm.lemmatize, word)), text))\n",
    "    \n",
    "    return text"
   ]
  },
  {
   "cell_type": "markdown",
   "id": "ddf09513",
   "metadata": {},
   "source": [
    "##### Generate gendered review data\n",
    "\n",
    "- Genre: Crime, Thriller, Mystery\n",
    "- Joined by userID\n",
    "- Dropped NaN rows"
   ]
  },
  {
   "cell_type": "code",
   "execution_count": 218,
   "id": "e6edbd04",
   "metadata": {},
   "outputs": [
    {
     "name": "stdout",
     "output_type": "stream",
     "text": [
      "<class 'pandas.core.frame.DataFrame'>\n",
      "RangeIndex: 852197 entries, 0 to 852196\n",
      "Data columns (total 12 columns):\n",
      " #   Column         Non-Null Count   Dtype  \n",
      "---  ------         --------------   -----  \n",
      " 0   id             852197 non-null  int64  \n",
      " 1   name           850616 non-null  object \n",
      " 2   username       252735 non-null  object \n",
      " 3   age            242043 non-null  float64\n",
      " 4   location       665382 non-null  object \n",
      " 5   joined         820599 non-null  object \n",
      " 6   friends_count  820599 non-null  float64\n",
      " 7   groups_count   820599 non-null  float64\n",
      " 8   reviews_count  820599 non-null  float64\n",
      " 9   first_name     850555 non-null  object \n",
      " 10  gender         852197 non-null  object \n",
      " 11  user_id        852197 non-null  object \n",
      "dtypes: float64(4), int64(1), object(7)\n",
      "memory usage: 78.0+ MB\n"
     ]
    }
   ],
   "source": [
    "import pandas as pd\n",
    "gendered_data = pd.read_csv('goodreads_names_id_gender.csv')\n",
    "gendered_data.columns = ['id', 'name', 'username', 'age', 'location', 'joined', 'friends_count','groups_count', 'reviews_count', 'first_name', 'gender', 'user_id']\n",
    "gendered_data.info()"
   ]
  },
  {
   "cell_type": "code",
   "execution_count": 219,
   "id": "bb468e74",
   "metadata": {},
   "outputs": [],
   "source": [
    "import gzip\n",
    "import json\n",
    "\n",
    "def load_data(file_name, head = 500):\n",
    "    count = 0\n",
    "    data = []\n",
    "    with gzip.open(file_name) as fin:\n",
    "        for l in fin:\n",
    "            d = json.loads(l)\n",
    "            count += 1\n",
    "            data.append(d)\n",
    "            \n",
    "            # break if reaches the 100th line\n",
    "            if (head is not None) and (count > head):\n",
    "                break\n",
    "    return data"
   ]
  },
  {
   "cell_type": "code",
   "execution_count": 220,
   "id": "82ab4d8d",
   "metadata": {},
   "outputs": [
    {
     "name": "stdout",
     "output_type": "stream",
     "text": [
      "<class 'pandas.core.frame.DataFrame'>\n",
      "RangeIndex: 1849236 entries, 0 to 1849235\n",
      "Data columns (total 11 columns):\n",
      " #   Column        Dtype \n",
      "---  ------        ----- \n",
      " 0   user_id       object\n",
      " 1   book_id       object\n",
      " 2   review_id     object\n",
      " 3   rating        int64 \n",
      " 4   review_text   object\n",
      " 5   date_added    object\n",
      " 6   date_updated  object\n",
      " 7   read_at       object\n",
      " 8   started_at    object\n",
      " 9   n_votes       int64 \n",
      " 10  n_comments    int64 \n",
      "dtypes: int64(3), object(8)\n",
      "memory usage: 155.2+ MB\n"
     ]
    }
   ],
   "source": [
    "goodreads_reviews_mystery_thriller_crime = load_data('goodreads_reviews_mystery_thriller_crime.json.gz',1849235)\n",
    "goodreads_reviews_mystery_thriller_crime_df = pd.DataFrame(goodreads_reviews_mystery_thriller_crime)\n",
    "goodreads_reviews_mystery_thriller_crime_df.info()"
   ]
  },
  {
   "cell_type": "code",
   "execution_count": 221,
   "id": "18363173",
   "metadata": {},
   "outputs": [
    {
     "name": "stdout",
     "output_type": "stream",
     "text": [
      "<class 'pandas.core.frame.DataFrame'>\n",
      "Int64Index: 1849236 entries, 0 to 1849235\n",
      "Data columns (total 22 columns):\n",
      " #   Column         Dtype  \n",
      "---  ------         -----  \n",
      " 0   user_id        object \n",
      " 1   book_id        object \n",
      " 2   review_id      object \n",
      " 3   rating         int64  \n",
      " 4   review_text    object \n",
      " 5   date_added     object \n",
      " 6   date_updated   object \n",
      " 7   read_at        object \n",
      " 8   started_at     object \n",
      " 9   n_votes        int64  \n",
      " 10  n_comments     int64  \n",
      " 11  id             float64\n",
      " 12  name           object \n",
      " 13  username       object \n",
      " 14  age            float64\n",
      " 15  location       object \n",
      " 16  joined         object \n",
      " 17  friends_count  float64\n",
      " 18  groups_count   float64\n",
      " 19  reviews_count  float64\n",
      " 20  first_name     object \n",
      " 21  gender         object \n",
      "dtypes: float64(5), int64(3), object(14)\n",
      "memory usage: 324.5+ MB\n"
     ]
    }
   ],
   "source": [
    "gendered_reviews_mtc = pd.merge(goodreads_reviews_mystery_thriller_crime_df, gendered_data, on='user_id', how='left')\n",
    "gendered_reviews_mtc.info()"
   ]
  },
  {
   "cell_type": "markdown",
   "id": "08bc84ba",
   "metadata": {},
   "source": [
    "~Incomplete dataset. Dropped the rows with NaN values in features. We find that this brings out the number of reviews by ~1.5 million reviews~"
   ]
  },
  {
   "cell_type": "code",
   "execution_count": 222,
   "id": "5b983e6e",
   "metadata": {},
   "outputs": [],
   "source": [
    "clean_gendered_reviews_mtc = gendered_reviews_mtc\n",
    "# clean_gendered_reviews_mtc = gendered_reviews_mtc.dropna()\n",
    "# clean_gendered_reviews_mtc = clean_gendered_reviews_mtc.reset_index(drop=True)\n",
    "# clean_gendered_reviews_mtc.info()"
   ]
  },
  {
   "cell_type": "markdown",
   "id": "f57f56de",
   "metadata": {},
   "source": [
    "Dropped the rows with *unknown gender type* and NaN in gender. We find that ratio of female to male reviewers in the test dataset is ~ 2.5:1"
   ]
  },
  {
   "cell_type": "code",
   "execution_count": 224,
   "id": "ab5fdc49",
   "metadata": {},
   "outputs": [
    {
     "name": "stdout",
     "output_type": "stream",
     "text": [
      "<class 'pandas.core.frame.DataFrame'>\n",
      "RangeIndex: 1297338 entries, 0 to 1297337\n",
      "Data columns (total 22 columns):\n",
      " #   Column         Non-Null Count    Dtype  \n",
      "---  ------         --------------    -----  \n",
      " 0   user_id        1297338 non-null  object \n",
      " 1   book_id        1297338 non-null  object \n",
      " 2   review_id      1297338 non-null  object \n",
      " 3   rating         1297338 non-null  int64  \n",
      " 4   review_text    1297338 non-null  object \n",
      " 5   date_added     1297338 non-null  object \n",
      " 6   date_updated   1297338 non-null  object \n",
      " 7   read_at        1297338 non-null  object \n",
      " 8   started_at     1297338 non-null  object \n",
      " 9   n_votes        1297338 non-null  int64  \n",
      " 10  n_comments     1297338 non-null  int64  \n",
      " 11  id             1267740 non-null  float64\n",
      " 12  name           1267740 non-null  object \n",
      " 13  username       647310 non-null   object \n",
      " 14  age            582643 non-null   float64\n",
      " 15  location       915311 non-null   object \n",
      " 16  joined         1202883 non-null  object \n",
      " 17  friends_count  1202883 non-null  float64\n",
      " 18  groups_count   1202883 non-null  float64\n",
      " 19  reviews_count  1202883 non-null  float64\n",
      " 20  first_name     1267740 non-null  object \n",
      " 21  gender         1267740 non-null  object \n",
      "dtypes: float64(5), int64(3), object(14)\n",
      "memory usage: 217.8+ MB\n"
     ]
    }
   ],
   "source": [
    "clean_gendered_reviews_mtc = clean_gendered_reviews_mtc[clean_gendered_reviews_mtc.gender != 'unknown']\n",
    "clean_gendered_reviews_mtc = clean_gendered_reviews_mtc.dropna(subset=['gender'])\n",
    "clean_gendered_reviews_mtc = clean_gendered_reviews_mtc.reset_index(drop=True)\n",
    "clean_gendered_reviews_mtc.info()"
   ]
  },
  {
   "cell_type": "code",
   "execution_count": 337,
   "id": "480c8a0e",
   "metadata": {},
   "outputs": [
    {
     "data": {
      "text/plain": [
       "female    954765\n",
       "male      312975\n",
       "Name: gender, dtype: int64"
      ]
     },
     "execution_count": 337,
     "metadata": {},
     "output_type": "execute_result"
    }
   ],
   "source": [
    "clean_gendered_reviews_mtc['gender'].value_counts()"
   ]
  },
  {
   "cell_type": "code",
   "execution_count": 230,
   "id": "006cb9e5",
   "metadata": {},
   "outputs": [
    {
     "data": {
      "text/plain": [
       "\"I'm a sucker for spy novels, so when someone left this at our bookswap brunch, I zero'd right in on it. I definitely enjoyed it, but didn't think it had much substance. However, it was a perfect novel to relax the mind. \\n I enjoyed the descriptions of East Berlin and West Berlin and the Anarchists and Communists. The descriptions of how the double agents were made was a lot of fun. Being a real spy would not be fun, if you really had to pretend to be in a dead-end job with no ambition. It was definitely interesting to be thrown back into a cold-war novel, though at the end I found it a little boring and I started skimming.\""
      ]
     },
     "execution_count": 230,
     "metadata": {},
     "output_type": "execute_result"
    }
   ],
   "source": [
    "gendered_reviews_mtc['review_text'][12]"
   ]
  },
  {
   "cell_type": "markdown",
   "id": "ae96e226",
   "metadata": {},
   "source": [
    "### Feature Engineering\n",
    "\n",
    "- Generate clean review data on the reduced dataset\n",
    "- Generate writing style features\n",
    "- Generate content features\n"
   ]
  },
  {
   "cell_type": "code",
   "execution_count": 227,
   "id": "7dd33003",
   "metadata": {},
   "outputs": [
    {
     "name": "stdout",
     "output_type": "stream",
     "text": [
      "Requirement already satisfied: tqdm in /opt/homebrew/anaconda3/lib/python3.8/site-packages (4.59.0)\n",
      "\u001b[33mWARNING: You are using pip version 21.3.1; however, version 22.0.3 is available.\n",
      "You should consider upgrading via the '/opt/homebrew/anaconda3/bin/python -m pip install --upgrade pip' command.\u001b[0m\n"
     ]
    }
   ],
   "source": [
    "!pip install tqdm"
   ]
  },
  {
   "cell_type": "code",
   "execution_count": null,
   "id": "6591f740",
   "metadata": {},
   "outputs": [],
   "source": [
    "# gendered_reviews_mtc['review_text'][0] = ' '.join(clean_text(gendered_reviews_mtc['review_text'][0]))"
   ]
  },
  {
   "cell_type": "code",
   "execution_count": 231,
   "id": "38f0af49",
   "metadata": {},
   "outputs": [],
   "source": [
    "from tqdm import tqdm\n",
    "\n",
    "def clean_review(reviews_set):\n",
    "    pd.options.mode.chained_assignment = None\n",
    "    for idx in tqdm(range(reviews_set.shape[0])):\n",
    "        reviews_set['review_text'][idx] = ' '.join(clean_text(reviews_set['review_text'][idx]))"
   ]
  },
  {
   "cell_type": "code",
   "execution_count": 453,
   "id": "e46e39a2",
   "metadata": {},
   "outputs": [],
   "source": [
    "male_reviews = clean_gendered_reviews_mtc.loc[clean_gendered_reviews_mtc['gender'] == \"male\"]\n",
    "male_reviews = male_reviews.reset_index(drop=True)\n",
    "female_reviews = clean_gendered_reviews_mtc.loc[clean_gendered_reviews_mtc['gender'] == \"female\"]\n",
    "female_reviews = female_reviews.reset_index(drop=True)"
   ]
  },
  {
   "cell_type": "code",
   "execution_count": 454,
   "id": "ff3edee9",
   "metadata": {},
   "outputs": [],
   "source": [
    "train_frames = [male_reviews[:15000], female_reviews[:15000]]\n",
    "balanced_reviews_mtc = pd.concat(train_frames)\n",
    "balanced_reviews_mtc = balanced_reviews_mtc.reset_index(drop=True)\n",
    "test_frames = [male_reviews[15000:20000], female_reviews[15000:20000]]\n",
    "test_balanced_reviews_mtc = pd.concat(test_frames)\n",
    "test_balanced_reviews_mtc = test_balanced_reviews_mtc.reset_index(drop=True)"
   ]
  },
  {
   "cell_type": "code",
   "execution_count": 455,
   "id": "48fb2ffc",
   "metadata": {},
   "outputs": [
    {
     "name": "stdout",
     "output_type": "stream",
     "text": [
      "<class 'pandas.core.frame.DataFrame'>\n",
      "RangeIndex: 10000 entries, 0 to 9999\n",
      "Data columns (total 22 columns):\n",
      " #   Column         Non-Null Count  Dtype  \n",
      "---  ------         --------------  -----  \n",
      " 0   user_id        10000 non-null  object \n",
      " 1   book_id        10000 non-null  object \n",
      " 2   review_id      10000 non-null  object \n",
      " 3   rating         10000 non-null  int64  \n",
      " 4   review_text    10000 non-null  object \n",
      " 5   date_added     10000 non-null  object \n",
      " 6   date_updated   10000 non-null  object \n",
      " 7   read_at        10000 non-null  object \n",
      " 8   started_at     10000 non-null  object \n",
      " 9   n_votes        10000 non-null  int64  \n",
      " 10  n_comments     10000 non-null  int64  \n",
      " 11  id             10000 non-null  float64\n",
      " 12  name           10000 non-null  object \n",
      " 13  username       5280 non-null   object \n",
      " 14  age            4080 non-null   float64\n",
      " 15  location       8371 non-null   object \n",
      " 16  joined         9709 non-null   object \n",
      " 17  friends_count  9709 non-null   float64\n",
      " 18  groups_count   9709 non-null   float64\n",
      " 19  reviews_count  9709 non-null   float64\n",
      " 20  first_name     10000 non-null  object \n",
      " 21  gender         10000 non-null  object \n",
      "dtypes: float64(5), int64(3), object(14)\n",
      "memory usage: 1.7+ MB\n"
     ]
    }
   ],
   "source": [
    "test_balanced_reviews_mtc.info()"
   ]
  },
  {
   "cell_type": "markdown",
   "id": "25ee830d",
   "metadata": {},
   "source": [
    "Clean up a small subset of 20000 reviews."
   ]
  },
  {
   "cell_type": "code",
   "execution_count": 456,
   "id": "35b025eb",
   "metadata": {},
   "outputs": [
    {
     "name": "stderr",
     "output_type": "stream",
     "text": [
      "100%|██████████| 30000/30000 [00:16<00:00, 1821.76it/s]\n"
     ]
    }
   ],
   "source": [
    "clean_gendered_reviews_mtc_small = balanced_reviews_mtc\n",
    "clean_review(clean_gendered_reviews_mtc_small)"
   ]
  },
  {
   "cell_type": "code",
   "execution_count": 457,
   "id": "193d283c",
   "metadata": {},
   "outputs": [
    {
     "name": "stderr",
     "output_type": "stream",
     "text": [
      "100%|██████████| 10000/10000 [00:04<00:00, 2261.43it/s]\n"
     ]
    }
   ],
   "source": [
    "clean_review(test_balanced_reviews_mtc)"
   ]
  },
  {
   "cell_type": "code",
   "execution_count": 347,
   "id": "051fb381",
   "metadata": {},
   "outputs": [
    {
     "name": "stdout",
     "output_type": "stream",
     "text": [
      "<class 'pandas.core.frame.DataFrame'>\n",
      "RangeIndex: 30000 entries, 0 to 29999\n",
      "Data columns (total 22 columns):\n",
      " #   Column         Non-Null Count  Dtype  \n",
      "---  ------         --------------  -----  \n",
      " 0   user_id        30000 non-null  object \n",
      " 1   book_id        30000 non-null  object \n",
      " 2   review_id      30000 non-null  object \n",
      " 3   rating         30000 non-null  int64  \n",
      " 4   review_text    30000 non-null  object \n",
      " 5   date_added     30000 non-null  object \n",
      " 6   date_updated   30000 non-null  object \n",
      " 7   read_at        30000 non-null  object \n",
      " 8   started_at     30000 non-null  object \n",
      " 9   n_votes        30000 non-null  int64  \n",
      " 10  n_comments     30000 non-null  int64  \n",
      " 11  id             30000 non-null  float64\n",
      " 12  name           30000 non-null  object \n",
      " 13  username       13875 non-null  object \n",
      " 14  age            13548 non-null  float64\n",
      " 15  location       22671 non-null  object \n",
      " 16  joined         28512 non-null  object \n",
      " 17  friends_count  28512 non-null  float64\n",
      " 18  groups_count   28512 non-null  float64\n",
      " 19  reviews_count  28512 non-null  float64\n",
      " 20  first_name     30000 non-null  object \n",
      " 21  gender         30000 non-null  object \n",
      "dtypes: float64(5), int64(3), object(14)\n",
      "memory usage: 5.0+ MB\n"
     ]
    }
   ],
   "source": [
    "clean_gendered_reviews_mtc_small.info()"
   ]
  },
  {
   "cell_type": "code",
   "execution_count": null,
   "id": "cc09c56a",
   "metadata": {},
   "outputs": [],
   "source": [
    "# clean_gendered_reviews_mtc = clean_gendered_reviews_mtc[len(clean_gendered_reviews_mtc.review_text)>0]\n",
    "# clean_gendered_reviews_mtc = clean_gendered_reviews_mtc.reset_index(drop=True)\n",
    "# clean_gendered_reviews_mtc.info()"
   ]
  },
  {
   "cell_type": "code",
   "execution_count": null,
   "id": "1c644209",
   "metadata": {},
   "outputs": [],
   "source": [
    "file_name = \"cleaned_gendered_reviews_mtc.csv\"\n",
    "clean_gendered_reviews_mtc.to_csv(file_name)  \n",
    "# clean_gendered_reviews_mtc.to_csv(file_name, sep='\\t', encoding='utf-8')"
   ]
  },
  {
   "cell_type": "markdown",
   "id": "ebe4cd32",
   "metadata": {},
   "source": [
    "### Writing Style Analysis"
   ]
  },
  {
   "cell_type": "code",
   "execution_count": 234,
   "id": "ebcf7a97",
   "metadata": {},
   "outputs": [],
   "source": [
    "# Features under analysis:\n",
    "lexical_markers = []\n",
    "vocabulary_richness = []\n",
    "complexity = []\n",
    "hedging = []\n",
    "use_of_pronouns = []"
   ]
  },
  {
   "cell_type": "markdown",
   "id": "04742b29",
   "metadata": {},
   "source": [
    "Notice that the gender is extremely skewed. Might affect performance."
   ]
  },
  {
   "cell_type": "code",
   "execution_count": 391,
   "id": "333e385e",
   "metadata": {},
   "outputs": [
    {
     "data": {
      "text/plain": [
       "male      15000\n",
       "female    15000\n",
       "Name: gender, dtype: int64"
      ]
     },
     "execution_count": 391,
     "metadata": {},
     "output_type": "execute_result"
    }
   ],
   "source": [
    "clean_gendered_reviews_mtc_small['gender'].value_counts()"
   ]
  },
  {
   "cell_type": "markdown",
   "id": "34acaeeb",
   "metadata": {},
   "source": [
    "#### Get Top 50 common words in the entire reviewset"
   ]
  },
  {
   "cell_type": "code",
   "execution_count": 364,
   "id": "aaf560da",
   "metadata": {},
   "outputs": [],
   "source": [
    "from collections import Counter\n",
    "from nltk.probability import FreqDist\n",
    "\n",
    "def topN_Freq(data, n: int):\n",
    "    fdist = FreqDist(data)\n",
    "    return fdist.most_common(n)\n",
    "\n",
    "def top_50_words(reviews_set):\n",
    "    top_50 = {}\n",
    "    dic2 = {}\n",
    "    for idx in tqdm(range(reviews_set.shape[0])):\n",
    "\n",
    "        freqDict = topN_Freq(reviews_set['review_text'][idx].split(), 50)\n",
    "        dic1 = dict(freqDict)\n",
    "        if idx != 0:\n",
    "            top_50 = {k: dic1.get(k, 0) + dic2.get(k, 0) for k in set(dic1) | set(dic2)}\n",
    "        dic2 = dict(Counter(top_50).most_common(50))\n",
    "\n",
    "    return dict(Counter(top_50).most_common(50))\n",
    "    len(top_50)\n"
   ]
  },
  {
   "cell_type": "code",
   "execution_count": 392,
   "id": "cb6837c0",
   "metadata": {},
   "outputs": [
    {
     "name": "stderr",
     "output_type": "stream",
     "text": [
      "100%|██████████| 30000/30000 [00:03<00:00, 8376.72it/s]\n"
     ]
    }
   ],
   "source": [
    "top_50 = top_50_words(clean_gendered_reviews_mtc_small)"
   ]
  },
  {
   "cell_type": "markdown",
   "id": "c2cc4e46",
   "metadata": {},
   "source": [
    "#### Get all occurances of the top 50 frequent words in each review"
   ]
  },
  {
   "cell_type": "code",
   "execution_count": 366,
   "id": "49743b6b",
   "metadata": {},
   "outputs": [],
   "source": [
    "def get_lexical_markers(reviews_set):\n",
    "    lexical_markers = []\n",
    "    for idx in tqdm(range(reviews_set.shape[0])):\n",
    "        freq = Counter(reviews_set['review_text'][idx].split())\n",
    "        lexical_markers.append(sum(freq.get(k, 0) for k in set(top_50)))\n",
    "    print(len(lexical_markers))\n",
    "    return lexical_markers"
   ]
  },
  {
   "cell_type": "code",
   "execution_count": 393,
   "id": "4ce9129c",
   "metadata": {},
   "outputs": [
    {
     "name": "stderr",
     "output_type": "stream",
     "text": [
      "100%|██████████| 30000/30000 [00:00<00:00, 39291.59it/s]"
     ]
    },
    {
     "name": "stdout",
     "output_type": "stream",
     "text": [
      "30000\n"
     ]
    },
    {
     "name": "stderr",
     "output_type": "stream",
     "text": [
      "\n"
     ]
    }
   ],
   "source": [
    "lexical_markers = get_lexical_markers(clean_gendered_reviews_mtc_small)"
   ]
  },
  {
   "cell_type": "code",
   "execution_count": 401,
   "id": "b01b8972",
   "metadata": {},
   "outputs": [
    {
     "name": "stderr",
     "output_type": "stream",
     "text": [
      "100%|██████████| 10000/10000 [00:00<00:00, 38687.20it/s]"
     ]
    },
    {
     "name": "stdout",
     "output_type": "stream",
     "text": [
      "10000\n"
     ]
    },
    {
     "name": "stderr",
     "output_type": "stream",
     "text": [
      "\n"
     ]
    }
   ],
   "source": [
    "test_lexical_markers = get_lexical_markers(test_balanced_reviews_mtc)"
   ]
  },
  {
   "cell_type": "code",
   "execution_count": null,
   "id": "cd976cc3",
   "metadata": {},
   "outputs": [],
   "source": [
    "from nltk.tokenize import word_tokenize, sent_tokenize\n",
    "\n",
    "def avgSentLenghtByWord(text):\n",
    "    tokens = sent_tokenize(text)\n",
    "    return np.average([len(token.split()) for token in tokens])"
   ]
  },
  {
   "cell_type": "code",
   "execution_count": null,
   "id": "e575e6dc",
   "metadata": {},
   "outputs": [],
   "source": [
    "def countFunctionalWords(text):\n",
    "    functional_words = \"\"\"a between in nor some upon\n",
    "    about both including nothing somebody us\n",
    "    above but inside of someone used\n",
    "    after by into off something via\n",
    "    all can is on such we\n",
    "    although cos it once than what\n",
    "    am do its one that whatever\n",
    "    among down latter onto the when\n",
    "    an each less opposite their where\n",
    "    and either like or them whether\n",
    "    another enough little our these which\n",
    "    any every lots outside they while\n",
    "    anybody everybody many over this who\n",
    "    anyone everyone me own those whoever\n",
    "    anything everything more past though whom\n",
    "    are few most per through whose\n",
    "    around following much plenty till will\n",
    "    as for must plus to with\n",
    "    at from my regarding toward within\n",
    "    be have near same towards without\n",
    "    because he need several under worth\n",
    "    before her neither she unless would\n",
    "    behind him no should unlike yes\n",
    "    below i nobody since until you\n",
    "    beside if none so up your\n",
    "    \"\"\"\n",
    "\n",
    "    functional_words = functional_words.split()\n",
    "    count = 0\n",
    "\n",
    "    for i in text:\n",
    "        if i in functional_words:\n",
    "            count += 1\n",
    "\n",
    "    return count / len(text)"
   ]
  },
  {
   "cell_type": "code",
   "execution_count": 241,
   "id": "401383b6",
   "metadata": {},
   "outputs": [],
   "source": [
    "# hedgeWords = pd.read_csv(\"hedgeWords.txt\", sep=\"\\n\")\n",
    "def get_hedge_words(reviews_set):\n",
    "    hedgefile = open(\"hedgeWords.txt\", \"r\")\n",
    "    content = hedgefile.read()\n",
    "    hedgeWords = content.split(\"\\n\")\n",
    "    hedgefile.close()\n",
    "\n",
    "    hedging = []\n",
    "    for idx in tqdm(range(reviews_set.shape[0])):\n",
    "        hedging.append(sum(x == y for x, y in zip(reviews_set['review_text'], hedgeWords)))\n",
    "    print(len(hedging))\n",
    "    return hedging"
   ]
  },
  {
   "cell_type": "code",
   "execution_count": 351,
   "id": "57658721",
   "metadata": {},
   "outputs": [
    {
     "name": "stderr",
     "output_type": "stream",
     "text": [
      "100%|██████████| 30000/30000 [00:00<00:00, 46515.88it/s]"
     ]
    },
    {
     "name": "stdout",
     "output_type": "stream",
     "text": [
      "30000\n"
     ]
    },
    {
     "name": "stderr",
     "output_type": "stream",
     "text": [
      "\n"
     ]
    }
   ],
   "source": [
    "hedging = get_hedge_words(clean_gendered_reviews_mtc_small)"
   ]
  },
  {
   "cell_type": "code",
   "execution_count": 493,
   "id": "b5d34535",
   "metadata": {},
   "outputs": [],
   "source": [
    "import math \n",
    "\n",
    "def yulesCharacteristicK(words):\n",
    "    N = len(words)\n",
    "    K=0\n",
    "    if N>0:\n",
    "        freqs = Counter()\n",
    "        freqs.update(words)\n",
    "        vi = Counter()\n",
    "        vi.update(freqs.values())\n",
    "        M = sum([(value * value) * vi[value] for key, value in freqs.items()])\n",
    "        K = 10000 * (M - N) / math.pow(N, 2)\n",
    "    return K\n",
    "\n",
    "def get_vocabulary_richness(reviews_set):\n",
    "    vocabulary_richness = []\n",
    "    for idx in tqdm(range(reviews_set.shape[0])):\n",
    "        vocabulary_richness.append(yulesCharacteristicK(reviews_set['review_text'][idx]))\n",
    "    print(len(vocabulary_richness))\n",
    "    return vocabulary_richness"
   ]
  },
  {
   "cell_type": "code",
   "execution_count": 418,
   "id": "7d085e67",
   "metadata": {},
   "outputs": [
    {
     "name": "stderr",
     "output_type": "stream",
     "text": [
      "100%|██████████| 30000/30000 [00:00<00:00, 32550.75it/s]\n",
      " 37%|███▋      | 3736/10000 [00:00<00:00, 37350.60it/s]"
     ]
    },
    {
     "name": "stdout",
     "output_type": "stream",
     "text": [
      "30000\n"
     ]
    },
    {
     "name": "stderr",
     "output_type": "stream",
     "text": [
      "100%|██████████| 10000/10000 [00:00<00:00, 39344.38it/s]"
     ]
    },
    {
     "name": "stdout",
     "output_type": "stream",
     "text": [
      "10000\n"
     ]
    },
    {
     "name": "stderr",
     "output_type": "stream",
     "text": [
      "\n"
     ]
    }
   ],
   "source": [
    "vocabulary_richness = get_vocabulary_richness(clean_gendered_reviews_mtc_small)\n",
    "vocabulary_richness.extend(get_vocabulary_richness(test_balanced_reviews_mtc))"
   ]
  },
  {
   "cell_type": "code",
   "execution_count": 460,
   "id": "935ad383",
   "metadata": {},
   "outputs": [],
   "source": [
    "from nltk.tokenize import sent_tokenize\n",
    "\n",
    "def avg_wordLength(text):\n",
    "    return np.average([len(word) for word in text.split()])\n",
    "\n",
    "def avg_SentLenghtByCh(text):\n",
    "    tokens = sent_tokenize(text)\n",
    "    return np.average([len(token) for token in tokens])\n",
    "\n",
    "def avg_SentLenghtByWord(text):\n",
    "    tokens = sent_tokenize(text)\n",
    "    return np.average([len(token.split()) for token in tokens])\n",
    "\n",
    "def get_complexity(reviews_set):\n",
    "    complexity_1 = []\n",
    "    complexity_2 = []\n",
    "    complexity_3 = []\n",
    "    for idx in tqdm(range(reviews_set.shape[0])):\n",
    "        if len(reviews_set['review_text'][idx])>0:\n",
    "            complexity_1.append(avg_wordLength(reviews_set['review_text'][idx]))\n",
    "            complexity_2.append(avg_SentLenghtByCh(reviews_set['review_text'][idx]))\n",
    "            complexity_3.append(avg_SentLenghtByWord(reviews_set['review_text'][idx]))\n",
    "    #         complexity.append([avg_wordLength(small_gendered_reviews_mtc['review_text'][idx]), avg_SentLenghtByCh(small_gendered_reviews_mtc['review_text'][idx]), avg_SentLenghtByWord(small_gendered_reviews_mtc['review_text'][idx])])\n",
    "        else:\n",
    "            complexity_1.append(0)\n",
    "            complexity_2.append(0)\n",
    "            complexity_3.append(0)\n",
    "    print(len(complexity_1), len(complexity_2), len(complexity_3))\n",
    "    return complexity_1, complexity_2, complexity_3\n",
    "\n"
   ]
  },
  {
   "cell_type": "code",
   "execution_count": 461,
   "id": "af441f72",
   "metadata": {},
   "outputs": [
    {
     "name": "stderr",
     "output_type": "stream",
     "text": [
      "100%|██████████| 30000/30000 [00:06<00:00, 4606.57it/s]\n",
      " 12%|█▏        | 1170/10000 [00:00<00:01, 5907.00it/s]"
     ]
    },
    {
     "name": "stdout",
     "output_type": "stream",
     "text": [
      "30000 30000 30000\n"
     ]
    },
    {
     "name": "stderr",
     "output_type": "stream",
     "text": [
      "100%|██████████| 10000/10000 [00:01<00:00, 5588.42it/s]"
     ]
    },
    {
     "name": "stdout",
     "output_type": "stream",
     "text": [
      "10000 10000 10000\n"
     ]
    },
    {
     "name": "stderr",
     "output_type": "stream",
     "text": [
      "\n"
     ]
    }
   ],
   "source": [
    "complexity_1, complexity_2, complexity_3 = get_complexity(clean_gendered_reviews_mtc_small)\n",
    "complexity_1_t, complexity_2_t, complexity_3_t = get_complexity(test_balanced_reviews_mtc)\n",
    "complexity_1.extend(complexity_1_t)\n",
    "complexity_2.extend(complexity_2_t)\n",
    "complexity_3.extend(complexity_3_t)\n"
   ]
  },
  {
   "cell_type": "code",
   "execution_count": 459,
   "id": "f0e6b820",
   "metadata": {},
   "outputs": [
    {
     "data": {
      "text/plain": [
       "''"
      ]
     },
     "execution_count": 459,
     "metadata": {},
     "output_type": "execute_result"
    }
   ],
   "source": [
    "clean_gendered_reviews_mtc_small['review_text'][29656]"
   ]
  },
  {
   "cell_type": "markdown",
   "id": "2ca4b4f7",
   "metadata": {},
   "source": [
    "Fun fact: lowercase i is not recognised by pos_tagger as a pronoun. A little hacky solution used:"
   ]
  },
  {
   "cell_type": "code",
   "execution_count": 476,
   "id": "a04e3d85",
   "metadata": {},
   "outputs": [],
   "source": [
    "from nltk import word_tokenize, pos_tag\n",
    "\n",
    "def get_pronouns(reviews_set):\n",
    "    pos_pronouns = []\n",
    "    for idx in tqdm(range(reviews_set.shape[0])):\n",
    "        if len(reviews_set['review_text'][idx])>0:\n",
    "            pos_pronouns.append(sum(1 for word, pos in pos_tag(word_tokenize(reviews_set['review_text'][idx])) if pos.startswith('PR') or word == \"i\"))\n",
    "        else:\n",
    "            pos_pronouns.append(0)\n",
    "    print(len(pos_pronouns))\n",
    "    return pos_pronouns"
   ]
  },
  {
   "cell_type": "code",
   "execution_count": 477,
   "id": "8e4b36e0",
   "metadata": {},
   "outputs": [
    {
     "name": "stderr",
     "output_type": "stream",
     "text": [
      "100%|██████████| 30000/30000 [01:56<00:00, 257.14it/s]\n",
      "  0%|          | 39/10000 [00:00<00:26, 379.35it/s]"
     ]
    },
    {
     "name": "stdout",
     "output_type": "stream",
     "text": [
      "30000\n"
     ]
    },
    {
     "name": "stderr",
     "output_type": "stream",
     "text": [
      "100%|██████████| 10000/10000 [00:29<00:00, 342.13it/s]"
     ]
    },
    {
     "name": "stdout",
     "output_type": "stream",
     "text": [
      "10000\n"
     ]
    },
    {
     "name": "stderr",
     "output_type": "stream",
     "text": [
      "\n"
     ]
    }
   ],
   "source": [
    "pronouns = get_pronouns(clean_gendered_reviews_mtc_small)\n",
    "pronouns.extend(get_pronouns(test_balanced_reviews_mtc))"
   ]
  },
  {
   "cell_type": "code",
   "execution_count": null,
   "id": "8b3b69dd",
   "metadata": {},
   "outputs": [],
   "source": []
  },
  {
   "cell_type": "code",
   "execution_count": null,
   "id": "7fef2e2a",
   "metadata": {},
   "outputs": [],
   "source": []
  },
  {
   "cell_type": "code",
   "execution_count": null,
   "id": "ed35cce5",
   "metadata": {},
   "outputs": [],
   "source": []
  },
  {
   "cell_type": "markdown",
   "id": "fdca5a43",
   "metadata": {},
   "source": [
    "### Testing out Logistic Regression "
   ]
  },
  {
   "cell_type": "code",
   "execution_count": 249,
   "id": "385ed78a",
   "metadata": {},
   "outputs": [],
   "source": [
    "from sklearn.model_selection import train_test_split\n",
    "from sklearn.linear_model import LogisticRegression\n",
    "from sklearn.feature_extraction.text import CountVectorizer,TfidfVectorizer"
   ]
  },
  {
   "cell_type": "code",
   "execution_count": 482,
   "id": "df754c26",
   "metadata": {},
   "outputs": [],
   "source": [
    "df = pd.DataFrame()"
   ]
  },
  {
   "cell_type": "code",
   "execution_count": 484,
   "id": "fbcb5b19",
   "metadata": {},
   "outputs": [
    {
     "name": "stdout",
     "output_type": "stream",
     "text": [
      "<class 'pandas.core.frame.DataFrame'>\n",
      "RangeIndex: 40000 entries, 0 to 39999\n",
      "Data columns (total 1 columns):\n",
      " #   Column    Non-Null Count  Dtype\n",
      "---  ------    --------------  -----\n",
      " 0   pronouns  40000 non-null  int64\n",
      "dtypes: int64(1)\n",
      "memory usage: 312.6 KB\n"
     ]
    }
   ],
   "source": [
    "df.info()"
   ]
  },
  {
   "cell_type": "code",
   "execution_count": 396,
   "id": "d15f4521",
   "metadata": {},
   "outputs": [],
   "source": [
    "df['frequency'] = lexical_markers"
   ]
  },
  {
   "cell_type": "code",
   "execution_count": 403,
   "id": "5c3858b0",
   "metadata": {},
   "outputs": [],
   "source": [
    "df['frequency'] = test_lexical_markers"
   ]
  },
  {
   "cell_type": "code",
   "execution_count": 286,
   "id": "d622b4fd",
   "metadata": {},
   "outputs": [],
   "source": [
    "df['hedging'] = hedging"
   ]
  },
  {
   "cell_type": "code",
   "execution_count": 421,
   "id": "226a2a7d",
   "metadata": {},
   "outputs": [],
   "source": [
    "df['vocabulary_richness'] = vocabulary_richness"
   ]
  },
  {
   "cell_type": "code",
   "execution_count": 480,
   "id": "e6ceabff",
   "metadata": {},
   "outputs": [],
   "source": [
    "df['complexity1'] = complexity_1\n",
    "df['complexity2'] = complexity_2\n",
    "df['complexity3'] = complexity_3"
   ]
  },
  {
   "cell_type": "code",
   "execution_count": 483,
   "id": "c7a3f84d",
   "metadata": {},
   "outputs": [],
   "source": [
    "df['pronouns'] = pronouns"
   ]
  },
  {
   "cell_type": "code",
   "execution_count": null,
   "id": "de183923",
   "metadata": {},
   "outputs": [],
   "source": [
    "training_data, testing_data = train_test_split(small_gendered_reviews_mtc,random_state = 0)\n",
    "training_data.info(), testing_data.info()"
   ]
  },
  {
   "cell_type": "code",
   "execution_count": null,
   "id": "3c6b1e55",
   "metadata": {},
   "outputs": [],
   "source": [
    "Y_train=training_data['gender'].values\n",
    "Y_test=testing_data['gender'].values"
   ]
  },
  {
   "cell_type": "code",
   "execution_count": null,
   "id": "37233fa7",
   "metadata": {},
   "outputs": [],
   "source": [
    "X_train,X_test,feature_transformer=extract_features(small_gendered_reviews_mtc, 'review_text', training_data,testing_data)\n",
    "\n"
   ]
  },
  {
   "cell_type": "code",
   "execution_count": null,
   "id": "96f4e262",
   "metadata": {},
   "outputs": [],
   "source": []
  },
  {
   "cell_type": "code",
   "execution_count": null,
   "id": "72924241",
   "metadata": {},
   "outputs": [],
   "source": []
  },
  {
   "cell_type": "markdown",
   "id": "69186fae",
   "metadata": {},
   "source": [
    "### Train Model, Predict"
   ]
  },
  {
   "cell_type": "code",
   "execution_count": 485,
   "id": "95a882e0",
   "metadata": {},
   "outputs": [],
   "source": [
    "Y_train=clean_gendered_reviews_mtc_small['gender'].values\n",
    "Y_test=test_balanced_reviews_mtc['gender'].values"
   ]
  },
  {
   "cell_type": "code",
   "execution_count": 486,
   "id": "20d7dcfb",
   "metadata": {},
   "outputs": [
    {
     "name": "stdout",
     "output_type": "stream",
     "text": [
      "[LibLinear]"
     ]
    }
   ],
   "source": [
    "scikit_log_reg = LogisticRegression(verbose=1, solver='liblinear',random_state=0, C=5, penalty='l2',max_iter=10000)\n",
    "model=scikit_log_reg.fit(df[:30000],Y_train)"
   ]
  },
  {
   "cell_type": "code",
   "execution_count": 487,
   "id": "e14f4d6c",
   "metadata": {},
   "outputs": [
    {
     "data": {
      "text/plain": [
       "array(['female', 'male', 'male', ..., 'male', 'male', 'female'],\n",
       "      dtype=object)"
      ]
     },
     "execution_count": 487,
     "metadata": {},
     "output_type": "execute_result"
    }
   ],
   "source": [
    "predicted = model.predict(df[30000:])\n",
    "predicted"
   ]
  },
  {
   "cell_type": "code",
   "execution_count": 488,
   "id": "0649aeb4",
   "metadata": {},
   "outputs": [
    {
     "data": {
      "text/plain": [
       "array([[0.52560901, 0.47439099],\n",
       "       [0.48135072, 0.51864928],\n",
       "       [0.49518264, 0.50481736],\n",
       "       ...,\n",
       "       [0.47582475, 0.52417525],\n",
       "       [0.48135072, 0.51864928],\n",
       "       [0.50071866, 0.49928134]])"
      ]
     },
     "execution_count": 488,
     "metadata": {},
     "output_type": "execute_result"
    }
   ],
   "source": [
    "probs = model.predict_proba(df[30000:])\n",
    "probs"
   ]
  },
  {
   "cell_type": "code",
   "execution_count": 489,
   "id": "acece29a",
   "metadata": {},
   "outputs": [
    {
     "name": "stdout",
     "output_type": "stream",
     "text": [
      "Accuracy  0.548\n"
     ]
    }
   ],
   "source": [
    "from sklearn.metrics import log_loss,accuracy_score\n",
    "\n",
    "print((\"Accuracy  \") + str(accuracy_score(Y_test, predicted)))"
   ]
  },
  {
   "cell_type": "code",
   "execution_count": 471,
   "id": "ee45a591",
   "metadata": {},
   "outputs": [],
   "source": [
    "Y_test_n = [0 if y == \"male\" else 1 for y in Y_test]\n",
    "probs_n = [i[0] for i in probs]"
   ]
  },
  {
   "cell_type": "code",
   "execution_count": 410,
   "id": "9e1e5902",
   "metadata": {},
   "outputs": [],
   "source": [
    "import sklearn.metrics as metrics\n",
    "\n",
    "def regression_results(y_true, y_pred):\n",
    "\n",
    "    # Regression metrics\n",
    "    explained_variance=metrics.explained_variance_score(y_true, y_pred)\n",
    "    mean_absolute_error=metrics.mean_absolute_error(y_true, y_pred) \n",
    "    mse=metrics.mean_squared_error(y_true, y_pred) \n",
    "    mean_squared_log_error=metrics.mean_squared_log_error(y_true, y_pred)\n",
    "    median_absolute_error=metrics.median_absolute_error(y_true, y_pred)\n",
    "    r2=metrics.r2_score(y_true, y_pred)\n",
    "\n",
    "    print('explained_variance: ', round(explained_variance,4))    \n",
    "    print('mean_squared_log_error: ', round(mean_squared_log_error,4))\n",
    "    print('r2: ', round(r2,4))\n",
    "    print('MAE: ', round(mean_absolute_error,4))\n",
    "    print('MSE: ', round(mse,4))\n",
    "    print('RMSE: ', round(np.sqrt(mse),4))\n",
    "    \n"
   ]
  },
  {
   "cell_type": "code",
   "execution_count": null,
   "id": "66b663eb",
   "metadata": {},
   "outputs": [],
   "source": []
  },
  {
   "cell_type": "code",
   "execution_count": null,
   "id": "3e59a473",
   "metadata": {},
   "outputs": [],
   "source": []
  },
  {
   "cell_type": "code",
   "execution_count": null,
   "id": "6f5f94e1",
   "metadata": {},
   "outputs": [],
   "source": []
  },
  {
   "cell_type": "code",
   "execution_count": null,
   "id": "d7c3a8e7",
   "metadata": {},
   "outputs": [],
   "source": []
  },
  {
   "cell_type": "code",
   "execution_count": null,
   "id": "a310cc1a",
   "metadata": {},
   "outputs": [],
   "source": []
  },
  {
   "cell_type": "code",
   "execution_count": null,
   "id": "461b60a1",
   "metadata": {},
   "outputs": [],
   "source": []
  },
  {
   "cell_type": "code",
   "execution_count": null,
   "id": "f47153b0",
   "metadata": {},
   "outputs": [],
   "source": []
  },
  {
   "cell_type": "code",
   "execution_count": null,
   "id": "78cd35b9",
   "metadata": {},
   "outputs": [],
   "source": []
  },
  {
   "cell_type": "markdown",
   "id": "9f4de3e6",
   "metadata": {},
   "source": [
    "### Writing Style vs LR: Analysis\n",
    "\n",
    "- 15000 male, 15000 female reviews as training data\n",
    "- 5000 male, 5000 female reviews as test data\n"
   ]
  },
  {
   "cell_type": "code",
   "execution_count": 415,
   "id": "6dcc4881",
   "metadata": {},
   "outputs": [],
   "source": [
    "import matplotlib.pyplot as plt"
   ]
  },
  {
   "cell_type": "markdown",
   "id": "5b7b3cb8",
   "metadata": {},
   "source": [
    "#### Only frequency\n",
    "\n",
    "Occurance of top 50 words taken into account.\n",
    "\n",
    "Finding: Not a strong indicator but shows that females use more popular words than males?"
   ]
  },
  {
   "cell_type": "code",
   "execution_count": 413,
   "id": "b459f79b",
   "metadata": {},
   "outputs": [
    {
     "name": "stdout",
     "output_type": "stream",
     "text": [
      "Accuracy  0.5438\n"
     ]
    }
   ],
   "source": [
    "print((\"Accuracy  \") + str(accuracy_score(Y_test, predicted)))"
   ]
  },
  {
   "cell_type": "code",
   "execution_count": 414,
   "id": "3f236843",
   "metadata": {},
   "outputs": [
    {
     "name": "stdout",
     "output_type": "stream",
     "text": [
      "explained_variance:  0.0009\n",
      "mean_squared_log_error:  0.1233\n",
      "r2:  0.0008\n",
      "MAE:  0.4997\n",
      "MSE:  0.2498\n",
      "RMSE:  0.4998\n"
     ]
    }
   ],
   "source": [
    "regression_results(Y_test_n, probs_n)"
   ]
  },
  {
   "cell_type": "code",
   "execution_count": 417,
   "id": "8b05c7c4",
   "metadata": {},
   "outputs": [
    {
     "data": {
      "text/plain": [
       "[<matplotlib.lines.Line2D at 0x7fd7767a1130>]"
      ]
     },
     "execution_count": 417,
     "metadata": {},
     "output_type": "execute_result"
    },
    {
     "data": {
      "image/png": "[encoded data removed]",
      "text/plain": [
       "<Figure size 432x288 with 1 Axes>"
      ]
     },
     "metadata": {
      "needs_background": "light"
     },
     "output_type": "display_data"
    }
   ],
   "source": [
    "plt.plot(probs_n, df)"
   ]
  },
  {
   "cell_type": "markdown",
   "id": "554efa7a",
   "metadata": {},
   "source": [
    "#### Only pronouns\n",
    "\n",
    "Expectation: Females use more pronouns\n",
    "\n",
    "Results: Inconclusive"
   ]
  },
  {
   "cell_type": "code",
   "execution_count": 490,
   "id": "109224af",
   "metadata": {},
   "outputs": [
    {
     "name": "stdout",
     "output_type": "stream",
     "text": [
      "Accuracy  0.548\n"
     ]
    }
   ],
   "source": [
    "print((\"Accuracy  \") + str(accuracy_score(Y_test, predicted)))"
   ]
  },
  {
   "cell_type": "code",
   "execution_count": 491,
   "id": "a2196f37",
   "metadata": {},
   "outputs": [
    {
     "name": "stdout",
     "output_type": "stream",
     "text": [
      "explained_variance:  0.0037\n",
      "mean_squared_log_error:  0.1226\n",
      "r2:  0.0035\n",
      "MAE:  0.4973\n",
      "MSE:  0.2491\n",
      "RMSE:  0.4991\n"
     ]
    }
   ],
   "source": [
    "regression_results(Y_test_n, probs_n)"
   ]
  },
  {
   "cell_type": "code",
   "execution_count": 492,
   "id": "800eb98f",
   "metadata": {},
   "outputs": [
    {
     "data": {
      "text/plain": [
       "<matplotlib.collections.PathCollection at 0x7fd78dbb0790>"
      ]
     },
     "execution_count": 492,
     "metadata": {},
     "output_type": "execute_result"
    },
    {
     "data": {
      "image/png": "[encoded data removed]",
      "text/plain": [
       "<Figure size 432x288 with 1 Axes>"
      ]
     },
     "metadata": {
      "needs_background": "light"
     },
     "output_type": "display_data"
    }
   ],
   "source": [
    "plt.scatter(probs_n, df[30000:])"
   ]
  },
  {
   "cell_type": "markdown",
   "id": "ea397864",
   "metadata": {},
   "source": [
    "#### Only vocabulary richness"
   ]
  },
  {
   "cell_type": "code",
   "execution_count": 437,
   "id": "e5b77b39",
   "metadata": {},
   "outputs": [
    {
     "name": "stdout",
     "output_type": "stream",
     "text": [
      "Accuracy  0.4735\n"
     ]
    }
   ],
   "source": [
    "print((\"Accuracy  \") + str(accuracy_score(Y_test, predicted)))"
   ]
  },
  {
   "cell_type": "code",
   "execution_count": 438,
   "id": "df8ff3ab",
   "metadata": {},
   "outputs": [
    {
     "name": "stdout",
     "output_type": "stream",
     "text": [
      "explained_variance:  -0.0005\n",
      "mean_squared_log_error:  0.1236\n",
      "r2:  -0.0005\n",
      "MAE:  0.5001\n",
      "MSE:  0.2501\n",
      "RMSE:  0.5001\n"
     ]
    }
   ],
   "source": [
    "regression_results(Y_test_n, probs_n)"
   ]
  },
  {
   "cell_type": "code",
   "execution_count": 439,
   "id": "8899b988",
   "metadata": {},
   "outputs": [
    {
     "data": {
      "text/plain": [
       "<matplotlib.collections.PathCollection at 0x7fd5fc91a7f0>"
      ]
     },
     "execution_count": 439,
     "metadata": {},
     "output_type": "execute_result"
    },
    {
     "data": {
      "image/png": "[encoded data removed]",
      "text/plain": [
       "<Figure size 432x288 with 1 Axes>"
      ]
     },
     "metadata": {
      "needs_background": "light"
     },
     "output_type": "display_data"
    }
   ],
   "source": [
    "plt.scatter(probs_n, df[30000:])"
   ]
  },
  {
   "cell_type": "markdown",
   "id": "dece3317",
   "metadata": {},
   "source": [
    "#### Only complexity"
   ]
  },
  {
   "cell_type": "code",
   "execution_count": 472,
   "id": "67dd0592",
   "metadata": {},
   "outputs": [
    {
     "name": "stdout",
     "output_type": "stream",
     "text": [
      "Accuracy  0.5338\n"
     ]
    }
   ],
   "source": [
    "print((\"Accuracy  \") + str(accuracy_score(Y_test, predicted)))"
   ]
  },
  {
   "cell_type": "code",
   "execution_count": null,
   "id": "53013246",
   "metadata": {},
   "outputs": [],
   "source": [
    "regression_results(Y_test_n, probs_n)"
   ]
  },
  {
   "cell_type": "code",
   "execution_count": 473,
   "id": "daa00f96",
   "metadata": {},
   "outputs": [
    {
     "data": {
      "text/plain": [
       "<matplotlib.collections.PathCollection at 0x7fd4f6836520>"
      ]
     },
     "execution_count": 473,
     "metadata": {},
     "output_type": "execute_result"
    },
    {
     "data": {
      "image/png": "[encoded data removed]",
      "text/plain": [
       "<Figure size 432x288 with 1 Axes>"
      ]
     },
     "metadata": {
      "needs_background": "light"
     },
     "output_type": "display_data"
    }
   ],
   "source": [
    "plt.scatter(probs_n, df.iloc[:, 0][30000:])"
   ]
  },
  {
   "cell_type": "code",
   "execution_count": 474,
   "id": "25ec44e7",
   "metadata": {},
   "outputs": [
    {
     "data": {
      "text/plain": [
       "<matplotlib.collections.PathCollection at 0x7fd4c6a17730>"
      ]
     },
     "execution_count": 474,
     "metadata": {},
     "output_type": "execute_result"
    },
    {
     "data": {
      "image/png": "[encoded data removed]",
      "text/plain": [
       "<Figure size 432x288 with 1 Axes>"
      ]
     },
     "metadata": {
      "needs_background": "light"
     },
     "output_type": "display_data"
    }
   ],
   "source": [
    "plt.scatter(probs_n, df.iloc[:, 1][30000:])"
   ]
  },
  {
   "cell_type": "code",
   "execution_count": 475,
   "id": "deaff6b8",
   "metadata": {},
   "outputs": [
    {
     "data": {
      "text/plain": [
       "<matplotlib.collections.PathCollection at 0x7fd5fe579460>"
      ]
     },
     "execution_count": 475,
     "metadata": {},
     "output_type": "execute_result"
    },
    {
     "data": {
      "image/png": "[encoded data removed]",
      "text/plain": [
       "<Figure size 432x288 with 1 Axes>"
      ]
     },
     "metadata": {
      "needs_background": "light"
     },
     "output_type": "display_data"
    }
   ],
   "source": [
    "plt.scatter(probs_n, df.iloc[:, 2][30000:])"
   ]
  },
  {
   "cell_type": "code",
   "execution_count": null,
   "id": "5ba8ec78",
   "metadata": {},
   "outputs": [],
   "source": []
  },
  {
   "cell_type": "code",
   "execution_count": null,
   "id": "abcee858",
   "metadata": {},
   "outputs": [],
   "source": []
  },
  {
   "cell_type": "code",
   "execution_count": null,
   "id": "ed3e867b",
   "metadata": {},
   "outputs": [],
   "source": []
  },
  {
   "cell_type": "code",
   "execution_count": null,
   "id": "5cb2d50a",
   "metadata": {},
   "outputs": [],
   "source": []
  },
  {
   "cell_type": "markdown",
   "id": "e17c2eb3",
   "metadata": {},
   "source": [
    "### Content Features\n",
    "\n",
    "Perplexity, OOV words, Entropy and other features. Will be explained later :)"
   ]
  },
  {
   "cell_type": "code",
   "execution_count": 323,
   "id": "33d988f5",
   "metadata": {},
   "outputs": [],
   "source": [
    "import scipy as sc\n",
    "\n",
    "def ShannonEntropy(words):\n",
    "    if len(words) == 0:\n",
    "        return 0\n",
    "    freqs = Counter()\n",
    "    freqs.update(words)\n",
    "    arr = np.array(list(freqs.values()))\n",
    "    distribution = 1. * arr\n",
    "    distribution /= max(1, len(words))\n",
    "    \n",
    "    H = sc.stats.entropy(distribution, base=2)\n",
    "    return H\n"
   ]
  },
  {
   "cell_type": "code",
   "execution_count": 324,
   "id": "8d03d1a9",
   "metadata": {},
   "outputs": [],
   "source": [
    "def SimpsonsIndex(words):\n",
    "    if len(words) < 2:\n",
    "        return 0\n",
    "    freqs = Counter()\n",
    "    freqs.update(words)\n",
    "    N = len(words)\n",
    "    n = sum([1.0 * i * (i - 1) for i in freqs.values()])\n",
    "    D = 1 - (n / (N * (N - 1)))\n",
    "    return D"
   ]
  },
  {
   "cell_type": "code",
   "execution_count": 511,
   "id": "1a7902b3",
   "metadata": {},
   "outputs": [],
   "source": [
    "def BrunetsMeasureW(words):\n",
    "    if len(words) < 2:\n",
    "        return 0\n",
    "    a = 0.17\n",
    "    V = float(len(set(words)))\n",
    "    N = len(words)\n",
    "    B = (V - a) / (math.log(N))\n",
    "    return B"
   ]
  },
  {
   "cell_type": "code",
   "execution_count": null,
   "id": "6f0202d6",
   "metadata": {},
   "outputs": [],
   "source": []
  },
  {
   "cell_type": "code",
   "execution_count": null,
   "id": "d8040fe4",
   "metadata": {},
   "outputs": [],
   "source": []
  },
  {
   "cell_type": "code",
   "execution_count": 495,
   "id": "ecf34ab8",
   "metadata": {},
   "outputs": [
    {
     "name": "stderr",
     "output_type": "stream",
     "text": [
      "100%|██████████| 30000/30000 [00:02<00:00, 13418.34it/s]\n",
      "100%|██████████| 10000/10000 [00:00<00:00, 15816.03it/s]\n"
     ]
    },
    {
     "data": {
      "text/plain": [
       "(40000, 40000)"
      ]
     },
     "execution_count": 495,
     "metadata": {},
     "output_type": "execute_result"
    }
   ],
   "source": [
    "entropy = []\n",
    "simpsons = []\n",
    "for idx in tqdm(range(clean_gendered_reviews_mtc_small.shape[0])):\n",
    "    entropy.append(ShannonEntropy(clean_gendered_reviews_mtc_small['review_text'][idx]))\n",
    "    simpsons.append(SimpsonsIndex(clean_gendered_reviews_mtc_small['review_text'][idx]))\n",
    "\n",
    "for idx in tqdm(range(test_balanced_reviews_mtc.shape[0])):\n",
    "    entropy.append(ShannonEntropy(test_balanced_reviews_mtc['review_text'][idx]))\n",
    "    simpsons.append(SimpsonsIndex(test_balanced_reviews_mtc['review_text'][idx]))\n",
    "    \n",
    "    \n",
    "len(entropy), len(simpsons)"
   ]
  },
  {
   "cell_type": "code",
   "execution_count": 496,
   "id": "acdfab20",
   "metadata": {},
   "outputs": [
    {
     "name": "stdout",
     "output_type": "stream",
     "text": [
      "<class 'pandas.core.frame.DataFrame'>\n",
      "RangeIndex: 40000 entries, 0 to 39999\n",
      "Data columns (total 2 columns):\n",
      " #   Column    Non-Null Count  Dtype  \n",
      "---  ------    --------------  -----  \n",
      " 0   entropy   40000 non-null  float64\n",
      " 1   simpsons  40000 non-null  float64\n",
      "dtypes: float64(2)\n",
      "memory usage: 625.1 KB\n"
     ]
    }
   ],
   "source": [
    "df_content = pd.DataFrame()\n",
    "df_content['entropy'] = entropy\n",
    "df_content['simpsons'] = simpsons\n",
    "df_content.info()"
   ]
  },
  {
   "cell_type": "code",
   "execution_count": 514,
   "id": "64dda7d2",
   "metadata": {},
   "outputs": [
    {
     "name": "stdout",
     "output_type": "stream",
     "text": [
      "[LibLinear]"
     ]
    },
    {
     "data": {
      "text/plain": [
       "array(['female', 'male', 'male', ..., 'male', 'male', 'female'],\n",
       "      dtype=object)"
      ]
     },
     "execution_count": 514,
     "metadata": {},
     "output_type": "execute_result"
    }
   ],
   "source": [
    "scikit_log_reg = LogisticRegression(verbose=1, solver='liblinear',random_state=0, C=5, penalty='l2',max_iter=10000)\n",
    "model=scikit_log_reg.fit(df_content[:30000],clean_gendered_reviews_mtc_small['gender'])\n",
    "predicted = model.predict(df_content[30000:])\n",
    "predicted"
   ]
  },
  {
   "cell_type": "code",
   "execution_count": 498,
   "id": "ded1df3c",
   "metadata": {},
   "outputs": [
    {
     "name": "stdout",
     "output_type": "stream",
     "text": [
      "Accuracy  0.4984\n"
     ]
    }
   ],
   "source": [
    "print((\"Accuracy  \") + str(accuracy_score(test_balanced_reviews_mtc['gender'], predicted)))"
   ]
  },
  {
   "cell_type": "code",
   "execution_count": 499,
   "id": "8a73a353",
   "metadata": {
    "scrolled": true
   },
   "outputs": [
    {
     "data": {
      "text/plain": [
       "array([[0.50223315, 0.49776685],\n",
       "       [0.49635308, 0.50364692],\n",
       "       [0.50271591, 0.49728409],\n",
       "       ...,\n",
       "       [0.496868  , 0.503132  ],\n",
       "       [0.5015179 , 0.4984821 ],\n",
       "       [0.50170814, 0.49829186]])"
      ]
     },
     "execution_count": 499,
     "metadata": {},
     "output_type": "execute_result"
    }
   ],
   "source": [
    "probs = model.predict_proba(df_content[30000:])\n",
    "probs"
   ]
  },
  {
   "cell_type": "code",
   "execution_count": 500,
   "id": "bdfe63ff",
   "metadata": {},
   "outputs": [],
   "source": [
    "Y_test_content = [0 if y == \"male\" else 1 for y in test_balanced_reviews_mtc['gender']]\n",
    "probs_content = [i[0] for i in probs]"
   ]
  },
  {
   "cell_type": "code",
   "execution_count": 501,
   "id": "3132324c",
   "metadata": {
    "scrolled": true
   },
   "outputs": [
    {
     "data": {
      "text/plain": [
       "<matplotlib.collections.PathCollection at 0x7fd78874a820>"
      ]
     },
     "execution_count": 501,
     "metadata": {},
     "output_type": "execute_result"
    },
    {
     "data": {
      "image/png": "[encoded data removed]",
      "text/plain": [
       "<Figure size 432x288 with 1 Axes>"
      ]
     },
     "metadata": {
      "needs_background": "light"
     },
     "output_type": "display_data"
    }
   ],
   "source": [
    "plt.scatter(probs_content, df_content.iloc[:,0][30000:])"
   ]
  },
  {
   "cell_type": "code",
   "execution_count": 502,
   "id": "b096cbcb",
   "metadata": {},
   "outputs": [
    {
     "data": {
      "text/plain": [
       "<matplotlib.collections.PathCollection at 0x7fd485f76880>"
      ]
     },
     "execution_count": 502,
     "metadata": {},
     "output_type": "execute_result"
    },
    {
     "data": {
      "image/png": "[encoded data removed]",
      "text/plain": [
       "<Figure size 432x288 with 1 Axes>"
      ]
     },
     "metadata": {
      "needs_background": "light"
     },
     "output_type": "display_data"
    }
   ],
   "source": [
    "plt.scatter(probs_content, df_content.iloc[:,1][30000:])"
   ]
  },
  {
   "cell_type": "code",
   "execution_count": 512,
   "id": "727181c1",
   "metadata": {},
   "outputs": [
    {
     "name": "stderr",
     "output_type": "stream",
     "text": [
      "100%|██████████| 30000/30000 [00:00<00:00, 77877.81it/s]\n",
      "100%|██████████| 10000/10000 [00:00<00:00, 90683.93it/s]\n"
     ]
    },
    {
     "data": {
      "text/plain": [
       "40000"
      ]
     },
     "execution_count": 512,
     "metadata": {},
     "output_type": "execute_result"
    }
   ],
   "source": [
    "brunets = []\n",
    "for idx in tqdm(range(clean_gendered_reviews_mtc_small.shape[0])):\n",
    "    brunets.append(BrunetsMeasureW(clean_gendered_reviews_mtc_small['review_text'][idx]))\n",
    "\n",
    "for idx in tqdm(range(test_balanced_reviews_mtc.shape[0])):\n",
    "    brunets.append(BrunetsMeasureW(test_balanced_reviews_mtc['review_text'][idx]))\n",
    "len(brunets)"
   ]
  },
  {
   "cell_type": "code",
   "execution_count": 513,
   "id": "e5a164a1",
   "metadata": {},
   "outputs": [
    {
     "name": "stdout",
     "output_type": "stream",
     "text": [
      "<class 'pandas.core.frame.DataFrame'>\n",
      "RangeIndex: 40000 entries, 0 to 39999\n",
      "Data columns (total 1 columns):\n",
      " #   Column   Non-Null Count  Dtype  \n",
      "---  ------   --------------  -----  \n",
      " 0   brunets  40000 non-null  float64\n",
      "dtypes: float64(1)\n",
      "memory usage: 312.6 KB\n"
     ]
    }
   ],
   "source": [
    "df_content = pd.DataFrame()\n",
    "df_content['brunets'] = brunets\n",
    "df_content.info()"
   ]
  },
  {
   "cell_type": "code",
   "execution_count": 515,
   "id": "0d14ee9e",
   "metadata": {},
   "outputs": [
    {
     "name": "stdout",
     "output_type": "stream",
     "text": [
      "[LibLinear]"
     ]
    },
    {
     "data": {
      "text/plain": [
       "array(['female', 'male', 'male', ..., 'male', 'male', 'female'],\n",
       "      dtype=object)"
      ]
     },
     "execution_count": 515,
     "metadata": {},
     "output_type": "execute_result"
    }
   ],
   "source": [
    "scikit_log_reg = LogisticRegression(verbose=1, solver='liblinear',random_state=0, C=5, penalty='l2',max_iter=10000)\n",
    "model=scikit_log_reg.fit(df_content[:30000],clean_gendered_reviews_mtc_small['gender'])\n",
    "predicted = model.predict(df_content[30000:])\n",
    "predicted"
   ]
  },
  {
   "cell_type": "code",
   "execution_count": 516,
   "id": "2120e2ae",
   "metadata": {},
   "outputs": [
    {
     "name": "stdout",
     "output_type": "stream",
     "text": [
      "Accuracy  0.5484\n"
     ]
    }
   ],
   "source": [
    "print((\"Accuracy  \") + str(accuracy_score(test_balanced_reviews_mtc['gender'], predicted)))"
   ]
  },
  {
   "cell_type": "code",
   "execution_count": 518,
   "id": "28e0e28d",
   "metadata": {},
   "outputs": [
    {
     "data": {
      "text/plain": [
       "<matplotlib.collections.PathCollection at 0x7fd4b1759e50>"
      ]
     },
     "execution_count": 518,
     "metadata": {},
     "output_type": "execute_result"
    },
    {
     "data": {
      "image/png": "[encoded data removed]",
      "text/plain": [
       "<Figure size 432x288 with 1 Axes>"
      ]
     },
     "metadata": {
      "needs_background": "light"
     },
     "output_type": "display_data"
    }
   ],
   "source": [
    "probs = model.predict_proba(df_content[30000:])\n",
    "Y_test_content = [0 if y == \"male\" else 1 for y in test_balanced_reviews_mtc['gender']]\n",
    "probs_content = [i[0] for i in probs]\n",
    "plt.scatter(probs_content, df_content.iloc[:,0][30000:])"
   ]
  },
  {
   "cell_type": "code",
   "execution_count": null,
   "id": "b87f1991",
   "metadata": {},
   "outputs": [],
   "source": []
  },
  {
   "cell_type": "code",
   "execution_count": null,
   "id": "e137728a",
   "metadata": {},
   "outputs": [],
   "source": []
  },
  {
   "cell_type": "code",
   "execution_count": null,
   "id": "96f8170c",
   "metadata": {},
   "outputs": [],
   "source": []
  },
  {
   "cell_type": "code",
   "execution_count": null,
   "id": "6eb2e23e",
   "metadata": {},
   "outputs": [],
   "source": []
  },
  {
   "cell_type": "code",
   "execution_count": null,
   "id": "32f17cb7",
   "metadata": {},
   "outputs": [],
   "source": []
  },
  {
   "cell_type": "markdown",
   "id": "ff98e6b0",
   "metadata": {},
   "source": [
    "### Some random readability analysis "
   ]
  },
  {
   "cell_type": "code",
   "execution_count": null,
   "id": "083d5842",
   "metadata": {},
   "outputs": [],
   "source": [
    "def FleschReadingEase(text, NoOfsentences):\n",
    "    l = float(len(words))\n",
    "    scount = 0\n",
    "    for word in words:\n",
    "        scount += syllable_count(word)\n",
    "\n",
    "    I = 206.835 - 1.015 * (l / float(NoOfsentences)) - 84.6 * (scount / float(l))\n",
    "    return I"
   ]
  },
  {
   "cell_type": "code",
   "execution_count": 520,
   "id": "b65a5993",
   "metadata": {},
   "outputs": [
    {
     "name": "stderr",
     "output_type": "stream",
     "text": [
      "100%|██████████| 30000/30000 [00:02<00:00, 10979.12it/s]\n",
      "100%|██████████| 10000/10000 [00:00<00:00, 13161.32it/s]\n"
     ]
    },
    {
     "data": {
      "text/plain": [
       "40000"
      ]
     },
     "execution_count": 520,
     "metadata": {},
     "output_type": "execute_result"
    }
   ],
   "source": [
    "def avg_SentLenghtByWord(text):\n",
    "    if len(text) == 0:\n",
    "        return 0\n",
    "    tokens = sent_tokenize(text)\n",
    "    return np.average([len(token.split()) for token in tokens])\n",
    "avgSentLen = []\n",
    "for idx in tqdm(range(clean_gendered_reviews_mtc_small.shape[0])):\n",
    "    avgSentLen.append(avg_SentLenghtByWord(clean_gendered_reviews_mtc_small['review_text'][idx]))\n",
    "for idx in tqdm(range(test_balanced_reviews_mtc.shape[0])):\n",
    "    avgSentLen.append(avg_SentLenghtByWord(test_balanced_reviews_mtc['review_text'][idx]))\n",
    "len(avgSentLen)"
   ]
  },
  {
   "cell_type": "code",
   "execution_count": 522,
   "id": "60fdad38",
   "metadata": {},
   "outputs": [
    {
     "name": "stdout",
     "output_type": "stream",
     "text": [
      "[LibLinear]Accuracy  0.5377\n",
      "explained_variance:  0.0037\n",
      "mean_squared_log_error:  0.1226\n",
      "r2:  0.0035\n",
      "MAE:  0.4973\n",
      "MSE:  0.2491\n",
      "RMSE:  0.4991\n"
     ]
    },
    {
     "data": {
      "text/plain": [
       "<matplotlib.collections.PathCollection at 0x7fd5104256d0>"
      ]
     },
     "execution_count": 522,
     "metadata": {},
     "output_type": "execute_result"
    },
    {
     "data": {
      "image/png": "[encoded data removed]",
      "text/plain": [
       "<Figure size 432x288 with 1 Axes>"
      ]
     },
     "metadata": {
      "needs_background": "light"
     },
     "output_type": "display_data"
    }
   ],
   "source": [
    "df_content = pd.DataFrame()\n",
    "df_content['avgSentLen'] = avgSentLen\n",
    "scikit_log_reg = LogisticRegression(verbose=1, solver='liblinear',random_state=0, C=5, penalty='l2',max_iter=10000)\n",
    "model=scikit_log_reg.fit(df_content[:30000],clean_gendered_reviews_mtc_small['gender'])\n",
    "predicted = model.predict(df_content[30000:])\n",
    "print((\"Accuracy  \") + str(accuracy_score(test_balanced_reviews_mtc['gender'], predicted)))\n",
    "regression_results(Y_test_n, probs_n)\n",
    "probs = model.predict_proba(df_content[30000:])\n",
    "Y_test_content = [0 if y == \"male\" else 1 for y in test_balanced_reviews_mtc['gender']]\n",
    "probs_content = [i[0] for i in probs]\n",
    "plt.scatter(probs_content, df_content.iloc[:,0][30000:])"
   ]
  },
  {
   "cell_type": "code",
   "execution_count": null,
   "id": "6d877222",
   "metadata": {},
   "outputs": [],
   "source": []
  },
  {
   "cell_type": "code",
   "execution_count": null,
   "id": "a1692b5d",
   "metadata": {},
   "outputs": [],
   "source": []
  },
  {
   "cell_type": "markdown",
   "id": "b2dc1340",
   "metadata": {},
   "source": [
    "### Analysis on Review Counts, Gender\n",
    "\n"
   ]
  },
  {
   "cell_type": "code",
   "execution_count": null,
   "id": "1cd53da7",
   "metadata": {},
   "outputs": [],
   "source": []
  },
  {
   "cell_type": "code",
   "execution_count": null,
   "id": "6fc92c64",
   "metadata": {},
   "outputs": [],
   "source": []
  },
  {
   "cell_type": "code",
   "execution_count": null,
   "id": "5d0482ed",
   "metadata": {},
   "outputs": [],
   "source": []
  },
  {
   "cell_type": "code",
   "execution_count": null,
   "id": "04efc55c",
   "metadata": {},
   "outputs": [],
   "source": []
  },
  {
   "cell_type": "code",
   "execution_count": null,
   "id": "72efe5e1",
   "metadata": {},
   "outputs": [],
   "source": []
  },
  {
   "cell_type": "code",
   "execution_count": null,
   "id": "a56639a9",
   "metadata": {},
   "outputs": [],
   "source": []
  },
  {
   "cell_type": "code",
   "execution_count": null,
   "id": "b9e51213",
   "metadata": {},
   "outputs": [],
   "source": []
  },
  {
   "cell_type": "code",
   "execution_count": null,
   "id": "79be1097",
   "metadata": {},
   "outputs": [],
   "source": []
  },
  {
   "cell_type": "code",
   "execution_count": null,
   "id": "67d26b8c",
   "metadata": {},
   "outputs": [],
   "source": []
  },
  {
   "cell_type": "markdown",
   "id": "df72f44a",
   "metadata": {},
   "source": [
    "### A lot of random code, ignore"
   ]
  },
  {
   "cell_type": "code",
   "execution_count": 261,
   "id": "59c583d6",
   "metadata": {},
   "outputs": [],
   "source": [
    "def extract_features(df,field, training_data,testing_data):\n",
    "    \"\"\"Extract features using different methods\"\"\" \n",
    "        \n",
    "    # TF-IDF BASED FEATURE REPRESENTATION\n",
    "    tfidf_vectorizer=TfidfVectorizer(use_idf=True, max_df=0.95)\n",
    "    tfidf_vectorizer.fit_transform(training_data[field].values)\n",
    "\n",
    "    train_feature_set=tfidf_vectorizer.transform(training_data[field].values)\n",
    "    test_feature_set=tfidf_vectorizer.transform(testing_data[field].values)\n",
    "\n",
    "    return train_feature_set,test_feature_set,tfidf_vectorizer\n"
   ]
  }
 ],
 "metadata": {
  "kernelspec": {
   "display_name": "Python 3",
   "language": "python",
   "name": "python3"
  },
  "language_info": {
   "codemirror_mode": {
    "name": "ipython",
    "version": 3
   },
   "file_extension": ".py",
   "mimetype": "text/x-python",
   "name": "python",
   "nbconvert_exporter": "python",
   "pygments_lexer": "ipython3",
   "version": "3.8.8"
  }
 },
 "nbformat": 4,
 "nbformat_minor": 5
}
