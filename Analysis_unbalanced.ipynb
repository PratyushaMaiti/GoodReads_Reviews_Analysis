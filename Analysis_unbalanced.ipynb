{
 "cells": [
  {
   "cell_type": "markdown",
   "id": "268a96f6",
   "metadata": {},
   "source": [
    "# Understanding the Role of Gender in Book Reviews\n",
    "\n",
    "## CS 6471: Computational Social Science - Project\n",
    "Author: Pratyusha Maiti\n",
    "\n",
    "Affiliation: Georgia Institute of Technology\n",
    "\n",
    "### Research Objectives\n",
    "- Do book reviews by different genders differ in stylistic features?\n",
    "- Do book reviews by different genders differ w.r.t their content?\n",
    "- Are book reviews written by males perceived as more useful than book reviews written by females?"
   ]
  },
  {
   "cell_type": "markdown",
   "id": "a2f8ae61",
   "metadata": {},
   "source": [
    "## TODO:\n",
    "\n",
    "- Keep unknown gender values and try predicting?"
   ]
  },
  {
   "cell_type": "code",
   "execution_count": 215,
   "id": "c7d023bd",
   "metadata": {},
   "outputs": [
    {
     "name": "stderr",
     "output_type": "stream",
     "text": [
      "[nltk_data] Downloading package stopwords to\n",
      "[nltk_data]     /Users/pratyushamaiti/nltk_data...\n",
      "[nltk_data]   Package stopwords is already up-to-date!\n",
      "[nltk_data] Downloading package punkt to\n",
      "[nltk_data]     /Users/pratyushamaiti/nltk_data...\n",
      "[nltk_data]   Package punkt is already up-to-date!\n",
      "[nltk_data] Downloading package wordnet to\n",
      "[nltk_data]     /Users/pratyushamaiti/nltk_data...\n",
      "[nltk_data]   Package wordnet is already up-to-date!\n",
      "[nltk_data] Downloading package averaged_perceptron_tagger to\n",
      "[nltk_data]     /Users/pratyushamaiti/nltk_data...\n",
      "[nltk_data]   Package averaged_perceptron_tagger is already up-to-\n",
      "[nltk_data]       date!\n",
      "[nltk_data] Downloading package universal_tagset to\n",
      "[nltk_data]     /Users/pratyushamaiti/nltk_data...\n",
      "[nltk_data]   Package universal_tagset is already up-to-date!\n"
     ]
    },
    {
     "name": "stdout",
     "output_type": "stream",
     "text": [
      "Requirement already satisfied: contractions in /opt/homebrew/anaconda3/lib/python3.8/site-packages (0.1.66)\n",
      "Requirement already satisfied: textsearch>=0.0.21 in /opt/homebrew/anaconda3/lib/python3.8/site-packages (from contractions) (0.0.21)\n",
      "Requirement already satisfied: anyascii in /opt/homebrew/anaconda3/lib/python3.8/site-packages (from textsearch>=0.0.21->contractions) (0.3.0)\n",
      "Requirement already satisfied: pyahocorasick in /opt/homebrew/anaconda3/lib/python3.8/site-packages (from textsearch>=0.0.21->contractions) (1.4.4)\n",
      "\u001b[33mWARNING: You are using pip version 21.3.1; however, version 22.0.3 is available.\n",
      "You should consider upgrading via the '/opt/homebrew/anaconda3/bin/python -m pip install --upgrade pip' command.\u001b[0m\n"
     ]
    }
   ],
   "source": [
    "import nltk\n",
    "nltk.download('stopwords')\n",
    "nltk.download('punkt')\n",
    "nltk.download('wordnet')\n",
    "nltk.download('averaged_perceptron_tagger')\n",
    "nltk.download('universal_tagset')\n",
    "!pip install contractions"
   ]
  },
  {
   "cell_type": "markdown",
   "id": "1b3299eb",
   "metadata": {},
   "source": [
    "### Review Data Cleaning\n",
    "\n",
    "Parameters:\n",
    " - Expand contractions\n",
    " - Remove stopwords\n",
    " - Remove junk and html\n",
    " - Tokenize\n",
    " - Lemmatize\n",
    " "
   ]
  },
  {
   "cell_type": "code",
   "execution_count": 216,
   "id": "692d030a",
   "metadata": {},
   "outputs": [],
   "source": [
    "import contractions \n",
    "import re\n",
    "from nltk.corpus import stopwords\n",
    "import numpy as np"
   ]
  },
  {
   "cell_type": "code",
   "execution_count": 217,
   "id": "e6648fe5",
   "metadata": {},
   "outputs": [],
   "source": [
    "expand_contractions = True\n",
    "remove_stopwords = False\n",
    "format_text = True\n",
    "tokenize = True\n",
    "lemmatize = False\n",
    "\n",
    "def clean_text(text):\n",
    "    '''Text Preprocessing '''\n",
    "    \n",
    "    # Convert words to lower case\n",
    "    text = text.lower()\n",
    "    split_text = text.split()\n",
    "    \n",
    "    # Expand contractions\n",
    "    if expand_contractions:\n",
    "        expanded_words = []   \n",
    "        for word in split_text:\n",
    "            expanded_words.append(contractions.fix(word))\n",
    "        text = \" \".join(expanded_words)\n",
    "\n",
    "    # Format words and remove unwanted characters\n",
    "    if format_text:\n",
    "        text = re.sub(r'https?:\\/\\/.*[\\r\\n]*', '', text, flags=re.MULTILINE)\n",
    "        text = re.sub(r'\\<a href', ' ', text)\n",
    "        text = re.sub(r'&amp;', '', text) \n",
    "        text = re.sub(r'[_\"\\-;%()|+&=*%.,!?:#$@\\[\\]/]', ' ', text)\n",
    "        text = re.sub(r'<br />', ' ', text)\n",
    "        text = re.sub(r'\\'', ' ', text)\n",
    "    \n",
    "    # remove stopwords\n",
    "    if remove_stopwords:\n",
    "        split_text = text.split()\n",
    "        stops = set(stopwords.words(\"english\"))\n",
    "        word = [w for w in split_text if not w in stops]\n",
    "        text = \" \".join(word)\n",
    "\n",
    "    # Tokenize each word\n",
    "    if tokenize:\n",
    "        text =  nltk.WordPunctTokenizer().tokenize(text)\n",
    "    \n",
    "    # Lemmatize each token\n",
    "    if lemmatize:\n",
    "        lemm = nltk.stem.WordNetLemmatizer()\n",
    "        text = list(map(lambda word:list(map(lemm.lemmatize, word)), text))\n",
    "    \n",
    "    return text"
   ]
  },
  {
   "cell_type": "markdown",
   "id": "fad9ee9a",
   "metadata": {},
   "source": [
    "##### Generate gendered review data\n",
    "\n",
    "- Genre: Crime, Thriller, Mystery\n",
    "- Joined by userID\n",
    "- Dropped NaN rows"
   ]
  },
  {
   "cell_type": "code",
   "execution_count": 218,
   "id": "e6edbd04",
   "metadata": {},
   "outputs": [
    {
     "name": "stdout",
     "output_type": "stream",
     "text": [
      "<class 'pandas.core.frame.DataFrame'>\n",
      "RangeIndex: 852197 entries, 0 to 852196\n",
      "Data columns (total 12 columns):\n",
      " #   Column         Non-Null Count   Dtype  \n",
      "---  ------         --------------   -----  \n",
      " 0   id             852197 non-null  int64  \n",
      " 1   name           850616 non-null  object \n",
      " 2   username       252735 non-null  object \n",
      " 3   age            242043 non-null  float64\n",
      " 4   location       665382 non-null  object \n",
      " 5   joined         820599 non-null  object \n",
      " 6   friends_count  820599 non-null  float64\n",
      " 7   groups_count   820599 non-null  float64\n",
      " 8   reviews_count  820599 non-null  float64\n",
      " 9   first_name     850555 non-null  object \n",
      " 10  gender         852197 non-null  object \n",
      " 11  user_id        852197 non-null  object \n",
      "dtypes: float64(4), int64(1), object(7)\n",
      "memory usage: 78.0+ MB\n"
     ]
    }
   ],
   "source": [
    "import pandas as pd\n",
    "gendered_data = pd.read_csv('goodreads_names_id_gender.csv')\n",
    "gendered_data.columns = ['id', 'name', 'username', 'age', 'location', 'joined', 'friends_count','groups_count', 'reviews_count', 'first_name', 'gender', 'user_id']\n",
    "gendered_data.info()"
   ]
  },
  {
   "cell_type": "code",
   "execution_count": 219,
   "id": "bb468e74",
   "metadata": {},
   "outputs": [],
   "source": [
    "import gzip\n",
    "import json\n",
    "\n",
    "def load_data(file_name, head = 500):\n",
    "    count = 0\n",
    "    data = []\n",
    "    with gzip.open(file_name) as fin:\n",
    "        for l in fin:\n",
    "            d = json.loads(l)\n",
    "            count += 1\n",
    "            data.append(d)\n",
    "            \n",
    "            # break if reaches the 100th line\n",
    "            if (head is not None) and (count > head):\n",
    "                break\n",
    "    return data"
   ]
  },
  {
   "cell_type": "code",
   "execution_count": 220,
   "id": "82ab4d8d",
   "metadata": {},
   "outputs": [
    {
     "name": "stdout",
     "output_type": "stream",
     "text": [
      "<class 'pandas.core.frame.DataFrame'>\n",
      "RangeIndex: 1849236 entries, 0 to 1849235\n",
      "Data columns (total 11 columns):\n",
      " #   Column        Dtype \n",
      "---  ------        ----- \n",
      " 0   user_id       object\n",
      " 1   book_id       object\n",
      " 2   review_id     object\n",
      " 3   rating        int64 \n",
      " 4   review_text   object\n",
      " 5   date_added    object\n",
      " 6   date_updated  object\n",
      " 7   read_at       object\n",
      " 8   started_at    object\n",
      " 9   n_votes       int64 \n",
      " 10  n_comments    int64 \n",
      "dtypes: int64(3), object(8)\n",
      "memory usage: 155.2+ MB\n"
     ]
    }
   ],
   "source": [
    "goodreads_reviews_mystery_thriller_crime = load_data('goodreads_reviews_mystery_thriller_crime.json.gz',1849235)\n",
    "goodreads_reviews_mystery_thriller_crime_df = pd.DataFrame(goodreads_reviews_mystery_thriller_crime)\n",
    "goodreads_reviews_mystery_thriller_crime_df.info()"
   ]
  },
  {
   "cell_type": "code",
   "execution_count": 221,
   "id": "18363173",
   "metadata": {},
   "outputs": [
    {
     "name": "stdout",
     "output_type": "stream",
     "text": [
      "<class 'pandas.core.frame.DataFrame'>\n",
      "Int64Index: 1849236 entries, 0 to 1849235\n",
      "Data columns (total 22 columns):\n",
      " #   Column         Dtype  \n",
      "---  ------         -----  \n",
      " 0   user_id        object \n",
      " 1   book_id        object \n",
      " 2   review_id      object \n",
      " 3   rating         int64  \n",
      " 4   review_text    object \n",
      " 5   date_added     object \n",
      " 6   date_updated   object \n",
      " 7   read_at        object \n",
      " 8   started_at     object \n",
      " 9   n_votes        int64  \n",
      " 10  n_comments     int64  \n",
      " 11  id             float64\n",
      " 12  name           object \n",
      " 13  username       object \n",
      " 14  age            float64\n",
      " 15  location       object \n",
      " 16  joined         object \n",
      " 17  friends_count  float64\n",
      " 18  groups_count   float64\n",
      " 19  reviews_count  float64\n",
      " 20  first_name     object \n",
      " 21  gender         object \n",
      "dtypes: float64(5), int64(3), object(14)\n",
      "memory usage: 324.5+ MB\n"
     ]
    }
   ],
   "source": [
    "gendered_reviews_mtc = pd.merge(goodreads_reviews_mystery_thriller_crime_df, gendered_data, on='user_id', how='left')\n",
    "gendered_reviews_mtc.info()"
   ]
  },
  {
   "cell_type": "markdown",
   "id": "32e9ee30",
   "metadata": {},
   "source": [
    "~Incomplete dataset. Dropped the rows with NaN values in features. We find that this brings out the number of reviews by ~1.5 million reviews~"
   ]
  },
  {
   "cell_type": "code",
   "execution_count": 222,
   "id": "5b983e6e",
   "metadata": {},
   "outputs": [],
   "source": [
    "clean_gendered_reviews_mtc = gendered_reviews_mtc\n",
    "# clean_gendered_reviews_mtc = gendered_reviews_mtc.dropna()\n",
    "# clean_gendered_reviews_mtc = clean_gendered_reviews_mtc.reset_index(drop=True)\n",
    "# clean_gendered_reviews_mtc.info()"
   ]
  },
  {
   "cell_type": "markdown",
   "id": "1c30e5ce",
   "metadata": {},
   "source": [
    "Dropped the rows with *unknown gender type* and NaN in gender. We find that ratio of female to male reviewers in the test dataset is ~ 2.5:1"
   ]
  },
  {
   "cell_type": "code",
   "execution_count": 224,
   "id": "ab5fdc49",
   "metadata": {},
   "outputs": [
    {
     "name": "stdout",
     "output_type": "stream",
     "text": [
      "<class 'pandas.core.frame.DataFrame'>\n",
      "RangeIndex: 1297338 entries, 0 to 1297337\n",
      "Data columns (total 22 columns):\n",
      " #   Column         Non-Null Count    Dtype  \n",
      "---  ------         --------------    -----  \n",
      " 0   user_id        1297338 non-null  object \n",
      " 1   book_id        1297338 non-null  object \n",
      " 2   review_id      1297338 non-null  object \n",
      " 3   rating         1297338 non-null  int64  \n",
      " 4   review_text    1297338 non-null  object \n",
      " 5   date_added     1297338 non-null  object \n",
      " 6   date_updated   1297338 non-null  object \n",
      " 7   read_at        1297338 non-null  object \n",
      " 8   started_at     1297338 non-null  object \n",
      " 9   n_votes        1297338 non-null  int64  \n",
      " 10  n_comments     1297338 non-null  int64  \n",
      " 11  id             1267740 non-null  float64\n",
      " 12  name           1267740 non-null  object \n",
      " 13  username       647310 non-null   object \n",
      " 14  age            582643 non-null   float64\n",
      " 15  location       915311 non-null   object \n",
      " 16  joined         1202883 non-null  object \n",
      " 17  friends_count  1202883 non-null  float64\n",
      " 18  groups_count   1202883 non-null  float64\n",
      " 19  reviews_count  1202883 non-null  float64\n",
      " 20  first_name     1267740 non-null  object \n",
      " 21  gender         1267740 non-null  object \n",
      "dtypes: float64(5), int64(3), object(14)\n",
      "memory usage: 217.8+ MB\n"
     ]
    }
   ],
   "source": [
    "clean_gendered_reviews_mtc = clean_gendered_reviews_mtc[clean_gendered_reviews_mtc.gender != 'unknown']\n",
    "clean_gendered_reviews_mtc = clean_gendered_reviews_mtc.dropna(subset=['gender'])\n",
    "clean_gendered_reviews_mtc = clean_gendered_reviews_mtc.reset_index(drop=True)\n",
    "clean_gendered_reviews_mtc.info()"
   ]
  },
  {
   "cell_type": "code",
   "execution_count": 229,
   "id": "6153a271",
   "metadata": {},
   "outputs": [
    {
     "data": {
      "text/plain": [
       "female    954765\n",
       "male      312975\n",
       "Name: gender, dtype: int64"
      ]
     },
     "execution_count": 229,
     "metadata": {},
     "output_type": "execute_result"
    }
   ],
   "source": [
    "clean_gendered_reviews_mtc['gender'].value_counts()"
   ]
  },
  {
   "cell_type": "code",
   "execution_count": 230,
   "id": "006cb9e5",
   "metadata": {},
   "outputs": [
    {
     "data": {
      "text/plain": [
       "\"I'm a sucker for spy novels, so when someone left this at our bookswap brunch, I zero'd right in on it. I definitely enjoyed it, but didn't think it had much substance. However, it was a perfect novel to relax the mind. \\n I enjoyed the descriptions of East Berlin and West Berlin and the Anarchists and Communists. The descriptions of how the double agents were made was a lot of fun. Being a real spy would not be fun, if you really had to pretend to be in a dead-end job with no ambition. It was definitely interesting to be thrown back into a cold-war novel, though at the end I found it a little boring and I started skimming.\""
      ]
     },
     "execution_count": 230,
     "metadata": {},
     "output_type": "execute_result"
    }
   ],
   "source": [
    "gendered_reviews_mtc['review_text'][12]"
   ]
  },
  {
   "cell_type": "markdown",
   "id": "ae96e226",
   "metadata": {},
   "source": [
    "### Feature Engineering\n",
    "\n",
    "- Generate clean review data on the reduced dataset\n",
    "- Generate writing style features\n",
    "- Generate content features\n"
   ]
  },
  {
   "cell_type": "code",
   "execution_count": 227,
   "id": "7dd33003",
   "metadata": {},
   "outputs": [
    {
     "name": "stdout",
     "output_type": "stream",
     "text": [
      "Requirement already satisfied: tqdm in /opt/homebrew/anaconda3/lib/python3.8/site-packages (4.59.0)\n",
      "\u001b[33mWARNING: You are using pip version 21.3.1; however, version 22.0.3 is available.\n",
      "You should consider upgrading via the '/opt/homebrew/anaconda3/bin/python -m pip install --upgrade pip' command.\u001b[0m\n"
     ]
    }
   ],
   "source": [
    "!pip install tqdm"
   ]
  },
  {
   "cell_type": "code",
   "execution_count": null,
   "id": "6591f740",
   "metadata": {},
   "outputs": [],
   "source": [
    "# gendered_reviews_mtc['review_text'][0] = ' '.join(clean_text(gendered_reviews_mtc['review_text'][0]))"
   ]
  },
  {
   "cell_type": "code",
   "execution_count": 231,
   "id": "38f0af49",
   "metadata": {},
   "outputs": [],
   "source": [
    "from tqdm import tqdm\n",
    "\n",
    "def clean_review(reviews_set):\n",
    "    pd.options.mode.chained_assignment = None\n",
    "    for idx in tqdm(range(reviews_set.shape[0])):\n",
    "        reviews_set['review_text'][idx] = ' '.join(clean_text(reviews_set['review_text'][idx]))"
   ]
  },
  {
   "cell_type": "markdown",
   "id": "f9bb1fb9",
   "metadata": {},
   "source": [
    "Clean up a small subset of 20000 reviews."
   ]
  },
  {
   "cell_type": "code",
   "execution_count": 232,
   "id": "a59a4eec",
   "metadata": {},
   "outputs": [
    {
     "name": "stderr",
     "output_type": "stream",
     "text": [
      "100%|██████████| 20000/20000 [00:10<00:00, 1954.20it/s]\n"
     ]
    }
   ],
   "source": [
    "clean_gendered_reviews_mtc_small = clean_gendered_reviews_mtc[:20000]\n",
    "clean_review(clean_gendered_reviews_mtc_small)"
   ]
  },
  {
   "cell_type": "code",
   "execution_count": 233,
   "id": "d0368ac8",
   "metadata": {},
   "outputs": [
    {
     "name": "stdout",
     "output_type": "stream",
     "text": [
      "<class 'pandas.core.frame.DataFrame'>\n",
      "RangeIndex: 20000 entries, 0 to 19999\n",
      "Data columns (total 22 columns):\n",
      " #   Column         Non-Null Count  Dtype  \n",
      "---  ------         --------------  -----  \n",
      " 0   user_id        20000 non-null  object \n",
      " 1   book_id        20000 non-null  object \n",
      " 2   review_id      20000 non-null  object \n",
      " 3   rating         20000 non-null  int64  \n",
      " 4   review_text    20000 non-null  object \n",
      " 5   date_added     20000 non-null  object \n",
      " 6   date_updated   20000 non-null  object \n",
      " 7   read_at        20000 non-null  object \n",
      " 8   started_at     20000 non-null  object \n",
      " 9   n_votes        20000 non-null  int64  \n",
      " 10  n_comments     20000 non-null  int64  \n",
      " 11  id             20000 non-null  float64\n",
      " 12  name           20000 non-null  object \n",
      " 13  username       9092 non-null   object \n",
      " 14  age            8819 non-null   float64\n",
      " 15  location       15299 non-null  object \n",
      " 16  joined         18780 non-null  object \n",
      " 17  friends_count  18780 non-null  float64\n",
      " 18  groups_count   18780 non-null  float64\n",
      " 19  reviews_count  18780 non-null  float64\n",
      " 20  first_name     20000 non-null  object \n",
      " 21  gender         20000 non-null  object \n",
      "dtypes: float64(5), int64(3), object(14)\n",
      "memory usage: 3.4+ MB\n"
     ]
    }
   ],
   "source": [
    "clean_gendered_reviews_mtc_small.info()"
   ]
  },
  {
   "cell_type": "code",
   "execution_count": null,
   "id": "cc09c56a",
   "metadata": {},
   "outputs": [],
   "source": [
    "# clean_gendered_reviews_mtc = clean_gendered_reviews_mtc[len(clean_gendered_reviews_mtc.review_text)>0]\n",
    "# clean_gendered_reviews_mtc = clean_gendered_reviews_mtc.reset_index(drop=True)\n",
    "# clean_gendered_reviews_mtc.info()"
   ]
  },
  {
   "cell_type": "code",
   "execution_count": null,
   "id": "1c644209",
   "metadata": {},
   "outputs": [],
   "source": [
    "file_name = \"cleaned_gendered_reviews_mtc.csv\"\n",
    "clean_gendered_reviews_mtc.to_csv(file_name)  \n",
    "# clean_gendered_reviews_mtc.to_csv(file_name, sep='\\t', encoding='utf-8')"
   ]
  },
  {
   "cell_type": "markdown",
   "id": "ebe4cd32",
   "metadata": {},
   "source": [
    "### Writing Style Analysis"
   ]
  },
  {
   "cell_type": "code",
   "execution_count": 234,
   "id": "ebcf7a97",
   "metadata": {},
   "outputs": [],
   "source": [
    "# Features under analysis:\n",
    "lexical_markers = []\n",
    "vocabulary_richness = []\n",
    "complexity = []\n",
    "hedging = []\n",
    "use_of_pronouns = []"
   ]
  },
  {
   "cell_type": "markdown",
   "id": "c5b2ea94",
   "metadata": {},
   "source": [
    "Notice that the gender is extremely skewed. Might affect performance."
   ]
  },
  {
   "cell_type": "code",
   "execution_count": 235,
   "id": "c8474463",
   "metadata": {},
   "outputs": [
    {
     "data": {
      "text/plain": [
       "female    15465\n",
       "male       4535\n",
       "Name: gender, dtype: int64"
      ]
     },
     "execution_count": 235,
     "metadata": {},
     "output_type": "execute_result"
    }
   ],
   "source": [
    "clean_gendered_reviews_mtc_small['gender'].value_counts()"
   ]
  },
  {
   "cell_type": "markdown",
   "id": "7cc694c5",
   "metadata": {},
   "source": [
    "#### Get Top 50 common words in the entire reviewset"
   ]
  },
  {
   "cell_type": "code",
   "execution_count": 236,
   "id": "aaf560da",
   "metadata": {},
   "outputs": [],
   "source": [
    "from collections import Counter\n",
    "from nltk.probability import FreqDist\n",
    "\n",
    "def topN_Freq(data, n: int):\n",
    "    fdist = FreqDist(data)\n",
    "    return fdist.most_common(n)\n",
    "\n",
    "def top_50_words(reviews_set):\n",
    "    top_50 = {}\n",
    "    dic2 = {}\n",
    "    for idx in tqdm(range(reviews_set.shape[0])):\n",
    "\n",
    "        freqDict = topN_Freq(reviews_set['review_text'][idx].split(), 50)\n",
    "        dic1 = dict(freqDict)\n",
    "        if idx != 0:\n",
    "            top_50 = {k: dic1.get(k, 0) + dic2.get(k, 0) for k in set(dic1) | set(dic2)}\n",
    "        dic2 = dict(Counter(top_50).most_common(50))\n",
    "\n",
    "    return dict(Counter(top_50).most_common(50))\n",
    "    len(top_50)\n"
   ]
  },
  {
   "cell_type": "code",
   "execution_count": 237,
   "id": "54db7661",
   "metadata": {},
   "outputs": [
    {
     "name": "stderr",
     "output_type": "stream",
     "text": [
      "100%|██████████| 20000/20000 [00:02<00:00, 8430.63it/s]\n"
     ]
    }
   ],
   "source": [
    "top_50 = top_50_words(clean_gendered_reviews_mtc_small)"
   ]
  },
  {
   "cell_type": "markdown",
   "id": "0b8ac23b",
   "metadata": {},
   "source": [
    "#### Get all occurances of the top 50 frequent words in each review"
   ]
  },
  {
   "cell_type": "code",
   "execution_count": 239,
   "id": "49743b6b",
   "metadata": {},
   "outputs": [],
   "source": [
    "def get_lexical_markers(reviews_set):\n",
    "    lexical_markers = []\n",
    "    for idx in tqdm(range(reviews_set.shape[0])):\n",
    "        freq = Counter(reviews_set['review_text'][idx].split())\n",
    "        lexical_markers.append(sum(freq.get(k, 0) for k in set(top_50)))\n",
    "    print(len(lexical_markers))\n",
    "    return lexical_markers"
   ]
  },
  {
   "cell_type": "code",
   "execution_count": 240,
   "id": "634cd245",
   "metadata": {},
   "outputs": [
    {
     "name": "stderr",
     "output_type": "stream",
     "text": [
      "100%|██████████| 20000/20000 [00:00<00:00, 37817.32it/s]"
     ]
    },
    {
     "name": "stdout",
     "output_type": "stream",
     "text": [
      "20000\n"
     ]
    },
    {
     "name": "stderr",
     "output_type": "stream",
     "text": [
      "\n"
     ]
    }
   ],
   "source": [
    "lexical_markers = get_lexical_markers(clean_gendered_reviews_mtc_small)"
   ]
  },
  {
   "cell_type": "code",
   "execution_count": null,
   "id": "cd976cc3",
   "metadata": {},
   "outputs": [],
   "source": [
    "from nltk.tokenize import word_tokenize, sent_tokenize\n",
    "\n",
    "def avgSentLenghtByWord(text):\n",
    "    tokens = sent_tokenize(text)\n",
    "    return np.average([len(token.split()) for token in tokens])"
   ]
  },
  {
   "cell_type": "code",
   "execution_count": null,
   "id": "e575e6dc",
   "metadata": {},
   "outputs": [],
   "source": [
    "def countFunctionalWords(text):\n",
    "    functional_words = \"\"\"a between in nor some upon\n",
    "    about both including nothing somebody us\n",
    "    above but inside of someone used\n",
    "    after by into off something via\n",
    "    all can is on such we\n",
    "    although cos it once than what\n",
    "    am do its one that whatever\n",
    "    among down latter onto the when\n",
    "    an each less opposite their where\n",
    "    and either like or them whether\n",
    "    another enough little our these which\n",
    "    any every lots outside they while\n",
    "    anybody everybody many over this who\n",
    "    anyone everyone me own those whoever\n",
    "    anything everything more past though whom\n",
    "    are few most per through whose\n",
    "    around following much plenty till will\n",
    "    as for must plus to with\n",
    "    at from my regarding toward within\n",
    "    be have near same towards without\n",
    "    because he need several under worth\n",
    "    before her neither she unless would\n",
    "    behind him no should unlike yes\n",
    "    below i nobody since until you\n",
    "    beside if none so up your\n",
    "    \"\"\"\n",
    "\n",
    "    functional_words = functional_words.split()\n",
    "    count = 0\n",
    "\n",
    "    for i in text:\n",
    "        if i in functional_words:\n",
    "            count += 1\n",
    "\n",
    "    return count / len(text)"
   ]
  },
  {
   "cell_type": "code",
   "execution_count": 241,
   "id": "401383b6",
   "metadata": {},
   "outputs": [],
   "source": [
    "# hedgeWords = pd.read_csv(\"hedgeWords.txt\", sep=\"\\n\")\n",
    "def get_hedge_words(reviews_set):\n",
    "    hedgefile = open(\"hedgeWords.txt\", \"r\")\n",
    "    content = hedgefile.read()\n",
    "    hedgeWords = content.split(\"\\n\")\n",
    "    hedgefile.close()\n",
    "\n",
    "    hedging = []\n",
    "    for idx in tqdm(range(reviews_set.shape[0])):\n",
    "        hedging.append(sum(x == y for x, y in zip(reviews_set['review_text'], hedgeWords)))\n",
    "    print(len(hedging))\n",
    "    return hedging"
   ]
  },
  {
   "cell_type": "code",
   "execution_count": 242,
   "id": "db1516ff",
   "metadata": {},
   "outputs": [
    {
     "name": "stderr",
     "output_type": "stream",
     "text": [
      "100%|██████████| 20000/20000 [00:00<00:00, 44902.23it/s]"
     ]
    },
    {
     "name": "stdout",
     "output_type": "stream",
     "text": [
      "20000\n"
     ]
    },
    {
     "name": "stderr",
     "output_type": "stream",
     "text": [
      "\n"
     ]
    }
   ],
   "source": [
    "hedging = get_hedge_words(clean_gendered_reviews_mtc_small)"
   ]
  },
  {
   "cell_type": "code",
   "execution_count": 243,
   "id": "b5d34535",
   "metadata": {},
   "outputs": [],
   "source": [
    "import math \n",
    "\n",
    "def yulesCharacteristicK(words):\n",
    "    N = len(words)\n",
    "    K=0\n",
    "    if N>0:\n",
    "        freqs = Counter()\n",
    "        freqs.update(words)\n",
    "        vi = Counter()\n",
    "        vi.update(freqs.values())\n",
    "        M = sum([(value * value) * vi[value] for key, value in freqs.items()])\n",
    "        K = 10000 * (M - N) / math.pow(N, 2)\n",
    "    return K\n",
    "\n",
    "def get_vocabulary_richness(reviews_set):\n",
    "    vocabulary_richness = []\n",
    "    for idx in tqdm(range(reviews_set.shape[0])):\n",
    "        vocabulary_richness.append(yulesCharacteristicK(reviews_set['review_text'][idx]))\n",
    "    print(len(vocabulary_richness))\n",
    "    return vocabulary_richness"
   ]
  },
  {
   "cell_type": "code",
   "execution_count": 244,
   "id": "1ae7bdf6",
   "metadata": {},
   "outputs": [
    {
     "name": "stderr",
     "output_type": "stream",
     "text": [
      "100%|██████████| 20000/20000 [00:00<00:00, 32491.35it/s]"
     ]
    },
    {
     "name": "stdout",
     "output_type": "stream",
     "text": [
      "20000\n"
     ]
    },
    {
     "name": "stderr",
     "output_type": "stream",
     "text": [
      "\n"
     ]
    }
   ],
   "source": [
    "vocabulary_richness = get_vocabulary_richness(clean_gendered_reviews_mtc_small)"
   ]
  },
  {
   "cell_type": "code",
   "execution_count": 245,
   "id": "935ad383",
   "metadata": {},
   "outputs": [],
   "source": [
    "from nltk.tokenize import sent_tokenize\n",
    "\n",
    "def avg_wordLength(text):\n",
    "    return np.average([len(word) for word in text.split()])\n",
    "\n",
    "def avg_SentLenghtByCh(text):\n",
    "    tokens = sent_tokenize(text)\n",
    "    return np.average([len(token) for token in tokens])\n",
    "\n",
    "def avg_SentLenghtByWord(text):\n",
    "    tokens = sent_tokenize(text)\n",
    "    return np.average([len(token.split()) for token in tokens])\n",
    "\n",
    "def get_complexity(reviews_set):\n",
    "    complexity_1 = []\n",
    "    complexity_2 = []\n",
    "    complexity_3 = []\n",
    "    for idx in tqdm(range(reviews_set.shape[0])):\n",
    "        if len(small_gendered_reviews_mtc['review_text'][idx])>0:\n",
    "            complexity_1.append(avg_wordLength(reviews_set['review_text'][idx]))\n",
    "            complexity_2.append(avg_SentLenghtByCh(reviews_set['review_text'][idx]))\n",
    "            complexity_3.append(avg_SentLenghtByWord(reviews_set['review_text'][idx]))\n",
    "    #         complexity.append([avg_wordLength(small_gendered_reviews_mtc['review_text'][idx]), avg_SentLenghtByCh(small_gendered_reviews_mtc['review_text'][idx]), avg_SentLenghtByWord(small_gendered_reviews_mtc['review_text'][idx])])\n",
    "        else:\n",
    "            complexity_1.append(0)\n",
    "            complexity_2.append(0)\n",
    "            complexity_3.append(0)\n",
    "    print(len(complexity_1), len(complexity_2), len(complexity_3))\n",
    "    return complexity_1, complexity_2, complexity_3\n",
    "\n"
   ]
  },
  {
   "cell_type": "code",
   "execution_count": 246,
   "id": "fa2e890d",
   "metadata": {},
   "outputs": [
    {
     "name": "stderr",
     "output_type": "stream",
     "text": [
      "100%|██████████| 20000/20000 [00:04<00:00, 4686.03it/s]"
     ]
    },
    {
     "name": "stdout",
     "output_type": "stream",
     "text": [
      "20000 20000 20000\n"
     ]
    },
    {
     "name": "stderr",
     "output_type": "stream",
     "text": [
      "\n"
     ]
    }
   ],
   "source": [
    "complexity_1, complexity_2, complexity_3 = get_complexity(clean_gendered_reviews_mtc_small)"
   ]
  },
  {
   "cell_type": "markdown",
   "id": "76d53440",
   "metadata": {},
   "source": [
    "Fun fact: lowercase i is not recognised by pos_tagger as a pronoun. A little hacky solution used:"
   ]
  },
  {
   "cell_type": "code",
   "execution_count": 247,
   "id": "a04e3d85",
   "metadata": {},
   "outputs": [],
   "source": [
    "from nltk import word_tokenize, pos_tag\n",
    "\n",
    "def get_pronouns(reviews_set):\n",
    "    pos_pronouns = []\n",
    "    for idx in tqdm(range(reviews_set.shape[0])):\n",
    "        if len(reviews_set['review_text'][idx])>0:\n",
    "            pos_pronouns.append(sum(1 for word, pos in pos_tag(word_tokenize(reviews_set['review_text'][idx])) if pos.startswith('PR') or word == \"i\")/len(word_tokenize(reviews_set['review_text'][idx])))\n",
    "        else:\n",
    "            pos_pronouns.append(0)\n",
    "    print(len(pos_pronouns))\n",
    "    return pos_pronouns"
   ]
  },
  {
   "cell_type": "code",
   "execution_count": 248,
   "id": "c8bab6fd",
   "metadata": {},
   "outputs": [
    {
     "name": "stderr",
     "output_type": "stream",
     "text": [
      "100%|██████████| 20000/20000 [01:21<00:00, 244.58it/s]"
     ]
    },
    {
     "name": "stdout",
     "output_type": "stream",
     "text": [
      "20000\n"
     ]
    },
    {
     "name": "stderr",
     "output_type": "stream",
     "text": [
      "\n"
     ]
    }
   ],
   "source": [
    "pronouns = get_pronouns(clean_gendered_reviews_mtc_small)"
   ]
  },
  {
   "cell_type": "code",
   "execution_count": null,
   "id": "ab6db84e",
   "metadata": {},
   "outputs": [],
   "source": []
  },
  {
   "cell_type": "code",
   "execution_count": null,
   "id": "d31d862e",
   "metadata": {},
   "outputs": [],
   "source": []
  },
  {
   "cell_type": "code",
   "execution_count": null,
   "id": "3de88ba8",
   "metadata": {},
   "outputs": [],
   "source": []
  },
  {
   "cell_type": "markdown",
   "id": "fdca5a43",
   "metadata": {},
   "source": [
    "### Testing out Logistic Regression "
   ]
  },
  {
   "cell_type": "code",
   "execution_count": 249,
   "id": "385ed78a",
   "metadata": {},
   "outputs": [],
   "source": [
    "from sklearn.model_selection import train_test_split\n",
    "from sklearn.linear_model import LogisticRegression\n",
    "from sklearn.feature_extraction.text import CountVectorizer,TfidfVectorizer"
   ]
  },
  {
   "cell_type": "code",
   "execution_count": 304,
   "id": "df754c26",
   "metadata": {},
   "outputs": [],
   "source": [
    "df = pd.DataFrame()"
   ]
  },
  {
   "cell_type": "code",
   "execution_count": 306,
   "id": "fbcb5b19",
   "metadata": {},
   "outputs": [
    {
     "name": "stdout",
     "output_type": "stream",
     "text": [
      "<class 'pandas.core.frame.DataFrame'>\n",
      "RangeIndex: 20000 entries, 0 to 19999\n",
      "Data columns (total 3 columns):\n",
      " #   Column       Non-Null Count  Dtype  \n",
      "---  ------       --------------  -----  \n",
      " 0   complexity1  20000 non-null  float64\n",
      " 1   complexity2  20000 non-null  float64\n",
      " 2   complexity3  20000 non-null  float64\n",
      "dtypes: float64(3)\n",
      "memory usage: 468.9 KB\n"
     ]
    }
   ],
   "source": [
    "df.info()"
   ]
  },
  {
   "cell_type": "code",
   "execution_count": 252,
   "id": "d15f4521",
   "metadata": {},
   "outputs": [],
   "source": [
    "df['frequency'] = lexical_markers"
   ]
  },
  {
   "cell_type": "code",
   "execution_count": 286,
   "id": "d622b4fd",
   "metadata": {},
   "outputs": [],
   "source": [
    "df['hedging'] = hedging"
   ]
  },
  {
   "cell_type": "code",
   "execution_count": 295,
   "id": "226a2a7d",
   "metadata": {},
   "outputs": [],
   "source": [
    "df['vocabulary_richness'] = vocabulary_richness"
   ]
  },
  {
   "cell_type": "code",
   "execution_count": 305,
   "id": "e6ceabff",
   "metadata": {},
   "outputs": [],
   "source": [
    "df['complexity1'] = complexity_1\n",
    "df['complexity2'] = complexity_2\n",
    "df['complexity3'] = complexity_3"
   ]
  },
  {
   "cell_type": "code",
   "execution_count": 274,
   "id": "c7a3f84d",
   "metadata": {},
   "outputs": [],
   "source": [
    "df['pronouns'] = pronouns"
   ]
  },
  {
   "cell_type": "code",
   "execution_count": null,
   "id": "de183923",
   "metadata": {},
   "outputs": [],
   "source": [
    "training_data, testing_data = train_test_split(small_gendered_reviews_mtc,random_state = 0)\n",
    "training_data.info(), testing_data.info()"
   ]
  },
  {
   "cell_type": "code",
   "execution_count": null,
   "id": "6910cb29",
   "metadata": {},
   "outputs": [],
   "source": []
  },
  {
   "cell_type": "code",
   "execution_count": null,
   "id": "3c6b1e55",
   "metadata": {},
   "outputs": [],
   "source": [
    "Y_train=training_data['gender'].values\n",
    "Y_test=testing_data['gender'].values"
   ]
  },
  {
   "cell_type": "code",
   "execution_count": null,
   "id": "63ab1813",
   "metadata": {},
   "outputs": [],
   "source": []
  },
  {
   "cell_type": "code",
   "execution_count": null,
   "id": "37233fa7",
   "metadata": {},
   "outputs": [],
   "source": [
    "X_train,X_test,feature_transformer=extract_features(small_gendered_reviews_mtc, 'review_text', training_data,testing_data)\n",
    "\n"
   ]
  },
  {
   "cell_type": "code",
   "execution_count": 254,
   "id": "95a882e0",
   "metadata": {},
   "outputs": [],
   "source": [
    "Y_train=clean_gendered_reviews_mtc_small[:15000]['gender'].values\n",
    "Y_test=clean_gendered_reviews_mtc_small[15000:]['gender'].values"
   ]
  },
  {
   "cell_type": "code",
   "execution_count": 307,
   "id": "20d7dcfb",
   "metadata": {},
   "outputs": [
    {
     "name": "stdout",
     "output_type": "stream",
     "text": [
      "[LibLinear]"
     ]
    }
   ],
   "source": [
    "scikit_log_reg = LogisticRegression(verbose=1, solver='liblinear',random_state=0, C=5, penalty='l2',max_iter=10000)\n",
    "model=scikit_log_reg.fit(df[:15000],Y_train)"
   ]
  },
  {
   "cell_type": "code",
   "execution_count": 308,
   "id": "e14f4d6c",
   "metadata": {},
   "outputs": [
    {
     "data": {
      "text/plain": [
       "array(['female', 'female', 'female', ..., 'female', 'female', 'female'],\n",
       "      dtype=object)"
      ]
     },
     "execution_count": 308,
     "metadata": {},
     "output_type": "execute_result"
    }
   ],
   "source": [
    "predicted = model.predict(df[15000:])\n",
    "predicted"
   ]
  },
  {
   "cell_type": "code",
   "execution_count": 309,
   "id": "3e5279e5",
   "metadata": {},
   "outputs": [
    {
     "data": {
      "text/plain": [
       "array([[0.77602399, 0.22397601],\n",
       "       [0.77126578, 0.22873422],\n",
       "       [0.73582976, 0.26417024],\n",
       "       ...,\n",
       "       [0.77486768, 0.22513232],\n",
       "       [0.77624858, 0.22375142],\n",
       "       [0.7680778 , 0.2319222 ]])"
      ]
     },
     "execution_count": 309,
     "metadata": {},
     "output_type": "execute_result"
    }
   ],
   "source": [
    "probs = model.predict_proba(df[15000:])\n",
    "probs"
   ]
  },
  {
   "cell_type": "code",
   "execution_count": 257,
   "id": "acece29a",
   "metadata": {},
   "outputs": [
    {
     "name": "stdout",
     "output_type": "stream",
     "text": [
      "Accuracy  0.7828\n"
     ]
    }
   ],
   "source": [
    "from sklearn.metrics import log_loss,accuracy_score\n",
    "\n",
    "print((\"Accuracy  \") + str(accuracy_score(Y_test, predicted)))"
   ]
  },
  {
   "cell_type": "code",
   "execution_count": 310,
   "id": "60954de1",
   "metadata": {},
   "outputs": [],
   "source": [
    "Y_test_n = [0 if y == \"male\" else 1 for y in Y_test]\n",
    "probs_n = [i[0] for i in probs]"
   ]
  },
  {
   "cell_type": "code",
   "execution_count": 268,
   "id": "9df1e7e8",
   "metadata": {},
   "outputs": [],
   "source": [
    "import sklearn.metrics as metrics\n",
    "\n",
    "def regression_results(y_true, y_pred):\n",
    "\n",
    "    # Regression metrics\n",
    "    explained_variance=metrics.explained_variance_score(y_true, y_pred)\n",
    "    mean_absolute_error=metrics.mean_absolute_error(y_true, y_pred) \n",
    "    mse=metrics.mean_squared_error(y_true, y_pred) \n",
    "    mean_squared_log_error=metrics.mean_squared_log_error(y_true, y_pred)\n",
    "    median_absolute_error=metrics.median_absolute_error(y_true, y_pred)\n",
    "    r2=metrics.r2_score(y_true, y_pred)\n",
    "\n",
    "    print('explained_variance: ', round(explained_variance,4))    \n",
    "    print('mean_squared_log_error: ', round(mean_squared_log_error,4))\n",
    "    print('r2: ', round(r2,4))\n",
    "    print('MAE: ', round(mean_absolute_error,4))\n",
    "    print('MSE: ', round(mse,4))\n",
    "    print('RMSE: ', round(np.sqrt(mse),4))\n",
    "    \n"
   ]
  },
  {
   "cell_type": "code",
   "execution_count": null,
   "id": "acc2635b",
   "metadata": {},
   "outputs": [],
   "source": []
  },
  {
   "cell_type": "code",
   "execution_count": null,
   "id": "5292d615",
   "metadata": {},
   "outputs": [],
   "source": []
  },
  {
   "cell_type": "markdown",
   "id": "5d92afb4",
   "metadata": {},
   "source": [
    "### Writing Style vs LR: Analysis"
   ]
  },
  {
   "cell_type": "markdown",
   "id": "87b21cb2",
   "metadata": {},
   "source": [
    "#### Only frequency"
   ]
  },
  {
   "cell_type": "code",
   "execution_count": 271,
   "id": "c60d4bd9",
   "metadata": {},
   "outputs": [
    {
     "name": "stdout",
     "output_type": "stream",
     "text": [
      "Accuracy  0.7828\n"
     ]
    }
   ],
   "source": [
    "print((\"Accuracy  \") + str(accuracy_score(Y_test, predicted)))"
   ]
  },
  {
   "cell_type": "code",
   "execution_count": 270,
   "id": "91da11db",
   "metadata": {},
   "outputs": [
    {
     "name": "stdout",
     "output_type": "stream",
     "text": [
      "explained_variance:  -0.0012\n",
      "mean_squared_log_error:  0.0825\n",
      "r2:  -0.0024\n",
      "MAE:  0.3481\n",
      "MSE:  0.1704\n",
      "RMSE:  0.4128\n"
     ]
    }
   ],
   "source": [
    "regression_results(Y_test_n, probs_n)"
   ]
  },
  {
   "cell_type": "code",
   "execution_count": 266,
   "id": "ebce4ed5",
   "metadata": {},
   "outputs": [
    {
     "data": {
      "text/plain": [
       "<matplotlib.collections.PathCollection at 0x7fd573354940>"
      ]
     },
     "execution_count": 266,
     "metadata": {},
     "output_type": "execute_result"
    },
    {
     "data": {
      "image/png": "[encoded data removed]",
      "text/plain": [
       "<Figure size 432x288 with 1 Axes>"
      ]
     },
     "metadata": {
      "needs_background": "light"
     },
     "output_type": "display_data"
    }
   ],
   "source": [
    "import matplotlib.pyplot as plt\n",
    "plt.plot(probs_n, df[15000:])"
   ]
  },
  {
   "cell_type": "markdown",
   "id": "dc195bbf",
   "metadata": {},
   "source": [
    "#### Only pronouns"
   ]
  },
  {
   "cell_type": "code",
   "execution_count": 280,
   "id": "4aff93e9",
   "metadata": {},
   "outputs": [
    {
     "name": "stdout",
     "output_type": "stream",
     "text": [
      "Accuracy  0.7828\n"
     ]
    }
   ],
   "source": [
    "print((\"Accuracy  \") + str(accuracy_score(Y_test, predicted)))"
   ]
  },
  {
   "cell_type": "code",
   "execution_count": 281,
   "id": "7c90bdf0",
   "metadata": {},
   "outputs": [
    {
     "name": "stdout",
     "output_type": "stream",
     "text": [
      "explained_variance:  -0.0012\n",
      "mean_squared_log_error:  0.0825\n",
      "r2:  -0.0024\n",
      "MAE:  0.3481\n",
      "MSE:  0.1704\n",
      "RMSE:  0.4128\n"
     ]
    }
   ],
   "source": [
    "regression_results(Y_test_n, probs_n)"
   ]
  },
  {
   "cell_type": "code",
   "execution_count": 284,
   "id": "d0f8e37a",
   "metadata": {},
   "outputs": [
    {
     "data": {
      "text/plain": [
       "<matplotlib.collections.PathCollection at 0x7fd582861790>"
      ]
     },
     "execution_count": 284,
     "metadata": {},
     "output_type": "execute_result"
    },
    {
     "data": {
      "image/png": "[encoded data removed]",
      "text/plain": [
       "<Figure size 432x288 with 1 Axes>"
      ]
     },
     "metadata": {
      "needs_background": "light"
     },
     "output_type": "display_data"
    }
   ],
   "source": [
    "plt.scatter(probs_n, df[15000:])"
   ]
  },
  {
   "cell_type": "markdown",
   "id": "c77b6ecb",
   "metadata": {},
   "source": [
    "#### Only vocabulary richness"
   ]
  },
  {
   "cell_type": "code",
   "execution_count": 301,
   "id": "66beeddb",
   "metadata": {},
   "outputs": [
    {
     "name": "stdout",
     "output_type": "stream",
     "text": [
      "Accuracy  0.7812\n"
     ]
    }
   ],
   "source": [
    "print((\"Accuracy  \") + str(accuracy_score(Y_test, predicted)))"
   ]
  },
  {
   "cell_type": "code",
   "execution_count": 303,
   "id": "307d10a1",
   "metadata": {},
   "outputs": [
    {
     "name": "stdout",
     "output_type": "stream",
     "text": [
      "explained_variance:  -0.0106\n",
      "mean_squared_log_error:  0.0833\n",
      "r2:  -0.011\n",
      "MAE:  0.3453\n",
      "MSE:  0.1719\n",
      "RMSE:  0.4146\n"
     ]
    }
   ],
   "source": [
    "regression_results(Y_test_n, probs_n)"
   ]
  },
  {
   "cell_type": "code",
   "execution_count": 302,
   "id": "106c5ccf",
   "metadata": {},
   "outputs": [
    {
     "data": {
      "text/plain": [
       "<matplotlib.collections.PathCollection at 0x7fd5f90e0520>"
      ]
     },
     "execution_count": 302,
     "metadata": {},
     "output_type": "execute_result"
    },
    {
     "data": {
      "image/png": "[encoded data removed]",
      "text/plain": [
       "<Figure size 432x288 with 1 Axes>"
      ]
     },
     "metadata": {
      "needs_background": "light"
     },
     "output_type": "display_data"
    }
   ],
   "source": [
    "plt.scatter(probs_n, df[15000:])"
   ]
  },
  {
   "cell_type": "markdown",
   "id": "35be332f",
   "metadata": {},
   "source": [
    "#### Only complexity"
   ]
  },
  {
   "cell_type": "code",
   "execution_count": 311,
   "id": "0e66ed2c",
   "metadata": {},
   "outputs": [
    {
     "name": "stdout",
     "output_type": "stream",
     "text": [
      "Accuracy  0.7804\n"
     ]
    }
   ],
   "source": [
    "print((\"Accuracy  \") + str(accuracy_score(Y_test, predicted)))"
   ]
  },
  {
   "cell_type": "code",
   "execution_count": 320,
   "id": "f149f7bb",
   "metadata": {},
   "outputs": [
    {
     "data": {
      "text/plain": [
       "<matplotlib.collections.PathCollection at 0x7fd47004a7f0>"
      ]
     },
     "execution_count": 320,
     "metadata": {},
     "output_type": "execute_result"
    },
    {
     "data": {
      "image/png": "[encoded data removed]",
      "text/plain": [
       "<Figure size 432x288 with 1 Axes>"
      ]
     },
     "metadata": {
      "needs_background": "light"
     },
     "output_type": "display_data"
    }
   ],
   "source": [
    "plt.scatter(probs_n, df.iloc[:, 0][15000:])"
   ]
  },
  {
   "cell_type": "code",
   "execution_count": 321,
   "id": "724d9b8c",
   "metadata": {},
   "outputs": [
    {
     "data": {
      "text/plain": [
       "<matplotlib.collections.PathCollection at 0x7fd7892dd7c0>"
      ]
     },
     "execution_count": 321,
     "metadata": {},
     "output_type": "execute_result"
    },
    {
     "data": {
      "image/png": "[encoded data removed]",
      "text/plain": [
       "<Figure size 432x288 with 1 Axes>"
      ]
     },
     "metadata": {
      "needs_background": "light"
     },
     "output_type": "display_data"
    }
   ],
   "source": [
    "plt.scatter(probs_n, df.iloc[:, 1][15000:])"
   ]
  },
  {
   "cell_type": "code",
   "execution_count": 322,
   "id": "0fd09715",
   "metadata": {},
   "outputs": [
    {
     "data": {
      "text/plain": [
       "<matplotlib.collections.PathCollection at 0x7fd576fe28b0>"
      ]
     },
     "execution_count": 322,
     "metadata": {},
     "output_type": "execute_result"
    },
    {
     "data": {
      "image/png": "[encoded data removed]",
      "text/plain": [
       "<Figure size 432x288 with 1 Axes>"
      ]
     },
     "metadata": {
      "needs_background": "light"
     },
     "output_type": "display_data"
    }
   ],
   "source": [
    "plt.scatter(probs_n, df.iloc[:, 2][15000:])"
   ]
  },
  {
   "cell_type": "code",
   "execution_count": null,
   "id": "29399e23",
   "metadata": {},
   "outputs": [],
   "source": []
  },
  {
   "cell_type": "code",
   "execution_count": null,
   "id": "2b212168",
   "metadata": {},
   "outputs": [],
   "source": []
  },
  {
   "cell_type": "code",
   "execution_count": null,
   "id": "07188b44",
   "metadata": {},
   "outputs": [],
   "source": []
  },
  {
   "cell_type": "code",
   "execution_count": null,
   "id": "d1e4ab28",
   "metadata": {},
   "outputs": [],
   "source": []
  },
  {
   "cell_type": "markdown",
   "id": "4f3db9eb",
   "metadata": {},
   "source": [
    "### Content Features\n",
    "\n",
    "Perplexity, OOV words, Entropy and other features. Will be explained later :)"
   ]
  },
  {
   "cell_type": "code",
   "execution_count": 323,
   "id": "a60b9c12",
   "metadata": {},
   "outputs": [],
   "source": [
    "import scipy as sc\n",
    "\n",
    "def ShannonEntropy(words):\n",
    "    if len(words) == 0:\n",
    "        return 0\n",
    "    freqs = Counter()\n",
    "    freqs.update(words)\n",
    "    arr = np.array(list(freqs.values()))\n",
    "    distribution = 1. * arr\n",
    "    distribution /= max(1, len(words))\n",
    "    \n",
    "    H = sc.stats.entropy(distribution, base=2)\n",
    "    return H\n"
   ]
  },
  {
   "cell_type": "code",
   "execution_count": 324,
   "id": "9d078cd7",
   "metadata": {},
   "outputs": [],
   "source": [
    "def SimpsonsIndex(words):\n",
    "    if len(words) < 2:\n",
    "        return 0\n",
    "    freqs = Counter()\n",
    "    freqs.update(words)\n",
    "    N = len(words)\n",
    "    n = sum([1.0 * i * (i - 1) for i in freqs.values()])\n",
    "    D = 1 - (n / (N * (N - 1)))\n",
    "    return D"
   ]
  },
  {
   "cell_type": "code",
   "execution_count": null,
   "id": "84cf6601",
   "metadata": {},
   "outputs": [],
   "source": []
  },
  {
   "cell_type": "code",
   "execution_count": null,
   "id": "e0a609e5",
   "metadata": {},
   "outputs": [],
   "source": []
  },
  {
   "cell_type": "code",
   "execution_count": null,
   "id": "ecc6de5c",
   "metadata": {},
   "outputs": [],
   "source": []
  },
  {
   "cell_type": "code",
   "execution_count": 325,
   "id": "1444d103",
   "metadata": {},
   "outputs": [
    {
     "name": "stderr",
     "output_type": "stream",
     "text": [
      "100%|██████████| 29656/29656 [00:02<00:00, 13551.04it/s]\n"
     ]
    },
    {
     "data": {
      "text/plain": [
       "(29656, 29656)"
      ]
     },
     "execution_count": 325,
     "metadata": {},
     "output_type": "execute_result"
    }
   ],
   "source": [
    "entropy = []\n",
    "simpsons = []\n",
    "for idx in tqdm(range(small_gendered_reviews_mtc.shape[0])):\n",
    "    entropy.append(ShannonEntropy(small_gendered_reviews_mtc['review_text'][idx]))\n",
    "    simpsons.append(SimpsonsIndex(small_gendered_reviews_mtc['review_text'][idx]))\n",
    "len(entropy), len(simpsons)"
   ]
  },
  {
   "cell_type": "code",
   "execution_count": 327,
   "id": "66047528",
   "metadata": {},
   "outputs": [
    {
     "name": "stdout",
     "output_type": "stream",
     "text": [
      "<class 'pandas.core.frame.DataFrame'>\n",
      "RangeIndex: 29656 entries, 0 to 29655\n",
      "Data columns (total 2 columns):\n",
      " #   Column    Non-Null Count  Dtype  \n",
      "---  ------    --------------  -----  \n",
      " 0   entropy   29656 non-null  float64\n",
      " 1   simpsons  29656 non-null  float64\n",
      "dtypes: float64(2)\n",
      "memory usage: 463.5 KB\n"
     ]
    }
   ],
   "source": [
    "df_content = pd.DataFrame()\n",
    "df_content['entropy'] = entropy\n",
    "df_content['simpsons'] = simpsons\n",
    "df_content.info()"
   ]
  },
  {
   "cell_type": "code",
   "execution_count": 328,
   "id": "94c8089c",
   "metadata": {},
   "outputs": [
    {
     "name": "stdout",
     "output_type": "stream",
     "text": [
      "[LibLinear]"
     ]
    },
    {
     "data": {
      "text/plain": [
       "array(['female', 'female', 'female', ..., 'female', 'female', 'female'],\n",
       "      dtype=object)"
      ]
     },
     "execution_count": 328,
     "metadata": {},
     "output_type": "execute_result"
    }
   ],
   "source": [
    "scikit_log_reg = LogisticRegression(verbose=1, solver='liblinear',random_state=0, C=5, penalty='l2',max_iter=10000)\n",
    "model=scikit_log_reg.fit(df_content[:20000],small_gendered_reviews_mtc[:20000]['gender'])\n",
    "predicted = model.predict(df_content[20000:])\n",
    "predicted"
   ]
  },
  {
   "cell_type": "code",
   "execution_count": 330,
   "id": "cbadbd47",
   "metadata": {},
   "outputs": [
    {
     "name": "stdout",
     "output_type": "stream",
     "text": [
      "Accuracy  0.7922535211267606\n"
     ]
    }
   ],
   "source": [
    "print((\"Accuracy  \") + str(accuracy_score(small_gendered_reviews_mtc[20000:]['gender'], predicted)))"
   ]
  },
  {
   "cell_type": "code",
   "execution_count": 331,
   "id": "20028d08",
   "metadata": {
    "scrolled": true
   },
   "outputs": [
    {
     "data": {
      "text/plain": [
       "array([[0.77771166, 0.22228834],\n",
       "       [0.77315277, 0.22684723],\n",
       "       [0.76591376, 0.23408624],\n",
       "       ...,\n",
       "       [0.77489565, 0.22510435],\n",
       "       [0.75778878, 0.24221122],\n",
       "       [0.77080842, 0.22919158]])"
      ]
     },
     "execution_count": 331,
     "metadata": {},
     "output_type": "execute_result"
    }
   ],
   "source": [
    "probs = model.predict_proba(df_content[20000:])\n",
    "probs"
   ]
  },
  {
   "cell_type": "code",
   "execution_count": 332,
   "id": "8573b592",
   "metadata": {},
   "outputs": [],
   "source": [
    "Y_test_content = [0 if y == \"male\" else 1 for y in small_gendered_reviews_mtc[20000:]['gender']]\n",
    "probs_content = [i[0] for i in probs]"
   ]
  },
  {
   "cell_type": "code",
   "execution_count": 335,
   "id": "a46514ad",
   "metadata": {
    "scrolled": true
   },
   "outputs": [
    {
     "data": {
      "text/plain": [
       "<matplotlib.collections.PathCollection at 0x7fd7700d9910>"
      ]
     },
     "execution_count": 335,
     "metadata": {},
     "output_type": "execute_result"
    },
    {
     "data": {
      "image/png": "[encoded data removed]",
      "text/plain": [
       "<Figure size 432x288 with 1 Axes>"
      ]
     },
     "metadata": {
      "needs_background": "light"
     },
     "output_type": "display_data"
    }
   ],
   "source": [
    "plt.scatter(probs_content, df_content.iloc[:,0][20000:])"
   ]
  },
  {
   "cell_type": "code",
   "execution_count": 336,
   "id": "8082d494",
   "metadata": {},
   "outputs": [
    {
     "data": {
      "text/plain": [
       "<matplotlib.collections.PathCollection at 0x7fd5458fbac0>"
      ]
     },
     "execution_count": 336,
     "metadata": {},
     "output_type": "execute_result"
    },
    {
     "data": {
      "image/png": "[encoded data removed]",
      "text/plain": [
       "<Figure size 432x288 with 1 Axes>"
      ]
     },
     "metadata": {
      "needs_background": "light"
     },
     "output_type": "display_data"
    }
   ],
   "source": [
    "plt.scatter(probs_content, df_content.iloc[:,1][20000:])"
   ]
  },
  {
   "cell_type": "code",
   "execution_count": null,
   "id": "5efea677",
   "metadata": {},
   "outputs": [],
   "source": []
  },
  {
   "cell_type": "markdown",
   "id": "d6ea271a",
   "metadata": {},
   "source": [
    "### Some random readability analysis "
   ]
  },
  {
   "cell_type": "code",
   "execution_count": null,
   "id": "f9de1be0",
   "metadata": {},
   "outputs": [],
   "source": [
    "def FleschReadingEase(text, NoOfsentences):\n",
    "    l = float(len(words))\n",
    "    scount = 0\n",
    "    for word in words:\n",
    "        scount += syllable_count(word)\n",
    "\n",
    "    I = 206.835 - 1.015 * (l / float(NoOfsentences)) - 84.6 * (scount / float(l))\n",
    "    return I"
   ]
  },
  {
   "cell_type": "code",
   "execution_count": null,
   "id": "1352d8ba",
   "metadata": {},
   "outputs": [],
   "source": []
  },
  {
   "cell_type": "code",
   "execution_count": null,
   "id": "bc1448ad",
   "metadata": {},
   "outputs": [],
   "source": []
  },
  {
   "cell_type": "code",
   "execution_count": null,
   "id": "4f9330dd",
   "metadata": {},
   "outputs": [],
   "source": []
  },
  {
   "cell_type": "code",
   "execution_count": null,
   "id": "c093ed5b",
   "metadata": {},
   "outputs": [],
   "source": []
  },
  {
   "cell_type": "markdown",
   "id": "483ca38f",
   "metadata": {},
   "source": [
    "### Analysis on Review Counts, Gender\n",
    "\n"
   ]
  },
  {
   "cell_type": "code",
   "execution_count": null,
   "id": "ef1eeeb5",
   "metadata": {},
   "outputs": [],
   "source": []
  },
  {
   "cell_type": "code",
   "execution_count": null,
   "id": "c36c1977",
   "metadata": {},
   "outputs": [],
   "source": []
  },
  {
   "cell_type": "code",
   "execution_count": null,
   "id": "e1c280fe",
   "metadata": {},
   "outputs": [],
   "source": []
  },
  {
   "cell_type": "code",
   "execution_count": null,
   "id": "4e264635",
   "metadata": {},
   "outputs": [],
   "source": []
  },
  {
   "cell_type": "code",
   "execution_count": null,
   "id": "e520ac54",
   "metadata": {},
   "outputs": [],
   "source": []
  },
  {
   "cell_type": "code",
   "execution_count": null,
   "id": "e88fb1f7",
   "metadata": {},
   "outputs": [],
   "source": []
  },
  {
   "cell_type": "code",
   "execution_count": null,
   "id": "d53c9e27",
   "metadata": {},
   "outputs": [],
   "source": []
  },
  {
   "cell_type": "code",
   "execution_count": null,
   "id": "e3e1992e",
   "metadata": {},
   "outputs": [],
   "source": []
  },
  {
   "cell_type": "code",
   "execution_count": null,
   "id": "7a7dbf40",
   "metadata": {},
   "outputs": [],
   "source": []
  },
  {
   "cell_type": "markdown",
   "id": "4f13ea04",
   "metadata": {},
   "source": [
    "### A lot of random code, ignore"
   ]
  },
  {
   "cell_type": "code",
   "execution_count": 261,
   "id": "89806b0a",
   "metadata": {},
   "outputs": [],
   "source": [
    "def extract_features(df,field, training_data,testing_data):\n",
    "    \"\"\"Extract features using different methods\"\"\" \n",
    "        \n",
    "    # TF-IDF BASED FEATURE REPRESENTATION\n",
    "    tfidf_vectorizer=TfidfVectorizer(use_idf=True, max_df=0.95)\n",
    "    tfidf_vectorizer.fit_transform(training_data[field].values)\n",
    "\n",
    "    train_feature_set=tfidf_vectorizer.transform(training_data[field].values)\n",
    "    test_feature_set=tfidf_vectorizer.transform(testing_data[field].values)\n",
    "\n",
    "    return train_feature_set,test_feature_set,tfidf_vectorizer\n"
   ]
  }
 ],
 "metadata": {
  "kernelspec": {
   "display_name": "Python 3",
   "language": "python",
   "name": "python3"
  },
  "language_info": {
   "codemirror_mode": {
    "name": "ipython",
    "version": 3
   },
   "file_extension": ".py",
   "mimetype": "text/x-python",
   "name": "python",
   "nbconvert_exporter": "python",
   "pygments_lexer": "ipython3",
   "version": "3.8.8"
  }
 },
 "nbformat": 4,
 "nbformat_minor": 5
}
